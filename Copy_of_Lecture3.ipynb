{
  "cells": [
    {
      "cell_type": "markdown",
      "metadata": {
        "id": "view-in-github",
        "colab_type": "text"
      },
      "source": [
        "<a href=\"https://colab.research.google.com/github/duong4595/ib9cw0-text-analytics-23-24/blob/main/Copy_of_Lecture3.ipynb\" target=\"_parent\"><img src=\"https://colab.research.google.com/assets/colab-badge.svg\" alt=\"Open In Colab\"/></a>"
      ]
    },
    {
      "cell_type": "markdown",
      "metadata": {
        "id": "uE8bZiPYuFd-"
      },
      "source": [
        "# Topic Modeling\n",
        "Topic Modeling is a type of statistical modeling for discovering the abstract \"topics\" that occur in a collection of documents. It is a frequent technique in text mining for uncovering hidden semantic structures in a text body. This process is useful in various applications like organizing large archives of texts, summarizing information, and aiding in understanding the main themes of texts without reading them in full. We will look at several techniques for topic modeling including LDA, LSA, NMF and BERTopic.\n"
      ]
    },
    {
      "cell_type": "markdown",
      "metadata": {
        "id": "25yLd5ocYXUo"
      },
      "source": [
        "## LDA"
      ]
    },
    {
      "cell_type": "code",
      "execution_count": null,
      "metadata": {
        "id": "95lCXgr3wqu1"
      },
      "outputs": [],
      "source": [
        "import nltk\n",
        "from nltk.corpus import stopwords\n",
        "from nltk.stem import WordNetLemmatizer, PorterStemmer, SnowballStemmer"
      ]
    },
    {
      "cell_type": "code",
      "execution_count": null,
      "metadata": {
        "colab": {
          "base_uri": "https://localhost:8080/"
        },
        "id": "QAqJytSaw2ON",
        "outputId": "a73cacc7-b1ef-4f1f-e503-5f6647bdfb1e"
      },
      "outputs": [
        {
          "output_type": "stream",
          "name": "stderr",
          "text": [
            "[nltk_data] Downloading package punkt to /root/nltk_data...\n",
            "[nltk_data]   Unzipping tokenizers/punkt.zip.\n",
            "[nltk_data] Downloading package stopwords to /root/nltk_data...\n",
            "[nltk_data]   Unzipping corpora/stopwords.zip.\n",
            "[nltk_data] Downloading package wordnet to /root/nltk_data...\n"
          ]
        },
        {
          "output_type": "execute_result",
          "data": {
            "text/plain": [
              "True"
            ]
          },
          "metadata": {},
          "execution_count": 2
        }
      ],
      "source": [
        "nltk.download('punkt')\n",
        "nltk.download('stopwords')\n",
        "nltk.download('wordnet')\n",
        "# nltk.download() to look at options"
      ]
    },
    {
      "cell_type": "code",
      "execution_count": null,
      "metadata": {
        "id": "pQhxTxC-w_gl"
      },
      "outputs": [],
      "source": [
        "import gensim\n",
        "from gensim.corpora import Dictionary\n",
        "from gensim.models import LdaModel"
      ]
    },
    {
      "cell_type": "code",
      "execution_count": null,
      "metadata": {
        "id": "_dZIXC-il2WQ"
      },
      "outputs": [],
      "source": [
        "# Function to preprocess the data\n",
        "def preprocess_texts(documents):\n",
        "    stop_words = set(stopwords.words('english'))\n",
        "    lemmatizer = WordNetLemmatizer()\n",
        "\n",
        "    preprocessed_texts = []\n",
        "    for text in documents:\n",
        "        text = text.lower()\n",
        "        tokens = nltk.word_tokenize(text)\n",
        "        tokens = [token for token in tokens if token not in stop_words and token.isalpha()]\n",
        "        tokens = [lemmatizer.lemmatize(token) for token in tokens]\n",
        "        preprocessed_texts.append(tokens)  # Append list of tokens directly, without joining them into a string\n",
        "\n",
        "    return preprocessed_texts\n"
      ]
    },
    {
      "cell_type": "code",
      "execution_count": null,
      "metadata": {
        "id": "gunkoo8EuAg5"
      },
      "outputs": [],
      "source": [
        "# Sample data and preprocessing\n",
        "documents = [\n",
        "    \"Sugar is bad to consume. My sister likes to have sugar, but not my father.\",\n",
        "    \"My father spends a lot of time driving my brother around to baseball practice.\",\n",
        "    \"Some health experts suggest that driving may cause increased stress and blood pressure.\",\n",
        "    \"I often feel pressure to perform well at school, but my father never seems to drive my sister to do better.\",\n",
        "    \"Health professionals say that Sugar is not good for your lifestyle.\"\n",
        "]\n",
        "\n",
        "# 'texts' will be a list of lists of tokens\n",
        "texts = preprocess_texts(documents)\n",
        "\n",
        "dictionary = Dictionary(texts)\n",
        "\n",
        "# Create a document-term matrix\n",
        "corpus = [dictionary.doc2bow(text) for text in texts]\n"
      ]
    },
    {
      "cell_type": "code",
      "execution_count": null,
      "metadata": {
        "colab": {
          "base_uri": "https://localhost:8080/"
        },
        "id": "QXI8X2EU8GlT",
        "outputId": "b54f42eb-de29-4434-cf80-766e4d75112b"
      },
      "outputs": [
        {
          "output_type": "stream",
          "name": "stdout",
          "text": [
            "(0, '0.073*\"health\" + 0.044*\"driving\" + 0.044*\"pressure\" + 0.044*\"cause\" + 0.044*\"sugar\"')\n",
            "(1, '0.076*\"father\" + 0.055*\"sugar\" + 0.054*\"sister\" + 0.033*\"better\" + 0.033*\"never\"')\n"
          ]
        }
      ],
      "source": [
        "# Set parameters\n",
        "num_topics = 2\n",
        "passes = 10 #how many iterations\n",
        "\n",
        "# Create the LDA model\n",
        "lda = LdaModel(corpus=corpus, id2word=dictionary, num_topics=num_topics, passes=passes)\n",
        "\n",
        "# Display the topics\n",
        "topics = lda.print_topics(num_words=5) #print 5 important words of each topic\n",
        "for topic in topics:\n",
        "    print(topic)\n"
      ]
    },
    {
      "cell_type": "markdown",
      "metadata": {
        "id": "8QCbB1c389rT"
      },
      "source": [
        "The variations in output each time you run an LDA model are due to the stochastic nature of the algorithms used in Latent Dirichlet Allocation. Here are the key reasons for these variations:\n",
        "\n",
        "* Random Initialization: Most LDA implementations (including gensim) start with a random initialization of the topic assignments for each word. This randomness affects the subsequent updates and iterations of the algorithm.\n",
        "\n",
        "* Sampling Methods: LDA often uses sampling methods like Gibbs sampling or variational Bayes inference to estimate the distributions of topics over words and documents. These methods inherently involve randomness, which can lead to different results each time the model is trained, especially if the number of iterations is not large enough to reach convergence.\n",
        "\n",
        "* Convergence Issues: If the LDA model doesn't fully converge due to too few iterations or poor parameter settings (like learning rates), the output may vary significantly between runs. Achieving convergence in probabilistic models can be challenging and might require tuning parameters such as the number of iterations and choosing appropriate hyperparameters (like alpha and beta for LDA).\n",
        "\n",
        "* Number of Topics: The choice of the number of topics (num_topics) can also influence the stability of your topics. Too few or too many topics can lead to overfitting or underfitting, respectively, making the model sensitive to initial conditions or specific samples of data.\n",
        "\n",
        "### Ensuring Consistency\n",
        "\n",
        "To reduce the variability in your LDA models, you can take the following steps:\n",
        "\n",
        "* Set a Random Seed: Most LDA implementations allow you to set a random seed to make the results reproducible. This is done by fixing the seed for the random number generator used by the model.\n",
        "\n",
        "* Increase the Number of Iterations: Allowing more iterations can help the model converge more consistently, which, in turn, makes the output more stable.\n",
        "\n",
        "* Tune Hyperparameters: Adjusting the hyperparameters, such as alpha (document-topic density) and beta (topic-word density), can help in achieving better and more consistent results. These parameters control the sparsity of the topics extracted by the model.\n",
        "\n",
        "* Extensive Preprocessing: More consistent and thorough preprocessing of the text data can lead to less noise in the input, which helps stabilize the output.\n",
        "\n",
        "```\n",
        "lda_model = LdaModel(\n",
        "    corpus=corpus,\n",
        "    id2word=dictionary,\n",
        "    num_topics=10,\n",
        "    random_state=100,\n",
        "    update_every=1,\n",
        "    chunksize=100,\n",
        "    passes=10,\n",
        "    alpha='auto',  # can be set as a scalar like '0.01' or 'auto' for learning the optimal alpha\n",
        "    eta='auto'     # eta is another name for beta in gensim, similarly settable\n",
        ")\n",
        "```\n",
        "\n",
        "\n"
      ]
    },
    {
      "cell_type": "code",
      "execution_count": null,
      "metadata": {
        "colab": {
          "base_uri": "https://localhost:8080/"
        },
        "id": "Fs40G5UJ9EAe",
        "outputId": "d3efc30d-796a-4712-c209-6891790c96d6"
      },
      "outputs": [
        {
          "output_type": "stream",
          "name": "stdout",
          "text": [
            "(0, '0.084*\"driving\" + 0.046*\"health\" + 0.046*\"blood\" + 0.046*\"expert\" + 0.046*\"may\"')\n",
            "(1, '0.028*\"father\" + 0.028*\"health\" + 0.028*\"sister\" + 0.028*\"pressure\" + 0.028*\"professional\"')\n",
            "(2, '0.028*\"father\" + 0.028*\"health\" + 0.028*\"sister\" + 0.028*\"pressure\" + 0.028*\"professional\"')\n",
            "(3, '0.158*\"sugar\" + 0.059*\"bad\" + 0.059*\"consume\" + 0.059*\"like\" + 0.059*\"health\"')\n",
            "(4, '0.063*\"father\" + 0.063*\"sister\" + 0.063*\"pressure\" + 0.062*\"never\" + 0.062*\"drive\"')\n"
          ]
        }
      ],
      "source": [
        "# Set parameters\n",
        "num_topics = 5\n",
        "passes = 100\n",
        "\n",
        "# Create the LDA model\n",
        "lda = LdaModel(corpus=corpus, id2word=dictionary, num_topics=num_topics, passes=passes,random_state=100)\n",
        "\n",
        "# Display the topics\n",
        "topics = lda.print_topics(num_words=5)\n",
        "for topic in topics:\n",
        "    print(topic)\n"
      ]
    },
    {
      "cell_type": "markdown",
      "metadata": {
        "id": "gGUq2f7xbu3S"
      },
      "source": [
        "We can also display the topics as wordclouds:"
      ]
    },
    {
      "cell_type": "code",
      "execution_count": null,
      "metadata": {
        "colab": {
          "base_uri": "https://localhost:8080/"
        },
        "id": "cDpnJt_ndc5m",
        "outputId": "a84dcfd6-c00f-4e20-c39d-fafe2e39dbeb"
      },
      "outputs": [
        {
          "output_type": "stream",
          "name": "stdout",
          "text": [
            "Requirement already satisfied: wordcloud in /usr/local/lib/python3.10/dist-packages (1.9.3)\n",
            "Requirement already satisfied: numpy>=1.6.1 in /usr/local/lib/python3.10/dist-packages (from wordcloud) (1.25.2)\n",
            "Requirement already satisfied: pillow in /usr/local/lib/python3.10/dist-packages (from wordcloud) (9.4.0)\n",
            "Requirement already satisfied: matplotlib in /usr/local/lib/python3.10/dist-packages (from wordcloud) (3.7.1)\n",
            "Requirement already satisfied: contourpy>=1.0.1 in /usr/local/lib/python3.10/dist-packages (from matplotlib->wordcloud) (1.2.1)\n",
            "Requirement already satisfied: cycler>=0.10 in /usr/local/lib/python3.10/dist-packages (from matplotlib->wordcloud) (0.12.1)\n",
            "Requirement already satisfied: fonttools>=4.22.0 in /usr/local/lib/python3.10/dist-packages (from matplotlib->wordcloud) (4.51.0)\n",
            "Requirement already satisfied: kiwisolver>=1.0.1 in /usr/local/lib/python3.10/dist-packages (from matplotlib->wordcloud) (1.4.5)\n",
            "Requirement already satisfied: packaging>=20.0 in /usr/local/lib/python3.10/dist-packages (from matplotlib->wordcloud) (24.0)\n",
            "Requirement already satisfied: pyparsing>=2.3.1 in /usr/local/lib/python3.10/dist-packages (from matplotlib->wordcloud) (3.1.2)\n",
            "Requirement already satisfied: python-dateutil>=2.7 in /usr/local/lib/python3.10/dist-packages (from matplotlib->wordcloud) (2.8.2)\n",
            "Requirement already satisfied: six>=1.5 in /usr/local/lib/python3.10/dist-packages (from python-dateutil>=2.7->matplotlib->wordcloud) (1.16.0)\n"
          ]
        }
      ],
      "source": [
        "%pip install wordcloud"
      ]
    },
    {
      "cell_type": "code",
      "execution_count": null,
      "metadata": {
        "colab": {
          "base_uri": "https://localhost:8080/",
          "height": 302
        },
        "id": "JarpWoA-b605",
        "outputId": "b417d880-ea7a-472a-9b1a-14dbb6771b41"
      },
      "outputs": [
        {
          "output_type": "execute_result",
          "data": {
            "text/plain": [
              "<module 'matplotlib.pyplot' from '/usr/local/lib/python3.10/dist-packages/matplotlib/pyplot.py'>"
            ]
          },
          "metadata": {},
          "execution_count": 9
        },
        {
          "output_type": "display_data",
          "data": {
            "text/plain": [
              "<Figure size 640x480 with 1 Axes>"
            ],
            "image/png": "[encoded data removed]"
          },
          "metadata": {}
        }
      ],
      "source": [
        "from wordcloud import WordCloud\n",
        "import matplotlib.pyplot as plt\n",
        "\n",
        "def create_wordcloud(model, topic):\n",
        "    text = {word: value for word, value in model.show_topic(topic, 200)}\n",
        "    wc = WordCloud(background_color=\"white\", max_words=1000)\n",
        "    wc.generate_from_frequencies(text)\n",
        "    plt.imshow(wc, interpolation=\"bilinear\")\n",
        "    plt.axis(\"off\")\n",
        "    return plt\n",
        "\n",
        "create_wordcloud(lda, topic=0)"
      ]
    },
    {
      "cell_type": "markdown",
      "metadata": {
        "id": "1NMB6kB9Eh3y"
      },
      "source": [
        "#Coherence Score (to pick the number of topics)\n",
        "Coherence measures the degree of semantic similarity between high scoring words in the topic. These scores help distinguish between topics that are semantically interpretable topics and topics that are artifacts of statistical inference."
      ]
    },
    {
      "cell_type": "code",
      "execution_count": null,
      "metadata": {
        "colab": {
          "base_uri": "https://localhost:8080/"
        },
        "id": "K4YgR5cYEq8-",
        "outputId": "0471d332-3195-4db0-8d7c-b568cd7fc713"
      },
      "outputs": [
        {
          "output_type": "stream",
          "name": "stdout",
          "text": [
            "Coherence Score: 0.3833486338856585\n"
          ]
        }
      ],
      "source": [
        "from gensim.models.coherencemodel import CoherenceModel\n",
        "coherence_model_lda = CoherenceModel(model=lda, texts=texts, dictionary=dictionary, coherence='c_v')\n",
        "coherence_lda = coherence_model_lda.get_coherence()\n",
        "print('Coherence Score:', coherence_lda)\n"
      ]
    },
    {
      "cell_type": "markdown",
      "metadata": {
        "id": "VZtrrFSXFM2D"
      },
      "source": [
        "# Number of Topics"
      ]
    },
    {
      "cell_type": "code",
      "execution_count": null,
      "metadata": {
        "colab": {
          "base_uri": "https://localhost:8080/",
          "height": 508
        },
        "id": "Hb9s1BoZFQSZ",
        "outputId": "1b5d2fe5-2374-4c72-ad4b-78bf6a815282"
      },
      "outputs": [
        {
          "output_type": "stream",
          "name": "stdout",
          "text": [
            "[0.3076742654074003, 0.35277825048982697, 0.36186683579444917, 0.3833486338856585, 0.35391722925878993, 0.38624492795914184, 0.38377494843428145, 0.37262943369153934]\n"
          ]
        },
        {
          "output_type": "display_data",
          "data": {
            "text/plain": [
              "<Figure size 1200x600 with 1 Axes>"
            ],
            "image/png": "[encoded data removed]"
          },
          "metadata": {}
        }
      ],
      "source": [
        "import matplotlib.pyplot as plt\n",
        "\n",
        "# Range of topics to evaluate\n",
        "topic_range = range(2, 10)\n",
        "\n",
        "# List to store coherence\n",
        "coherence_scores = []\n",
        "\n",
        "for num_topics in topic_range:\n",
        "    lda = LdaModel(corpus=corpus, id2word=dictionary, num_topics=num_topics, passes=passes, random_state=100)\n",
        "    # Initialize CoherenceModel after training the LDA model\n",
        "    coherence_model_lda = CoherenceModel(model=lda, texts=texts, dictionary=dictionary, coherence='c_v')\n",
        "    coherence_lda = coherence_model_lda.get_coherence()\n",
        "\n",
        "    # Append the coherence score\n",
        "    coherence_scores.append(coherence_lda)\n",
        "\n",
        "print(coherence_scores)\n",
        "# Plotting\n",
        "plt.figure(figsize=(12, 6))\n",
        "plt.plot(topic_range, coherence_scores)\n",
        "plt.title(\"Coherence Scores vs Number of Topics\")\n",
        "plt.xlabel(\"Number of Topics\")\n",
        "plt.ylabel(\"Coherence score\")\n",
        "plt.tight_layout()\n",
        "plt.show()\n"
      ]
    },
    {
      "cell_type": "markdown",
      "metadata": {
        "id": "9Mn104ldIGUF"
      },
      "source": [
        "# LSA"
      ]
    },
    {
      "cell_type": "code",
      "execution_count": null,
      "metadata": {
        "id": "IE1nBgWAUYHM"
      },
      "outputs": [],
      "source": [
        "from gensim.models import LdaModel,CoherenceModel,TfidfModel,Nmf,LsiModel"
      ]
    },
    {
      "cell_type": "code",
      "execution_count": null,
      "metadata": {
        "colab": {
          "base_uri": "https://localhost:8080/"
        },
        "id": "gRO7BenfTg_S",
        "outputId": "115ffe4c-6361-4594-f0e7-eeba3c6e458d"
      },
      "outputs": [
        {
          "output_type": "stream",
          "name": "stdout",
          "text": [
            "(0, '0.406*\"father\" + 0.323*\"sister\" + 0.290*\"pressure\" + 0.273*\"sugar\" + 0.207*\"drive\"')\n",
            "(1, '0.359*\"driving\" + 0.304*\"health\" + 0.271*\"blood\" + 0.271*\"increased\" + 0.271*\"may\"')\n",
            "(2, '-0.594*\"sugar\" + -0.231*\"consume\" + -0.231*\"like\" + -0.231*\"bad\" + 0.225*\"pressure\"')\n",
            "(3, '0.298*\"baseball\" + 0.298*\"around\" + 0.298*\"practice\" + 0.298*\"lot\" + 0.298*\"time\"')\n",
            "(4, '-0.389*\"say\" + -0.389*\"professional\" + -0.389*\"good\" + -0.389*\"lifestyle\" + -0.294*\"health\"')\n",
            "Coherence Score: 0.27500897972208205\n"
          ]
        }
      ],
      "source": [
        "# train LSA model\n",
        "num_topics = 5\n",
        "lsa_model = LsiModel(corpus, num_topics=num_topics, id2word=dictionary,random_seed=100)\n",
        "topics = lsa_model.print_topics(num_words=5)\n",
        "for topic in topics:\n",
        "    print(topic)\n",
        "\n",
        "coherence_model_lsa = CoherenceModel(model=lsa_model, texts=texts, dictionary=dictionary, coherence='c_v')\n",
        "coherence_lsa = coherence_model_lsa.get_coherence()\n",
        "print('Coherence Score:', coherence_lsa)"
      ]
    },
    {
      "cell_type": "markdown",
      "metadata": {
        "id": "CGO6fN4DZL7w"
      },
      "source": [
        "##NMF"
      ]
    },
    {
      "cell_type": "code",
      "execution_count": null,
      "metadata": {
        "colab": {
          "base_uri": "https://localhost:8080/"
        },
        "id": "o36mwfwrUs2q",
        "outputId": "44915de4-9e2b-4bda-d705-5a8cd445ec38"
      },
      "outputs": [
        {
          "output_type": "stream",
          "name": "stdout",
          "text": [
            "(0, '0.112*\"driving\" + 0.110*\"time\" + 0.110*\"practice\" + 0.110*\"brother\" + 0.110*\"spends\"')\n",
            "(1, '0.086*\"pressure\" + 0.085*\"school\" + 0.085*\"often\" + 0.085*\"feel\" + 0.085*\"drive\"')\n",
            "(2, '0.268*\"sugar\" + 0.143*\"father\" + 0.143*\"sister\" + 0.137*\"like\" + 0.137*\"consume\"')\n",
            "(3, '0.100*\"may\" + 0.100*\"cause\" + 0.100*\"suggest\" + 0.100*\"blood\" + 0.100*\"stress\"')\n",
            "(4, '0.165*\"sugar\" + 0.162*\"lifestyle\" + 0.162*\"say\" + 0.162*\"good\" + 0.162*\"professional\"')\n",
            "Coherence Score: 0.33968419477897527\n"
          ]
        }
      ],
      "source": [
        "# train NMF model\n",
        "num_topics = 5\n",
        "nmf_model = Nmf(corpus,id2word=dictionary, num_topics=num_topics,passes=20,random_state=100)\n",
        "topics = nmf_model.print_topics(num_words=5)\n",
        "for topic in topics:\n",
        "    print(topic)\n",
        "\n",
        "coherence_model_nmf = CoherenceModel(model=nmf_model, texts=texts, dictionary=dictionary, coherence='c_v')\n",
        "coherence_nmf = coherence_model_nmf.get_coherence()\n",
        "print('Coherence Score:', coherence_nmf)\n"
      ]
    },
    {
      "cell_type": "markdown",
      "metadata": {
        "id": "nTn7UfZvZOYf"
      },
      "source": [
        "##LSA vs NMF\n",
        "* Comparison and Use Cases Interpretability: NMF often provides more interpretable topics than LSA because of the non-negativity constraint, which aligns better with the intuitive notion of adding up features to form a dataset.\n",
        "* Handling of Synonyms and Polysemy: LSA can handle synonyms better due to its dimensional reduction approach, but it struggles with polysemy (words with multiple meanings) because all occurrences of a word are mapped to a single point in semantic space.\n",
        "* Usage: LSA is often preferred for tasks involving similarity and information retrieval due to its robust handling of noise and ability to capture underlying semantic patterns. NMF is favored for clustering and classification tasks where interpretability of components (topics) is crucial.\n",
        "\n",
        " Both LSA and NMF are valuable tools in the text mining and information retrieval toolkit, chosen based on the specific requirements of clarity, ease of interpretation, and the nature of the text data."
      ]
    },
    {
      "cell_type": "markdown",
      "metadata": {
        "id": "PLfkWvyMy-Wa"
      },
      "source": [
        "## BERT Topic Modeling\n",
        "BERTopic is a topic modeling tool that leverages transformers and language models like BERT for generating topics from textual data. Unlike traditional methods such as LDA, BERTopic utilizes contextual embeddings, which can capture the meanings of words more effectively in different contexts.\n",
        "\n",
        "Since the example we have used thus far is too small for this technique (due to embeddings - we will discuss this later), we will use the first 100 reviews from the ``Reviews.csv`` file."
      ]
    },
    {
      "cell_type": "code",
      "execution_count": null,
      "metadata": {
        "colab": {
          "base_uri": "https://localhost:8080/"
        },
        "id": "8YLRjZ833e8B",
        "outputId": "6da53ed9-1025-4bc6-d901-d81aee0cbcf2"
      },
      "outputs": [
        {
          "output_type": "stream",
          "name": "stdout",
          "text": [
            "Collecting bertopic\n",
            "  Downloading bertopic-0.16.1-py2.py3-none-any.whl (158 kB)\n",
            "\u001b[2K     \u001b[90m━━━━━━━━━━━━━━━━━━━━━━━━━━━━━━━━━━━━━━━━\u001b[0m \u001b[32m158.5/158.5 kB\u001b[0m \u001b[31m1.7 MB/s\u001b[0m eta \u001b[36m0:00:00\u001b[0m\n",
            "\u001b[?25hRequirement already satisfied: numpy>=1.20.0 in /usr/local/lib/python3.10/dist-packages (from bertopic) (1.25.2)\n",
            "Collecting hdbscan>=0.8.29 (from bertopic)\n",
            "  Downloading hdbscan-0.8.33.tar.gz (5.2 MB)\n",
            "\u001b[2K     \u001b[90m━━━━━━━━━━━━━━━━━━━━━━━━━━━━━━━━━━━━━━━━\u001b[0m \u001b[32m5.2/5.2 MB\u001b[0m \u001b[31m36.0 MB/s\u001b[0m eta \u001b[36m0:00:00\u001b[0m\n",
            "\u001b[?25h  Installing build dependencies ... \u001b[?25l\u001b[?25hdone\n",
            "  Getting requirements to build wheel ... \u001b[?25l\u001b[?25hdone\n",
            "  Preparing metadata (pyproject.toml) ... \u001b[?25l\u001b[?25hdone\n",
            "Collecting umap-learn>=0.5.0 (from bertopic)\n",
            "  Downloading umap_learn-0.5.6-py3-none-any.whl (85 kB)\n",
            "\u001b[2K     \u001b[90m━━━━━━━━━━━━━━━━━━━━━━━━━━━━━━━━━━━━━━━━\u001b[0m \u001b[32m85.7/85.7 kB\u001b[0m \u001b[31m12.5 MB/s\u001b[0m eta \u001b[36m0:00:00\u001b[0m\n",
            "\u001b[?25hRequirement already satisfied: pandas>=1.1.5 in /usr/local/lib/python3.10/dist-packages (from bertopic) (2.0.3)\n",
            "Requirement already satisfied: scikit-learn>=0.22.2.post1 in /usr/local/lib/python3.10/dist-packages (from bertopic) (1.2.2)\n",
            "Requirement already satisfied: tqdm>=4.41.1 in /usr/local/lib/python3.10/dist-packages (from bertopic) (4.66.4)\n",
            "Collecting sentence-transformers>=0.4.1 (from bertopic)\n",
            "  Downloading sentence_transformers-2.7.0-py3-none-any.whl (171 kB)\n",
            "\u001b[2K     \u001b[90m━━━━━━━━━━━━━━━━━━━━━━━━━━━━━━━━━━━━━━━━\u001b[0m \u001b[32m171.5/171.5 kB\u001b[0m \u001b[31m17.5 MB/s\u001b[0m eta \u001b[36m0:00:00\u001b[0m\n",
            "\u001b[?25hRequirement already satisfied: plotly>=4.7.0 in /usr/local/lib/python3.10/dist-packages (from bertopic) (5.15.0)\n",
            "Collecting cython<3,>=0.27 (from hdbscan>=0.8.29->bertopic)\n",
            "  Using cached Cython-0.29.37-cp310-cp310-manylinux_2_17_x86_64.manylinux2014_x86_64.manylinux_2_24_x86_64.whl (1.9 MB)\n",
            "Requirement already satisfied: scipy>=1.0 in /usr/local/lib/python3.10/dist-packages (from hdbscan>=0.8.29->bertopic) (1.11.4)\n",
            "Requirement already satisfied: joblib>=1.0 in /usr/local/lib/python3.10/dist-packages (from hdbscan>=0.8.29->bertopic) (1.4.2)\n",
            "Requirement already satisfied: python-dateutil>=2.8.2 in /usr/local/lib/python3.10/dist-packages (from pandas>=1.1.5->bertopic) (2.8.2)\n",
            "Requirement already satisfied: pytz>=2020.1 in /usr/local/lib/python3.10/dist-packages (from pandas>=1.1.5->bertopic) (2023.4)\n",
            "Requirement already satisfied: tzdata>=2022.1 in /usr/local/lib/python3.10/dist-packages (from pandas>=1.1.5->bertopic) (2024.1)\n",
            "Requirement already satisfied: tenacity>=6.2.0 in /usr/local/lib/python3.10/dist-packages (from plotly>=4.7.0->bertopic) (8.2.3)\n",
            "Requirement already satisfied: packaging in /usr/local/lib/python3.10/dist-packages (from plotly>=4.7.0->bertopic) (24.0)\n",
            "Requirement already satisfied: threadpoolctl>=2.0.0 in /usr/local/lib/python3.10/dist-packages (from scikit-learn>=0.22.2.post1->bertopic) (3.5.0)\n",
            "Requirement already satisfied: transformers<5.0.0,>=4.34.0 in /usr/local/lib/python3.10/dist-packages (from sentence-transformers>=0.4.1->bertopic) (4.40.1)\n",
            "Requirement already satisfied: torch>=1.11.0 in /usr/local/lib/python3.10/dist-packages (from sentence-transformers>=0.4.1->bertopic) (2.2.1+cu121)\n",
            "Requirement already satisfied: huggingface-hub>=0.15.1 in /usr/local/lib/python3.10/dist-packages (from sentence-transformers>=0.4.1->bertopic) (0.20.3)\n",
            "Requirement already satisfied: Pillow in /usr/local/lib/python3.10/dist-packages (from sentence-transformers>=0.4.1->bertopic) (9.4.0)\n",
            "Requirement already satisfied: numba>=0.51.2 in /usr/local/lib/python3.10/dist-packages (from umap-learn>=0.5.0->bertopic) (0.58.1)\n",
            "Collecting pynndescent>=0.5 (from umap-learn>=0.5.0->bertopic)\n",
            "  Downloading pynndescent-0.5.12-py3-none-any.whl (56 kB)\n",
            "\u001b[2K     \u001b[90m━━━━━━━━━━━━━━━━━━━━━━━━━━━━━━━━━━━━━━━━\u001b[0m \u001b[32m56.8/56.8 kB\u001b[0m \u001b[31m6.6 MB/s\u001b[0m eta \u001b[36m0:00:00\u001b[0m\n",
            "\u001b[?25hRequirement already satisfied: filelock in /usr/local/lib/python3.10/dist-packages (from huggingface-hub>=0.15.1->sentence-transformers>=0.4.1->bertopic) (3.14.0)\n",
            "Requirement already satisfied: fsspec>=2023.5.0 in /usr/local/lib/python3.10/dist-packages (from huggingface-hub>=0.15.1->sentence-transformers>=0.4.1->bertopic) (2023.6.0)\n",
            "Requirement already satisfied: requests in /usr/local/lib/python3.10/dist-packages (from huggingface-hub>=0.15.1->sentence-transformers>=0.4.1->bertopic) (2.31.0)\n",
            "Requirement already satisfied: pyyaml>=5.1 in /usr/local/lib/python3.10/dist-packages (from huggingface-hub>=0.15.1->sentence-transformers>=0.4.1->bertopic) (6.0.1)\n",
            "Requirement already satisfied: typing-extensions>=3.7.4.3 in /usr/local/lib/python3.10/dist-packages (from huggingface-hub>=0.15.1->sentence-transformers>=0.4.1->bertopic) (4.11.0)\n",
            "Requirement already satisfied: llvmlite<0.42,>=0.41.0dev0 in /usr/local/lib/python3.10/dist-packages (from numba>=0.51.2->umap-learn>=0.5.0->bertopic) (0.41.1)\n",
            "Requirement already satisfied: six>=1.5 in /usr/local/lib/python3.10/dist-packages (from python-dateutil>=2.8.2->pandas>=1.1.5->bertopic) (1.16.0)\n",
            "Requirement already satisfied: sympy in /usr/local/lib/python3.10/dist-packages (from torch>=1.11.0->sentence-transformers>=0.4.1->bertopic) (1.12)\n",
            "Requirement already satisfied: networkx in /usr/local/lib/python3.10/dist-packages (from torch>=1.11.0->sentence-transformers>=0.4.1->bertopic) (3.3)\n",
            "Requirement already satisfied: jinja2 in /usr/local/lib/python3.10/dist-packages (from torch>=1.11.0->sentence-transformers>=0.4.1->bertopic) (3.1.3)\n",
            "Collecting nvidia-cuda-nvrtc-cu12==12.1.105 (from torch>=1.11.0->sentence-transformers>=0.4.1->bertopic)\n",
            "  Using cached nvidia_cuda_nvrtc_cu12-12.1.105-py3-none-manylinux1_x86_64.whl (23.7 MB)\n",
            "Collecting nvidia-cuda-runtime-cu12==12.1.105 (from torch>=1.11.0->sentence-transformers>=0.4.1->bertopic)\n",
            "  Using cached nvidia_cuda_runtime_cu12-12.1.105-py3-none-manylinux1_x86_64.whl (823 kB)\n",
            "Collecting nvidia-cuda-cupti-cu12==12.1.105 (from torch>=1.11.0->sentence-transformers>=0.4.1->bertopic)\n",
            "  Using cached nvidia_cuda_cupti_cu12-12.1.105-py3-none-manylinux1_x86_64.whl (14.1 MB)\n",
            "Collecting nvidia-cudnn-cu12==8.9.2.26 (from torch>=1.11.0->sentence-transformers>=0.4.1->bertopic)\n",
            "  Using cached nvidia_cudnn_cu12-8.9.2.26-py3-none-manylinux1_x86_64.whl (731.7 MB)\n",
            "Collecting nvidia-cublas-cu12==12.1.3.1 (from torch>=1.11.0->sentence-transformers>=0.4.1->bertopic)\n",
            "  Using cached nvidia_cublas_cu12-12.1.3.1-py3-none-manylinux1_x86_64.whl (410.6 MB)\n",
            "Collecting nvidia-cufft-cu12==11.0.2.54 (from torch>=1.11.0->sentence-transformers>=0.4.1->bertopic)\n",
            "  Using cached nvidia_cufft_cu12-11.0.2.54-py3-none-manylinux1_x86_64.whl (121.6 MB)\n",
            "Collecting nvidia-curand-cu12==10.3.2.106 (from torch>=1.11.0->sentence-transformers>=0.4.1->bertopic)\n",
            "  Using cached nvidia_curand_cu12-10.3.2.106-py3-none-manylinux1_x86_64.whl (56.5 MB)\n",
            "Collecting nvidia-cusolver-cu12==11.4.5.107 (from torch>=1.11.0->sentence-transformers>=0.4.1->bertopic)\n",
            "  Using cached nvidia_cusolver_cu12-11.4.5.107-py3-none-manylinux1_x86_64.whl (124.2 MB)\n",
            "Collecting nvidia-cusparse-cu12==12.1.0.106 (from torch>=1.11.0->sentence-transformers>=0.4.1->bertopic)\n",
            "  Using cached nvidia_cusparse_cu12-12.1.0.106-py3-none-manylinux1_x86_64.whl (196.0 MB)\n",
            "Collecting nvidia-nccl-cu12==2.19.3 (from torch>=1.11.0->sentence-transformers>=0.4.1->bertopic)\n",
            "  Using cached nvidia_nccl_cu12-2.19.3-py3-none-manylinux1_x86_64.whl (166.0 MB)\n",
            "Collecting nvidia-nvtx-cu12==12.1.105 (from torch>=1.11.0->sentence-transformers>=0.4.1->bertopic)\n",
            "  Using cached nvidia_nvtx_cu12-12.1.105-py3-none-manylinux1_x86_64.whl (99 kB)\n",
            "Requirement already satisfied: triton==2.2.0 in /usr/local/lib/python3.10/dist-packages (from torch>=1.11.0->sentence-transformers>=0.4.1->bertopic) (2.2.0)\n",
            "Collecting nvidia-nvjitlink-cu12 (from nvidia-cusolver-cu12==11.4.5.107->torch>=1.11.0->sentence-transformers>=0.4.1->bertopic)\n",
            "  Using cached nvidia_nvjitlink_cu12-12.4.127-py3-none-manylinux2014_x86_64.whl (21.1 MB)\n",
            "Requirement already satisfied: regex!=2019.12.17 in /usr/local/lib/python3.10/dist-packages (from transformers<5.0.0,>=4.34.0->sentence-transformers>=0.4.1->bertopic) (2023.12.25)\n",
            "Requirement already satisfied: tokenizers<0.20,>=0.19 in /usr/local/lib/python3.10/dist-packages (from transformers<5.0.0,>=4.34.0->sentence-transformers>=0.4.1->bertopic) (0.19.1)\n",
            "Requirement already satisfied: safetensors>=0.4.1 in /usr/local/lib/python3.10/dist-packages (from transformers<5.0.0,>=4.34.0->sentence-transformers>=0.4.1->bertopic) (0.4.3)\n",
            "Requirement already satisfied: MarkupSafe>=2.0 in /usr/local/lib/python3.10/dist-packages (from jinja2->torch>=1.11.0->sentence-transformers>=0.4.1->bertopic) (2.1.5)\n",
            "Requirement already satisfied: charset-normalizer<4,>=2 in /usr/local/lib/python3.10/dist-packages (from requests->huggingface-hub>=0.15.1->sentence-transformers>=0.4.1->bertopic) (3.3.2)\n",
            "Requirement already satisfied: idna<4,>=2.5 in /usr/local/lib/python3.10/dist-packages (from requests->huggingface-hub>=0.15.1->sentence-transformers>=0.4.1->bertopic) (3.7)\n",
            "Requirement already satisfied: urllib3<3,>=1.21.1 in /usr/local/lib/python3.10/dist-packages (from requests->huggingface-hub>=0.15.1->sentence-transformers>=0.4.1->bertopic) (2.0.7)\n",
            "Requirement already satisfied: certifi>=2017.4.17 in /usr/local/lib/python3.10/dist-packages (from requests->huggingface-hub>=0.15.1->sentence-transformers>=0.4.1->bertopic) (2024.2.2)\n",
            "Requirement already satisfied: mpmath>=0.19 in /usr/local/lib/python3.10/dist-packages (from sympy->torch>=1.11.0->sentence-transformers>=0.4.1->bertopic) (1.3.0)\n",
            "Building wheels for collected packages: hdbscan\n",
            "  Building wheel for hdbscan (pyproject.toml) ... \u001b[?25l\u001b[?25hdone\n",
            "  Created wheel for hdbscan: filename=hdbscan-0.8.33-cp310-cp310-linux_x86_64.whl size=3039289 sha256=93c753147ba2ca529537f1937c6d5383ff53b3895a5de435c2767f4cecfe7520\n",
            "  Stored in directory: /root/.cache/pip/wheels/75/0b/3b/dc4f60b7cc455efaefb62883a7483e76f09d06ca81cf87d610\n",
            "Successfully built hdbscan\n",
            "Installing collected packages: nvidia-nvtx-cu12, nvidia-nvjitlink-cu12, nvidia-nccl-cu12, nvidia-curand-cu12, nvidia-cufft-cu12, nvidia-cuda-runtime-cu12, nvidia-cuda-nvrtc-cu12, nvidia-cuda-cupti-cu12, nvidia-cublas-cu12, cython, nvidia-cusparse-cu12, nvidia-cudnn-cu12, pynndescent, nvidia-cusolver-cu12, hdbscan, umap-learn, sentence-transformers, bertopic\n",
            "  Attempting uninstall: cython\n",
            "    Found existing installation: Cython 3.0.10\n",
            "    Uninstalling Cython-3.0.10:\n",
            "      Successfully uninstalled Cython-3.0.10\n",
            "Successfully installed bertopic-0.16.1 cython-0.29.37 hdbscan-0.8.33 nvidia-cublas-cu12-12.1.3.1 nvidia-cuda-cupti-cu12-12.1.105 nvidia-cuda-nvrtc-cu12-12.1.105 nvidia-cuda-runtime-cu12-12.1.105 nvidia-cudnn-cu12-8.9.2.26 nvidia-cufft-cu12-11.0.2.54 nvidia-curand-cu12-10.3.2.106 nvidia-cusolver-cu12-11.4.5.107 nvidia-cusparse-cu12-12.1.0.106 nvidia-nccl-cu12-2.19.3 nvidia-nvjitlink-cu12-12.4.127 nvidia-nvtx-cu12-12.1.105 pynndescent-0.5.12 sentence-transformers-2.7.0 umap-learn-0.5.6\n"
          ]
        }
      ],
      "source": [
        "%pip install bertopic"
      ]
    },
    {
      "cell_type": "code",
      "execution_count": null,
      "metadata": {
        "colab": {
          "base_uri": "https://localhost:8080/"
        },
        "id": "Wk84c-g2H8TO",
        "outputId": "c6c8d38b-d9ea-4c56-ab3d-62ee13c22685"
      },
      "outputs": [
        {
          "output_type": "stream",
          "name": "stderr",
          "text": [
            "[nltk_data] Downloading package punkt to /root/nltk_data...\n",
            "[nltk_data]   Package punkt is already up-to-date!\n",
            "[nltk_data] Downloading package stopwords to /root/nltk_data...\n",
            "[nltk_data]   Package stopwords is already up-to-date!\n"
          ]
        },
        {
          "output_type": "execute_result",
          "data": {
            "text/plain": [
              "True"
            ]
          },
          "metadata": {},
          "execution_count": 16
        }
      ],
      "source": [
        "import nltk\n",
        "import pandas as pd\n",
        "from nltk.corpus import stopwords\n",
        "from nltk.tokenize import word_tokenize\n",
        "\n",
        "# Download necessary NLTK resources\n",
        "nltk.download('punkt')\n",
        "nltk.download('stopwords')"
      ]
    },
    {
      "cell_type": "code",
      "execution_count": null,
      "metadata": {
        "colab": {
          "base_uri": "https://localhost:8080/"
        },
        "id": "fVOLxvF770DI",
        "outputId": "2d5ee8f5-4920-41e8-8b42-fc6e9c5e4ee5"
      },
      "outputs": [
        {
          "output_type": "execute_result",
          "data": {
            "text/plain": [
              "(   Clothing ID  Age                              Title  \\\n",
              " 0            0   26                                NaN   \n",
              " 1            1   50    Love this under-all cami tank ?   \n",
              " 2            1   36                       Staple tank!   \n",
              " 3            1   24        Love but also very annoying   \n",
              " 4            2   28  Gorgeous top, straps way too long   \n",
              " \n",
              "                                               Review  Rating  Recommended  \\\n",
              " 0                                                NaN       5            1   \n",
              " 1  Originally i bought this in black and white. r...       5            1   \n",
              " 2  Love this tank. material and fit are great. lo...       5            1   \n",
              " 3  I love this tank, it is so comfortable but it ...       2            0   \n",
              " 4  I just adore this top! it is so comfy and styl...       4            1   \n",
              " \n",
              "    PositiveFeedbackCount   Division Department      Class        Date  \n",
              " 0                      0    General    Jackets  Outerwear  02/03/2018  \n",
              " 1                      0  Initmates   Intimate   Layering  07/06/2018  \n",
              " 2                      0  Initmates   Intimate   Layering  01/09/2018  \n",
              " 3                      1  Initmates   Intimate   Layering  30/06/2018  \n",
              " 4                      0    General       Tops      Knits  18/07/2018  ,\n",
              " Index(['Clothing ID', 'Age', 'Title', 'Review', 'Rating', 'Recommended',\n",
              "        'PositiveFeedbackCount', 'Division', 'Department', 'Class', 'Date'],\n",
              "       dtype='object'))"
            ]
          },
          "metadata": {},
          "execution_count": 17
        }
      ],
      "source": [
        "import pandas as pd\n",
        "\n",
        "# Load the dataset and read the first 100 rows\n",
        "#file_path = 'Reviews.csv'\n",
        "#df = pd.read_csv(file_path,nrows=100)\n",
        "\n",
        "df = pd.read_csv('https://raw.githubusercontent.com/duong4595/ib9cw0-text-analytics-23-24/main/Data/Reviews.csv',nrows=100)\n",
        "\n",
        "# Display the first few rows of the dataset and columns to identify the 'Review' column\n",
        "df.head(), df.columns\n"
      ]
    },
    {
      "cell_type": "code",
      "execution_count": null,
      "metadata": {
        "id": "aK4Wuq1cHYPe"
      },
      "outputs": [],
      "source": [
        "# Put it all into a function\n",
        "def preprocess_text(text):\n",
        "    # Lowercase\n",
        "    text = text.lower()\n",
        "    # Tokenize\n",
        "    tokens = nltk.word_tokenize(text)\n",
        "    # Remove stopwords\n",
        "    stop_words = set(stopwords.words('english'))\n",
        "    tokens = [token for token in tokens if token not in stop_words and token.isalpha()]\n",
        "    return ' '.join(tokens)"
      ]
    },
    {
      "cell_type": "code",
      "execution_count": null,
      "metadata": {
        "id": "5eT8BBgTIN1O",
        "colab": {
          "base_uri": "https://localhost:8080/"
        },
        "outputId": "9ea44046-efc5-436c-da3a-f8ef3e79e0e0"
      },
      "outputs": [
        {
          "output_type": "stream",
          "name": "stderr",
          "text": [
            "<ipython-input-19-5cc9c8a1a587>:3: SettingWithCopyWarning: \n",
            "A value is trying to be set on a copy of a slice from a DataFrame.\n",
            "Try using .loc[row_indexer,col_indexer] = value instead\n",
            "\n",
            "See the caveats in the documentation: https://pandas.pydata.org/pandas-docs/stable/user_guide/indexing.html#returning-a-view-versus-a-copy\n",
            "  df['Review']= df['Review'].apply(preprocess_text)\n"
          ]
        }
      ],
      "source": [
        "# Remove rows where 'Review' is NaN\n",
        "df = df.dropna(subset=['Review'])\n",
        "df['Review']= df['Review'].apply(preprocess_text)"
      ]
    },
    {
      "cell_type": "markdown",
      "metadata": {
        "id": "KQ1cM-NtKNum"
      },
      "source": [
        "### BERTopic"
      ]
    },
    {
      "cell_type": "code",
      "execution_count": null,
      "metadata": {
        "id": "SW8rNKEwAvK4"
      },
      "outputs": [],
      "source": [
        "from bertopic import BERTopic"
      ]
    },
    {
      "cell_type": "code",
      "execution_count": null,
      "metadata": {
        "colab": {
          "base_uri": "https://localhost:8080/",
          "height": 753,
          "referenced_widgets": [
            "371dc316cc1642e5969ebeeac0e8f54d",
            "65a771dc778f4a158f275e44da0b04f7",
            "4a744e1f8bc94ca7ab47ed30388a0c9e",
            "a2987f657aae4bf69e3581e177d8c9d3",
            "dcdc41084d38423e99de0024faedfe9c",
            "ec4dfcce48224c3d9b62d98a62cf9f15",
            "5f6c08c2acec40c4b1c26248133d2dcb",
            "ba3c9654bde84c5ca0c82535f388f923",
            "5484798d436c4f8696cfed4d6b67644e",
            "aebd14b3d6064c339ede3597857d5e67",
            "63bdfec4d9184459a5b6bb3b817fefd3",
            "6121d857cae5496e9a7ca065504ae8e8",
            "0f9b236f2d2948c7a99c16ddafa1fd9a",
            "ed1e0462da8d46a18f278b811358faf1",
            "9500e2f44ce743a78fe7383dd01cc826",
            "a48a83f267da491aa9a203e60238605d",
            "f6ed3dcfdbf146f294f4864bd49ee3a1",
            "051cf22eec674eb794005711ecb9171d",
            "2dedb52696304a7ab9d44b7d4977e2d1",
            "f5c782ddd5e346e7a82fcf8d96149972",
            "a466029cbba44a54aeb2432fc31636de",
            "db40daa725e04a63a69d2efabc0f9f23",
            "98dec3d90f054a5a83752e2242e66134",
            "6cb4486dd0f541ea99ee03ac616c04d7",
            "24a9e0c96abc4c849dd9cc6716e9a798",
            "4e2526bc61824bb4a6f71056b5687b51",
            "22e13b87d78c4613a4449bd2710827d1",
            "0db7bfb0c5ef469fa36b19bf8d3ecb8d",
            "0df8bdaecc2e417d8da72874ad352480",
            "a04dbaf69f224d5e829c6fd8679e4ce4",
            "c3b086aa2ec645b99ce1bfac3a086235",
            "6f428cb5e2bf4334b18b33cf099448cb",
            "5092dd6543834acfaeb435f52a30b23a",
            "3328da947171411d9f00fa8a683dd873",
            "d4f32b34dbd1449997a877d60d460d2e",
            "9c8f191cf4964a5b96aed4ab6e7f4bd5",
            "f18c49d7669d43ce9bad3d15e1fd1ef1",
            "82e6f64b4e014575910920531ede3028",
            "beb0d67b6883449abad42b713e3b8bbf",
            "e72c8bc108634e5a9b48cdeae8d1af6b",
            "ca916fef3dca43848ecae6ce9cc5950b",
            "997bca5b421a4b538b444ca5abfeb4cf",
            "614c0d0a553a4dafbf5d4e65b2eed24d",
            "bd8896cb22f5499c875f47521e74e676",
            "2f3cb22cd6fc4a2d986f9688a94e9ac1",
            "16ef3ac2ce46441386858515c751aeac",
            "a2d4066158f14b74be83e4d33a9eb31b",
            "31141a3cb4a94c16931020c6ca54f0ff",
            "3df1221498ad40f3bf512989068b9036",
            "adfe92915c8b4a4599b3b07604f975b6",
            "14528a3fe5294c0788694358f0fc51ac",
            "b89719f973cb4a4eabe401bda0649911",
            "1ff002a2114941509473f261676bd85c",
            "4194b6cca1cd458b91793238d654e318",
            "a7981a04518a4f0f8ea22a3818062990",
            "7de16a0a51b5478aa3dd74144473c4c0",
            "76b341a4690f4c32acd954a1c3a803fc",
            "5fc72dbb4ce94fd68a1978bd373b71ee",
            "603bd18c52dc44f5a21d88bc23493567",
            "6202c15c6edf473eae699646f5c33692",
            "d061e4e0a9ad43f48c69eb5605127f74",
            "f2a175861a9441b2abb021a0d63e2965",
            "bf83739ba60347d98f6d802a3ea81b21",
            "940e6d533944455097d307bf80a5159a",
            "b3ca158168794ac8b178f1077a90e975",
            "b2a959101a04491aba5ca60bc33cd134",
            "f2d7e3ea4aa041c18378bec044bae83e",
            "54439a0648f04337a6f52e0032166951",
            "08fbce1a54694f0ba8fc7586400e31d6",
            "0eb965b27d184ad2b2629ad6502065cc",
            "205c0a78d1ec43fa96eb41953d686061",
            "e900b4105fea44d58311984cbedcb24e",
            "94d0f3a1d1cc48d8bac8307f503ddc3b",
            "5b9fbb0221bd4a8e8eff5f0caea7cc75",
            "a1d1305b640247cc93869e0de4b0f1e9",
            "9752a8e478c444e5915b0f67c8944a05",
            "c4cf614f40c84782a64cc300be7d5dce",
            "d43147e12274454eb0726e31e6bc1bd9",
            "e6a326b6a8df4daf861bd8c5cbdec07e",
            "f99cd982c22e47c2a410b4a983052c5c",
            "1cc560e2e5664bd7bda4ed973053adc0",
            "a5e1bf55b5a04b85b89ad66e9c776c0d",
            "eb321603bd4648c4a313e6c75b397bbc",
            "0c6f4ef7825e413da05b58ae503a79ef",
            "148e2b622dbb42ee8f2609b1f950529f",
            "fd04751d2da3486cbe20d99fa56cb985",
            "9072c8eed0454e16a50c1a1678c6a7a8",
            "0b5d3dd1824944828488d95bda0dfe9a",
            "5396215c59e64c62903171e656ba274c",
            "90cc2c2483cc45b1bb0a5926fe3ba7b7",
            "b496ad64e61e46e8b7cc85c7e5bbe563",
            "762b414422c24fdea5e9db7e79657fa4",
            "980ce77986fd4f43b4aae5f182fab946",
            "60244d8b5a71430d82482315b7bfcee1",
            "17a2cebe20b846268dbaab94ec90c995",
            "c684851f808e41ddbf4586ae3304f7f3",
            "aafee48dee2043c6b7e0b984c8d6de6d",
            "c2e311edfb2a4639b0c21bd7e5a284f7",
            "796f3862c02d4d1db5b60c114a9e90ea",
            "96e7f0c9808c4e02a48c5edc26a4e7ef",
            "5551b5d619c445eebb9b25cd155ae659",
            "860683c9756d4a8280544fcb5899e713",
            "f19d04ea82d4424aa1c4216c647e5bdd",
            "5d384f082e4746668169bac938709229",
            "4dc1d10ae0e8465ab2bd94f5def8401a",
            "e092049d6ec640e8beb506c0df22d34a",
            "ecfb52453ef0444685b5323e5ec3145d",
            "44d484fb7c0a41a2a340ad29fa28475b",
            "3bb4baa751534c158e736dd6929f8883",
            "612878b91bf04697af1a64d52fa2ad45",
            "8a73c9997800453aafde8c2e8059a0e2",
            "63b0106859a94a77999c2565fdb59d74",
            "b00bc21189f5480daf06179896ba6670",
            "18bb0bd4ef7d415299eea99e98d57173",
            "9de27a356068463184c510ad97e63e71",
            "bcf9b60c99f54c5696c6d9d27d7d19a9",
            "59bcee86207049bca952f8a7ee47fd7f",
            "3c638e67e51b410b842328221451ff39",
            "35b3c65ea68149d18b7d0e6537ae9c23",
            "a238b6bd8bf94faf99bf8d921aa74adc",
            "e575b71ea9804db6987c592ac0d4cf94"
          ]
        },
        "id": "E3m0Kqd-8Elg",
        "outputId": "b9741719-f5f6-4f13-f289-4fbb7f868a0b"
      },
      "outputs": [
        {
          "output_type": "display_data",
          "data": {
            "text/plain": [
              "modules.json:   0%|          | 0.00/349 [00:00<?, ?B/s]"
            ],
            "application/vnd.jupyter.widget-view+json": {
              "version_major": 2,
              "version_minor": 0,
              "model_id": "371dc316cc1642e5969ebeeac0e8f54d"
            }
          },
          "metadata": {}
        },
        {
          "output_type": "display_data",
          "data": {
            "text/plain": [
              "config_sentence_transformers.json:   0%|          | 0.00/116 [00:00<?, ?B/s]"
            ],
            "application/vnd.jupyter.widget-view+json": {
              "version_major": 2,
              "version_minor": 0,
              "model_id": "6121d857cae5496e9a7ca065504ae8e8"
            }
          },
          "metadata": {}
        },
        {
          "output_type": "display_data",
          "data": {
            "text/plain": [
              "README.md:   0%|          | 0.00/10.7k [00:00<?, ?B/s]"
            ],
            "application/vnd.jupyter.widget-view+json": {
              "version_major": 2,
              "version_minor": 0,
              "model_id": "98dec3d90f054a5a83752e2242e66134"
            }
          },
          "metadata": {}
        },
        {
          "output_type": "display_data",
          "data": {
            "text/plain": [
              "sentence_bert_config.json:   0%|          | 0.00/53.0 [00:00<?, ?B/s]"
            ],
            "application/vnd.jupyter.widget-view+json": {
              "version_major": 2,
              "version_minor": 0,
              "model_id": "3328da947171411d9f00fa8a683dd873"
            }
          },
          "metadata": {}
        },
        {
          "output_type": "display_data",
          "data": {
            "text/plain": [
              "config.json:   0%|          | 0.00/612 [00:00<?, ?B/s]"
            ],
            "application/vnd.jupyter.widget-view+json": {
              "version_major": 2,
              "version_minor": 0,
              "model_id": "2f3cb22cd6fc4a2d986f9688a94e9ac1"
            }
          },
          "metadata": {}
        },
        {
          "output_type": "display_data",
          "data": {
            "text/plain": [
              "model.safetensors:   0%|          | 0.00/90.9M [00:00<?, ?B/s]"
            ],
            "application/vnd.jupyter.widget-view+json": {
              "version_major": 2,
              "version_minor": 0,
              "model_id": "7de16a0a51b5478aa3dd74144473c4c0"
            }
          },
          "metadata": {}
        },
        {
          "output_type": "display_data",
          "data": {
            "text/plain": [
              "tokenizer_config.json:   0%|          | 0.00/350 [00:00<?, ?B/s]"
            ],
            "application/vnd.jupyter.widget-view+json": {
              "version_major": 2,
              "version_minor": 0,
              "model_id": "f2d7e3ea4aa041c18378bec044bae83e"
            }
          },
          "metadata": {}
        },
        {
          "output_type": "display_data",
          "data": {
            "text/plain": [
              "vocab.txt:   0%|          | 0.00/232k [00:00<?, ?B/s]"
            ],
            "application/vnd.jupyter.widget-view+json": {
              "version_major": 2,
              "version_minor": 0,
              "model_id": "d43147e12274454eb0726e31e6bc1bd9"
            }
          },
          "metadata": {}
        },
        {
          "output_type": "display_data",
          "data": {
            "text/plain": [
              "tokenizer.json:   0%|          | 0.00/466k [00:00<?, ?B/s]"
            ],
            "application/vnd.jupyter.widget-view+json": {
              "version_major": 2,
              "version_minor": 0,
              "model_id": "5396215c59e64c62903171e656ba274c"
            }
          },
          "metadata": {}
        },
        {
          "output_type": "display_data",
          "data": {
            "text/plain": [
              "special_tokens_map.json:   0%|          | 0.00/112 [00:00<?, ?B/s]"
            ],
            "application/vnd.jupyter.widget-view+json": {
              "version_major": 2,
              "version_minor": 0,
              "model_id": "96e7f0c9808c4e02a48c5edc26a4e7ef"
            }
          },
          "metadata": {}
        },
        {
          "output_type": "display_data",
          "data": {
            "text/plain": [
              "1_Pooling/config.json:   0%|          | 0.00/190 [00:00<?, ?B/s]"
            ],
            "application/vnd.jupyter.widget-view+json": {
              "version_major": 2,
              "version_minor": 0,
              "model_id": "8a73c9997800453aafde8c2e8059a0e2"
            }
          },
          "metadata": {}
        },
        {
          "output_type": "stream",
          "name": "stdout",
          "text": [
            "   Topic  Count                       Name  \\\n",
            "0     -1     31    -1_love_size_one_bought   \n",
            "1      0     30  0_love_dress_perfect_like   \n",
            "2      1     16        1_bra_fits_wear_cup   \n",
            "3      2     12     2_suit_size_short_good   \n",
            "\n",
            "                                      Representation  \\\n",
            "0  [love, size, one, bought, ordered, feel, tank,...   \n",
            "1  [love, dress, perfect, like, wear, color, much...   \n",
            "2  [bra, fits, wear, cup, great, size, got, band,...   \n",
            "3  [suit, size, short, good, top, first, makes, t...   \n",
            "\n",
            "                                 Representative_Docs  \n",
            "0  [bikini bottoms high quality feel luxurious or...  \n",
            "1  [sweater comfy classic balances quirky look be...  \n",
            "2  [undergarments comfortable streamlined well ma...  \n",
            "3  [first suit ever ordered online first one piec...  \n",
            "(-1, [('love', 0.05301848483982351), ('size', 0.051321704885996716), ('one', 0.04869869620810445), ('bought', 0.047852195687496074), ('ordered', 0.04328772996275951), ('feel', 0.04328772996275951), ('tank', 0.03919078404818223), ('fit', 0.03884471906643934), ('would', 0.03721837442360806), ('comfortable', 0.03547142411170029)])\n",
            "(0, [('love', 0.06267871213782751), ('dress', 0.06211875175265413), ('perfect', 0.05969914197538028), ('like', 0.05816084419892617), ('wear', 0.05424300557537651), ('color', 0.04702707415502198), ('much', 0.04702707415502198), ('sweater', 0.045430185599377906), ('gown', 0.04155784631737502), ('long', 0.03527030561626649)])\n",
            "(1, [('bra', 0.1230955468239009), ('fits', 0.05985450449800258), ('wear', 0.055873728844256496), ('cup', 0.04946741913947091), ('great', 0.04918337636541721), ('size', 0.04814567814199692), ('got', 0.04225225051176671), ('band', 0.04144147644568814), ('straps', 0.03676547533071385), ('enough', 0.03565406971090417)])\n",
            "(2, [('suit', 0.10343596795162277), ('size', 0.08596971432615477), ('short', 0.04941398712805687), ('good', 0.04630144943279063), ('top', 0.043896036696060105), ('first', 0.04287148499099338), ('makes', 0.04287148499099338), ('torso', 0.04271222229675235), ('leg', 0.04271222229675235), ('bathing', 0.04036286267518392)])\n"
          ]
        }
      ],
      "source": [
        "# Initialize BERTopic\n",
        "topic_model = BERTopic(language=\"english\", calculate_probabilities=True)\n",
        "\n",
        "# Fit the model on the limited data\n",
        "topics, probabilities = topic_model.fit_transform(df['Review'])\n",
        "\n",
        "# Display the topic info\n",
        "topic_info = topic_model.get_topic_info()\n",
        "print(topic_info)\n",
        "\n",
        "# Optionally, print individual topics\n",
        "for topic in topic_model.get_topics().items():\n",
        "    print(topic)"
      ]
    },
    {
      "cell_type": "markdown",
      "metadata": {
        "id": "159lFcvKKTTu"
      },
      "source": [
        "### Visualize"
      ]
    },
    {
      "cell_type": "code",
      "execution_count": null,
      "metadata": {
        "colab": {
          "base_uri": "https://localhost:8080/",
          "height": 472
        },
        "id": "U82l9O13BBeI",
        "outputId": "71f20479-ea96-4efc-df87-68e653d3a507"
      },
      "outputs": [
        {
          "output_type": "display_data",
          "data": {
            "text/plain": [
              "<Figure size 640x480 with 1 Axes>"
            ],
            "image/png": "[encoded data removed]"
          },
          "metadata": {}
        }
      ],
      "source": [
        "import matplotlib.pyplot as plt\n",
        "import numpy as np\n",
        "\n",
        "# Assuming 'topics' contains the output from BERTopic\n",
        "unique_topics, counts = np.unique(topics, return_counts=True)\n",
        "\n",
        "# Simple bar chart to show topic distribution\n",
        "plt.bar(unique_topics, counts, color='skyblue')\n",
        "plt.xlabel('Topic Number')\n",
        "plt.ylabel('Number of Documents')\n",
        "plt.title('Topic Distribution')\n",
        "plt.xticks(unique_topics)\n",
        "plt.show()\n",
        "\n"
      ]
    },
    {
      "cell_type": "markdown",
      "metadata": {
        "id": "n3t72sS5KYTW"
      },
      "source": [
        "### Top terms for each topic"
      ]
    },
    {
      "cell_type": "code",
      "execution_count": null,
      "metadata": {
        "colab": {
          "base_uri": "https://localhost:8080/"
        },
        "id": "-FZ0FJwQC6Xn",
        "outputId": "7b8b92ba-d397-4b31-c0fa-39e4e89443b0"
      },
      "outputs": [
        {
          "output_type": "stream",
          "name": "stdout",
          "text": [
            "    topic         term    weight\n",
            "0      -1         love  0.053018\n",
            "1      -1         size  0.051322\n",
            "2      -1          one  0.048699\n",
            "3      -1       bought  0.047852\n",
            "4      -1      ordered  0.043288\n",
            "5      -1         feel  0.043288\n",
            "6      -1         tank  0.039191\n",
            "7      -1          fit  0.038845\n",
            "8      -1        would  0.037218\n",
            "9      -1  comfortable  0.035471\n",
            "10      0         love  0.062679\n",
            "11      0        dress  0.062119\n",
            "12      0      perfect  0.059699\n",
            "13      0         like  0.058161\n",
            "14      0         wear  0.054243\n",
            "15      0        color  0.047027\n",
            "16      0         much  0.047027\n",
            "17      0      sweater  0.045430\n",
            "18      0         gown  0.041558\n",
            "19      0         long  0.035270\n",
            "20      1          bra  0.123096\n",
            "21      1         fits  0.059855\n",
            "22      1         wear  0.055874\n",
            "23      1          cup  0.049467\n",
            "24      1        great  0.049183\n",
            "25      1         size  0.048146\n",
            "26      1          got  0.042252\n",
            "27      1         band  0.041441\n",
            "28      1       straps  0.036765\n",
            "29      1       enough  0.035654\n",
            "30      2         suit  0.103436\n",
            "31      2         size  0.085970\n",
            "32      2        short  0.049414\n",
            "33      2         good  0.046301\n",
            "34      2          top  0.043896\n",
            "35      2        first  0.042871\n",
            "36      2        makes  0.042871\n",
            "37      2        torso  0.042712\n",
            "38      2          leg  0.042712\n",
            "39      2      bathing  0.040363\n"
          ]
        }
      ],
      "source": [
        "data = topic_model.get_topics()\n",
        "rows = []\n",
        "for topic, terms in data.items():\n",
        "    for term, weight in terms:\n",
        "        rows.append({'topic': topic, 'term': term, 'weight': weight})\n",
        "df = pd.DataFrame(rows)\n",
        "sorted_df = df.sort_values(by=['topic', 'weight'], ascending=[True, False])\n",
        "print(sorted_df)"
      ]
    },
    {
      "cell_type": "markdown",
      "metadata": {
        "id": "71COunlbSclg"
      },
      "source": [
        "# Some practical considerations"
      ]
    },
    {
      "cell_type": "code",
      "execution_count": null,
      "metadata": {
        "id": "vXxZZY6DSf4Y"
      },
      "outputs": [],
      "source": [
        "# Load the dataset and read the first 100 rows\n",
        "#file_path = 'Reviews.csv'\n",
        "#df = pd.read_csv(file_path,nrows=100)\n",
        "df = pd.read_csv('https://raw.githubusercontent.com/duong4595/ib9cw0-text-analytics-23-24/main/Data/Reviews.csv',nrows=100)\n"
      ]
    },
    {
      "cell_type": "markdown",
      "metadata": {
        "id": "uPFV6PeJSv5m"
      },
      "source": [
        "## Preprocessing\n",
        "Depending on the context, you may want to focus on terms that have a particular part-of-speech. For this case, let's only keep terms that are nouns and adjectives. Here are the steps to modify the `preprocess_text` function:\n",
        "\n",
        "* Tokenize the text.\n",
        "* Use part-of-speech tagging to identify the POS of each token.\n",
        "* Filter out tokens that are not nouns or adjectives.\n",
        "* Remove stopwords and non-alphabetic tokens.\n",
        "* Join the tokens back into a string."
      ]
    },
    {
      "cell_type": "code",
      "execution_count": null,
      "metadata": {
        "colab": {
          "base_uri": "https://localhost:8080/"
        },
        "id": "pAf_2YSYSwUo",
        "outputId": "7f380c62-f3a9-4187-c0e4-2d78b7624378"
      },
      "outputs": [
        {
          "output_type": "stream",
          "name": "stderr",
          "text": [
            "[nltk_data] Downloading package averaged_perceptron_tagger to\n",
            "[nltk_data]     /root/nltk_data...\n",
            "[nltk_data]   Unzipping taggers/averaged_perceptron_tagger.zip.\n"
          ]
        }
      ],
      "source": [
        "import nltk\n",
        "from nltk.corpus import stopwords\n",
        "from nltk.tokenize import word_tokenize\n",
        "from nltk import pos_tag\n",
        "\n",
        "nltk.download('averaged_perceptron_tagger')\n",
        "\n",
        "def preprocess_text(text):\n",
        "    # Lowercase\n",
        "    text = text.lower()\n",
        "\n",
        "    # Tokenize\n",
        "    tokens = nltk.word_tokenize(text)\n",
        "\n",
        "    # Part-of-speech tagging\n",
        "    tagged_tokens = nltk.pos_tag(tokens)\n",
        "\n",
        "    # Filter tokens that are nouns or adjectives\n",
        "    # NN* for nouns, JJ* for adjectives\n",
        "    tokens = [word for word, tag in tagged_tokens if tag in ['NN', 'NNS', 'NNP', 'NNPS', 'JJ', 'JJR', 'JJS']]\n",
        "\n",
        "    # Remove stopwords\n",
        "    stop_words = set(stopwords.words('english'))\n",
        "    tokens = [token for token in tokens if token not in stop_words and token.isalpha()]\n",
        "\n",
        "    return ' '.join(tokens)\n"
      ]
    },
    {
      "cell_type": "code",
      "execution_count": null,
      "metadata": {
        "id": "mvcM-T1iS3D4"
      },
      "outputs": [],
      "source": [
        "# Remove rows where 'Review' is NaN\n",
        "df = df.dropna(subset=['Review'])\n",
        "df['Review']= df['Review'].apply(preprocess_text)"
      ]
    },
    {
      "cell_type": "code",
      "execution_count": null,
      "metadata": {
        "colab": {
          "base_uri": "https://localhost:8080/",
          "height": 423
        },
        "id": "hmqIelpiTBOY",
        "outputId": "15252aa0-66f2-4602-c9a7-e8fccbe656d5"
      },
      "outputs": [
        {
          "output_type": "execute_result",
          "data": {
            "text/plain": [
              "                                               Review\n",
              "1   black white several different colorways perfec...\n",
              "2        tank material fit great reversible recommend\n",
              "3   tank comfortable flaws time walk anything both...\n",
              "4   top comfy stylish little purple cardigan feel ...\n",
              "5           sweater definite classic lots compliments\n",
              "..                                                ...\n",
              "92              present happy pattern fun slouchy fit\n",
              "93   lbs tank nice thin layer little low cut cleavage\n",
              "94  tanks straps wide bra straps soft added length...\n",
              "97                     nice lightweight super stylish\n",
              "98  lot fabric legs fit fine long bunching fabric ...\n",
              "\n",
              "[89 rows x 1 columns]"
            ],
            "text/html": [
              "\n",
              "  <div id=\"df-79a388b2-3ca3-4de7-8979-ea61b7af899f\" class=\"colab-df-container\">\n",
              "    <div>\n",
              "<style scoped>\n",
              "    .dataframe tbody tr th:only-of-type {\n",
              "        vertical-align: middle;\n",
              "    }\n",
              "\n",
              "    .dataframe tbody tr th {\n",
              "        vertical-align: top;\n",
              "    }\n",
              "\n",
              "    .dataframe thead th {\n",
              "        text-align: right;\n",
              "    }\n",
              "</style>\n",
              "<table border=\"1\" class=\"dataframe\">\n",
              "  <thead>\n",
              "    <tr style=\"text-align: right;\">\n",
              "      <th></th>\n",
              "      <th>Review</th>\n",
              "    </tr>\n",
              "  </thead>\n",
              "  <tbody>\n",
              "    <tr>\n",
              "      <th>1</th>\n",
              "      <td>black white several different colorways perfec...</td>\n",
              "    </tr>\n",
              "    <tr>\n",
              "      <th>2</th>\n",
              "      <td>tank material fit great reversible recommend</td>\n",
              "    </tr>\n",
              "    <tr>\n",
              "      <th>3</th>\n",
              "      <td>tank comfortable flaws time walk anything both...</td>\n",
              "    </tr>\n",
              "    <tr>\n",
              "      <th>4</th>\n",
              "      <td>top comfy stylish little purple cardigan feel ...</td>\n",
              "    </tr>\n",
              "    <tr>\n",
              "      <th>5</th>\n",
              "      <td>sweater definite classic lots compliments</td>\n",
              "    </tr>\n",
              "    <tr>\n",
              "      <th>...</th>\n",
              "      <td>...</td>\n",
              "    </tr>\n",
              "    <tr>\n",
              "      <th>92</th>\n",
              "      <td>present happy pattern fun slouchy fit</td>\n",
              "    </tr>\n",
              "    <tr>\n",
              "      <th>93</th>\n",
              "      <td>lbs tank nice thin layer little low cut cleavage</td>\n",
              "    </tr>\n",
              "    <tr>\n",
              "      <th>94</th>\n",
              "      <td>tanks straps wide bra straps soft added length...</td>\n",
              "    </tr>\n",
              "    <tr>\n",
              "      <th>97</th>\n",
              "      <td>nice lightweight super stylish</td>\n",
              "    </tr>\n",
              "    <tr>\n",
              "      <th>98</th>\n",
              "      <td>lot fabric legs fit fine long bunching fabric ...</td>\n",
              "    </tr>\n",
              "  </tbody>\n",
              "</table>\n",
              "<p>89 rows × 1 columns</p>\n",
              "</div>\n",
              "    <div class=\"colab-df-buttons\">\n",
              "\n",
              "  <div class=\"colab-df-container\">\n",
              "    <button class=\"colab-df-convert\" onclick=\"convertToInteractive('df-79a388b2-3ca3-4de7-8979-ea61b7af899f')\"\n",
              "            title=\"Convert this dataframe to an interactive table.\"\n",
              "            style=\"display:none;\">\n",
              "\n",
              "  <svg xmlns=\"http://www.w3.org/2000/svg\" height=\"24px\" viewBox=\"0 -960 960 960\">\n",
              "    <path d=\"M120-120v-720h720v720H120Zm60-500h600v-160H180v160Zm220 220h160v-160H400v160Zm0 220h160v-160H400v160ZM180-400h160v-160H180v160Zm440 0h160v-160H620v160ZM180-180h160v-160H180v160Zm440 0h160v-160H620v160Z\"/>\n",
              "  </svg>\n",
              "    </button>\n",
              "\n",
              "  <style>\n",
              "    .colab-df-container {\n",
              "      display:flex;\n",
              "      gap: 12px;\n",
              "    }\n",
              "\n",
              "    .colab-df-convert {\n",
              "      background-color: #E8F0FE;\n",
              "      border: none;\n",
              "      border-radius: 50%;\n",
              "      cursor: pointer;\n",
              "      display: none;\n",
              "      fill: #1967D2;\n",
              "      height: 32px;\n",
              "      padding: 0 0 0 0;\n",
              "      width: 32px;\n",
              "    }\n",
              "\n",
              "    .colab-df-convert:hover {\n",
              "      background-color: #E2EBFA;\n",
              "      box-shadow: 0px 1px 2px rgba(60, 64, 67, 0.3), 0px 1px 3px 1px rgba(60, 64, 67, 0.15);\n",
              "      fill: #174EA6;\n",
              "    }\n",
              "\n",
              "    .colab-df-buttons div {\n",
              "      margin-bottom: 4px;\n",
              "    }\n",
              "\n",
              "    [theme=dark] .colab-df-convert {\n",
              "      background-color: #3B4455;\n",
              "      fill: #D2E3FC;\n",
              "    }\n",
              "\n",
              "    [theme=dark] .colab-df-convert:hover {\n",
              "      background-color: #434B5C;\n",
              "      box-shadow: 0px 1px 3px 1px rgba(0, 0, 0, 0.15);\n",
              "      filter: drop-shadow(0px 1px 2px rgba(0, 0, 0, 0.3));\n",
              "      fill: #FFFFFF;\n",
              "    }\n",
              "  </style>\n",
              "\n",
              "    <script>\n",
              "      const buttonEl =\n",
              "        document.querySelector('#df-79a388b2-3ca3-4de7-8979-ea61b7af899f button.colab-df-convert');\n",
              "      buttonEl.style.display =\n",
              "        google.colab.kernel.accessAllowed ? 'block' : 'none';\n",
              "\n",
              "      async function convertToInteractive(key) {\n",
              "        const element = document.querySelector('#df-79a388b2-3ca3-4de7-8979-ea61b7af899f');\n",
              "        const dataTable =\n",
              "          await google.colab.kernel.invokeFunction('convertToInteractive',\n",
              "                                                    [key], {});\n",
              "        if (!dataTable) return;\n",
              "\n",
              "        const docLinkHtml = 'Like what you see? Visit the ' +\n",
              "          '<a target=\"_blank\" href=https://colab.research.google.com/notebooks/data_table.ipynb>data table notebook</a>'\n",
              "          + ' to learn more about interactive tables.';\n",
              "        element.innerHTML = '';\n",
              "        dataTable['output_type'] = 'display_data';\n",
              "        await google.colab.output.renderOutput(dataTable, element);\n",
              "        const docLink = document.createElement('div');\n",
              "        docLink.innerHTML = docLinkHtml;\n",
              "        element.appendChild(docLink);\n",
              "      }\n",
              "    </script>\n",
              "  </div>\n",
              "\n",
              "\n",
              "<div id=\"df-1540a125-beb2-4a10-b099-7a2e34fed86c\">\n",
              "  <button class=\"colab-df-quickchart\" onclick=\"quickchart('df-1540a125-beb2-4a10-b099-7a2e34fed86c')\"\n",
              "            title=\"Suggest charts\"\n",
              "            style=\"display:none;\">\n",
              "\n",
              "<svg xmlns=\"http://www.w3.org/2000/svg\" height=\"24px\"viewBox=\"0 0 24 24\"\n",
              "     width=\"24px\">\n",
              "    <g>\n",
              "        <path d=\"M19 3H5c-1.1 0-2 .9-2 2v14c0 1.1.9 2 2 2h14c1.1 0 2-.9 2-2V5c0-1.1-.9-2-2-2zM9 17H7v-7h2v7zm4 0h-2V7h2v10zm4 0h-2v-4h2v4z\"/>\n",
              "    </g>\n",
              "</svg>\n",
              "  </button>\n",
              "\n",
              "<style>\n",
              "  .colab-df-quickchart {\n",
              "      --bg-color: #E8F0FE;\n",
              "      --fill-color: #1967D2;\n",
              "      --hover-bg-color: #E2EBFA;\n",
              "      --hover-fill-color: #174EA6;\n",
              "      --disabled-fill-color: #AAA;\n",
              "      --disabled-bg-color: #DDD;\n",
              "  }\n",
              "\n",
              "  [theme=dark] .colab-df-quickchart {\n",
              "      --bg-color: #3B4455;\n",
              "      --fill-color: #D2E3FC;\n",
              "      --hover-bg-color: #434B5C;\n",
              "      --hover-fill-color: #FFFFFF;\n",
              "      --disabled-bg-color: #3B4455;\n",
              "      --disabled-fill-color: #666;\n",
              "  }\n",
              "\n",
              "  .colab-df-quickchart {\n",
              "    background-color: var(--bg-color);\n",
              "    border: none;\n",
              "    border-radius: 50%;\n",
              "    cursor: pointer;\n",
              "    display: none;\n",
              "    fill: var(--fill-color);\n",
              "    height: 32px;\n",
              "    padding: 0;\n",
              "    width: 32px;\n",
              "  }\n",
              "\n",
              "  .colab-df-quickchart:hover {\n",
              "    background-color: var(--hover-bg-color);\n",
              "    box-shadow: 0 1px 2px rgba(60, 64, 67, 0.3), 0 1px 3px 1px rgba(60, 64, 67, 0.15);\n",
              "    fill: var(--button-hover-fill-color);\n",
              "  }\n",
              "\n",
              "  .colab-df-quickchart-complete:disabled,\n",
              "  .colab-df-quickchart-complete:disabled:hover {\n",
              "    background-color: var(--disabled-bg-color);\n",
              "    fill: var(--disabled-fill-color);\n",
              "    box-shadow: none;\n",
              "  }\n",
              "\n",
              "  .colab-df-spinner {\n",
              "    border: 2px solid var(--fill-color);\n",
              "    border-color: transparent;\n",
              "    border-bottom-color: var(--fill-color);\n",
              "    animation:\n",
              "      spin 1s steps(1) infinite;\n",
              "  }\n",
              "\n",
              "  @keyframes spin {\n",
              "    0% {\n",
              "      border-color: transparent;\n",
              "      border-bottom-color: var(--fill-color);\n",
              "      border-left-color: var(--fill-color);\n",
              "    }\n",
              "    20% {\n",
              "      border-color: transparent;\n",
              "      border-left-color: var(--fill-color);\n",
              "      border-top-color: var(--fill-color);\n",
              "    }\n",
              "    30% {\n",
              "      border-color: transparent;\n",
              "      border-left-color: var(--fill-color);\n",
              "      border-top-color: var(--fill-color);\n",
              "      border-right-color: var(--fill-color);\n",
              "    }\n",
              "    40% {\n",
              "      border-color: transparent;\n",
              "      border-right-color: var(--fill-color);\n",
              "      border-top-color: var(--fill-color);\n",
              "    }\n",
              "    60% {\n",
              "      border-color: transparent;\n",
              "      border-right-color: var(--fill-color);\n",
              "    }\n",
              "    80% {\n",
              "      border-color: transparent;\n",
              "      border-right-color: var(--fill-color);\n",
              "      border-bottom-color: var(--fill-color);\n",
              "    }\n",
              "    90% {\n",
              "      border-color: transparent;\n",
              "      border-bottom-color: var(--fill-color);\n",
              "    }\n",
              "  }\n",
              "</style>\n",
              "\n",
              "  <script>\n",
              "    async function quickchart(key) {\n",
              "      const quickchartButtonEl =\n",
              "        document.querySelector('#' + key + ' button');\n",
              "      quickchartButtonEl.disabled = true;  // To prevent multiple clicks.\n",
              "      quickchartButtonEl.classList.add('colab-df-spinner');\n",
              "      try {\n",
              "        const charts = await google.colab.kernel.invokeFunction(\n",
              "            'suggestCharts', [key], {});\n",
              "      } catch (error) {\n",
              "        console.error('Error during call to suggestCharts:', error);\n",
              "      }\n",
              "      quickchartButtonEl.classList.remove('colab-df-spinner');\n",
              "      quickchartButtonEl.classList.add('colab-df-quickchart-complete');\n",
              "    }\n",
              "    (() => {\n",
              "      let quickchartButtonEl =\n",
              "        document.querySelector('#df-1540a125-beb2-4a10-b099-7a2e34fed86c button');\n",
              "      quickchartButtonEl.style.display =\n",
              "        google.colab.kernel.accessAllowed ? 'block' : 'none';\n",
              "    })();\n",
              "  </script>\n",
              "</div>\n",
              "    </div>\n",
              "  </div>\n"
            ],
            "application/vnd.google.colaboratory.intrinsic+json": {
              "type": "dataframe",
              "summary": "{\n  \"name\": \"df[['Review']]\",\n  \"rows\": 89,\n  \"fields\": [\n    {\n      \"column\": \"Review\",\n      \"properties\": {\n        \"dtype\": \"string\",\n        \"num_unique_values\": 89,\n        \"samples\": [\n          \"set perfect something special comfortable everyday wear c complaint longline portion underwire band lace place bottom favourite bra\",\n          \"beautiful pictures elegant small little\",\n          \"compliments stress perfect work perfect summer night concert perfect date night dress\"\n        ],\n        \"semantic_type\": \"\",\n        \"description\": \"\"\n      }\n    }\n  ]\n}"
            }
          },
          "metadata": {},
          "execution_count": 27
        }
      ],
      "source": [
        "df[['Review']]"
      ]
    },
    {
      "cell_type": "code",
      "execution_count": null,
      "metadata": {
        "id": "QIdBFK8ETTJg"
      },
      "outputs": [],
      "source": [
        "# 'texts' will be a list of lists of tokens\n",
        "texts = preprocess_texts(df['Review'])\n",
        "\n",
        "dictionary = Dictionary(texts)\n",
        "\n",
        "# Create a document-term matrix\n",
        "corpus = [dictionary.doc2bow(text) for text in texts]"
      ]
    },
    {
      "cell_type": "markdown",
      "metadata": {
        "id": "GhDzy62AYFaX"
      },
      "source": [
        "## LDA"
      ]
    },
    {
      "cell_type": "code",
      "execution_count": null,
      "metadata": {
        "colab": {
          "base_uri": "https://localhost:8080/"
        },
        "id": "N5TWdzogTaXo",
        "outputId": "e6e42a2b-ce97-4118-aa8a-4b59fcf3abb4"
      },
      "outputs": [
        {
          "output_type": "stream",
          "name": "stdout",
          "text": [
            "(0, '0.019*\"suit\" + 0.017*\"size\" + 0.012*\"small\" + 0.011*\"top\" + 0.010*\"color\" + 0.010*\"comfortable\" + 0.009*\"little\" + 0.009*\"fit\" + 0.008*\"much\" + 0.008*\"soft\"')\n",
            "(1, '0.021*\"size\" + 0.018*\"bra\" + 0.018*\"perfect\" + 0.018*\"great\" + 0.016*\"fit\" + 0.015*\"dress\" + 0.012*\"comfortable\" + 0.011*\"color\" + 0.011*\"sweater\" + 0.011*\"time\"')\n"
          ]
        }
      ],
      "source": [
        "# Set parameters\n",
        "num_topics = 2\n",
        "passes = 10\n",
        "\n",
        "# Create the LDA model\n",
        "lda = LdaModel(corpus=corpus, id2word=dictionary, num_topics=num_topics, passes=passes)\n",
        "\n",
        "# Display the topics\n",
        "topics = lda.print_topics(num_words=10)\n",
        "for topic in topics:\n",
        "    print(topic)\n"
      ]
    },
    {
      "cell_type": "markdown",
      "metadata": {
        "id": "M_64FJi2YJdv"
      },
      "source": [
        "## Choose the number of topics"
      ]
    },
    {
      "cell_type": "code",
      "execution_count": null,
      "metadata": {
        "colab": {
          "base_uri": "https://localhost:8080/",
          "height": 508
        },
        "id": "NeAfflQ7T5UA",
        "outputId": "bc5af42b-a038-48e2-b888-cfec8dd7e5d7"
      },
      "outputs": [
        {
          "output_type": "stream",
          "name": "stdout",
          "text": [
            "[0.2775663720454346, 0.3028677466800543, 0.33696836370938066, 0.3266251284126911, 0.3446052709778307, 0.3522912205875274, 0.34122243741569713, 0.3284349836194244]\n"
          ]
        },
        {
          "output_type": "display_data",
          "data": {
            "text/plain": [
              "<Figure size 1200x600 with 1 Axes>"
            ],
            "image/png": "[encoded data removed]"
          },
          "metadata": {}
        }
      ],
      "source": [
        "import matplotlib.pyplot as plt\n",
        "\n",
        "# Range of topics to evaluate\n",
        "topic_range = range(2, 10)\n",
        "\n",
        "# List to store coherence\n",
        "coherence_scores = []\n",
        "\n",
        "for num_topics in topic_range:\n",
        "    lda = LdaModel(corpus=corpus, id2word=dictionary, num_topics=num_topics, passes=passes, random_state=100)\n",
        "    # Initialize CoherenceModel after training the LDA model\n",
        "    coherence_model_lda = CoherenceModel(model=lda, texts=texts, dictionary=dictionary, coherence='c_v')\n",
        "    coherence_lda = coherence_model_lda.get_coherence()\n",
        "\n",
        "    # Append the coherence score\n",
        "    coherence_scores.append(coherence_lda)\n",
        "\n",
        "print(coherence_scores)\n",
        "# Plotting\n",
        "plt.figure(figsize=(12, 6))\n",
        "plt.plot(topic_range, coherence_scores)\n",
        "plt.title(\"Coherence Scores vs Number of Topics\")\n",
        "plt.xlabel(\"Number of Topics\")\n",
        "plt.ylabel(\"Coherence score\")\n",
        "plt.tight_layout()\n",
        "plt.show()"
      ]
    },
    {
      "cell_type": "code",
      "execution_count": null,
      "metadata": {
        "colab": {
          "base_uri": "https://localhost:8080/"
        },
        "id": "t6LYb8oFUbJ4",
        "outputId": "2ce80cce-32e8-45d4-f637-64550b94ab05"
      },
      "outputs": [
        {
          "output_type": "stream",
          "name": "stdout",
          "text": [
            "(0, '0.022*\"great\" + 0.018*\"tank\" + 0.018*\"comfortable\" + 0.018*\"sweater\" + 0.018*\"sexy\" + 0.017*\"size\" + 0.014*\"top\" + 0.014*\"cute\" + 0.014*\"natori\" + 0.014*\"color\"')\n",
            "(1, '0.016*\"perfect\" + 0.016*\"color\" + 0.016*\"time\" + 0.013*\"super\" + 0.013*\"year\" + 0.013*\"bralette\" + 0.010*\"suit\" + 0.010*\"favorite\" + 0.010*\"gown\" + 0.010*\"much\"')\n",
            "(2, '0.028*\"perfect\" + 0.024*\"bra\" + 0.021*\"dress\" + 0.016*\"fit\" + 0.014*\"short\" + 0.014*\"lace\" + 0.014*\"small\" + 0.014*\"soft\" + 0.014*\"strap\" + 0.013*\"great\"')\n",
            "(3, '0.039*\"size\" + 0.025*\"small\" + 0.022*\"suit\" + 0.021*\"fit\" + 0.015*\"look\" + 0.015*\"good\" + 0.015*\"cup\" + 0.015*\"piece\" + 0.014*\"color\" + 0.014*\"bra\"')\n",
            "(4, '0.020*\"color\" + 0.020*\"size\" + 0.020*\"suit\" + 0.015*\"perfect\" + 0.015*\"panty\" + 0.015*\"length\" + 0.015*\"short\" + 0.015*\"comfortable\" + 0.011*\"first\" + 0.010*\"pant\"')\n",
            "(5, '0.021*\"soft\" + 0.008*\"way\" + 0.008*\"bloom\" + 0.008*\"feel\" + 0.008*\"style\" + 0.008*\"bra\" + 0.008*\"nice\" + 0.008*\"comfortable\" + 0.008*\"length\" + 0.008*\"pleased\"')\n",
            "(6, '0.034*\"size\" + 0.024*\"time\" + 0.024*\"bra\" + 0.015*\"great\" + 0.015*\"dress\" + 0.014*\"much\" + 0.014*\"material\" + 0.014*\"regular\" + 0.014*\"fit\" + 0.014*\"soft\"')\n"
          ]
        }
      ],
      "source": [
        "# Set optimal number of topics\n",
        "num_topics = 7\n",
        "passes = 10\n",
        "\n",
        "# Create the LDA model\n",
        "lda = LdaModel(corpus=corpus, id2word=dictionary, num_topics=num_topics, passes=passes)\n",
        "\n",
        "# Display the topics\n",
        "topics = lda.print_topics(num_words=10)\n",
        "for topic in topics:\n",
        "    print(topic)"
      ]
    },
    {
      "cell_type": "markdown",
      "metadata": {
        "id": "vStwGjpNVXYW"
      },
      "source": [
        "## Visualize"
      ]
    },
    {
      "cell_type": "markdown",
      "metadata": {
        "id": "vOCx3jdyWspe"
      },
      "source": [
        "### Print top 5 terms in each topic"
      ]
    },
    {
      "cell_type": "code",
      "execution_count": null,
      "metadata": {
        "colab": {
          "base_uri": "https://localhost:8080/"
        },
        "id": "9DUJZCKJWgRW",
        "outputId": "1af0e5a1-60b0-4911-e62c-81c41d340158"
      },
      "outputs": [
        {
          "output_type": "stream",
          "name": "stdout",
          "text": [
            "Topic 0: great, tank, comfortable, sweater, sexy\n",
            "Topic 1: perfect, color, time, super, year\n",
            "Topic 2: perfect, bra, dress, fit, short\n",
            "Topic 3: size, small, suit, fit, look\n",
            "Topic 4: color, size, suit, perfect, panty\n",
            "Topic 5: soft, way, bloom, feel, style\n",
            "Topic 6: size, time, bra, great, dress\n"
          ]
        }
      ],
      "source": [
        "# Print the top 5 terms for each topic\n",
        "for topic_id in range(num_topics):\n",
        "    top_terms = lda.show_topic(topic_id, topn=5)  # Get the top 5 terms for this topic\n",
        "    terms = ', '.join([term for term, _ in top_terms])\n",
        "    print(f\"Topic {topic_id}: {terms}\")"
      ]
    },
    {
      "cell_type": "markdown",
      "metadata": {
        "id": "_xk_K_zpWwq3"
      },
      "source": [
        "## Interactive Web-based Visualization"
      ]
    },
    {
      "cell_type": "code",
      "execution_count": null,
      "metadata": {
        "colab": {
          "base_uri": "https://localhost:8080/"
        },
        "id": "rIKw-02BVZif",
        "outputId": "5b16b7d8-6065-477a-e36e-bc5a4a178ed4"
      },
      "outputs": [
        {
          "output_type": "stream",
          "name": "stdout",
          "text": [
            "Collecting pyLDAvis\n",
            "  Downloading pyLDAvis-3.4.1-py3-none-any.whl (2.6 MB)\n",
            "\u001b[2K     \u001b[90m━━━━━━━━━━━━━━━━━━━━━━━━━━━━━━━━━━━━━━━━\u001b[0m \u001b[32m2.6/2.6 MB\u001b[0m \u001b[31m23.8 MB/s\u001b[0m eta \u001b[36m0:00:00\u001b[0m\n",
            "\u001b[?25hRequirement already satisfied: numpy>=1.24.2 in /usr/local/lib/python3.10/dist-packages (from pyLDAvis) (1.25.2)\n",
            "Requirement already satisfied: scipy in /usr/local/lib/python3.10/dist-packages (from pyLDAvis) (1.11.4)\n",
            "Requirement already satisfied: pandas>=2.0.0 in /usr/local/lib/python3.10/dist-packages (from pyLDAvis) (2.0.3)\n",
            "Requirement already satisfied: joblib>=1.2.0 in /usr/local/lib/python3.10/dist-packages (from pyLDAvis) (1.4.2)\n",
            "Requirement already satisfied: jinja2 in /usr/local/lib/python3.10/dist-packages (from pyLDAvis) (3.1.3)\n",
            "Requirement already satisfied: numexpr in /usr/local/lib/python3.10/dist-packages (from pyLDAvis) (2.10.0)\n",
            "Collecting funcy (from pyLDAvis)\n",
            "  Downloading funcy-2.0-py2.py3-none-any.whl (30 kB)\n",
            "Requirement already satisfied: scikit-learn>=1.0.0 in /usr/local/lib/python3.10/dist-packages (from pyLDAvis) (1.2.2)\n",
            "Requirement already satisfied: gensim in /usr/local/lib/python3.10/dist-packages (from pyLDAvis) (4.3.2)\n",
            "Requirement already satisfied: setuptools in /usr/local/lib/python3.10/dist-packages (from pyLDAvis) (67.7.2)\n",
            "Requirement already satisfied: python-dateutil>=2.8.2 in /usr/local/lib/python3.10/dist-packages (from pandas>=2.0.0->pyLDAvis) (2.8.2)\n",
            "Requirement already satisfied: pytz>=2020.1 in /usr/local/lib/python3.10/dist-packages (from pandas>=2.0.0->pyLDAvis) (2023.4)\n",
            "Requirement already satisfied: tzdata>=2022.1 in /usr/local/lib/python3.10/dist-packages (from pandas>=2.0.0->pyLDAvis) (2024.1)\n",
            "Requirement already satisfied: threadpoolctl>=2.0.0 in /usr/local/lib/python3.10/dist-packages (from scikit-learn>=1.0.0->pyLDAvis) (3.5.0)\n",
            "Requirement already satisfied: smart-open>=1.8.1 in /usr/local/lib/python3.10/dist-packages (from gensim->pyLDAvis) (6.4.0)\n",
            "Requirement already satisfied: MarkupSafe>=2.0 in /usr/local/lib/python3.10/dist-packages (from jinja2->pyLDAvis) (2.1.5)\n",
            "Requirement already satisfied: six>=1.5 in /usr/local/lib/python3.10/dist-packages (from python-dateutil>=2.8.2->pandas>=2.0.0->pyLDAvis) (1.16.0)\n",
            "Installing collected packages: funcy, pyLDAvis\n",
            "Successfully installed funcy-2.0 pyLDAvis-3.4.1\n"
          ]
        }
      ],
      "source": [
        "%pip install pyLDAvis"
      ]
    },
    {
      "cell_type": "code",
      "execution_count": null,
      "metadata": {
        "colab": {
          "base_uri": "https://localhost:8080/"
        },
        "id": "3WzkBgvwVfHA",
        "outputId": "4ad9edbc-386f-4b84-d3e2-4e6d0421963e"
      },
      "outputs": [
        {
          "output_type": "stream",
          "name": "stderr",
          "text": [
            "/usr/local/lib/python3.10/dist-packages/joblib/externals/loky/backend/fork_exec.py:38: RuntimeWarning: os.fork() was called. os.fork() is incompatible with multithreaded code, and JAX is multithreaded, so this will likely lead to a deadlock.\n",
            "  pid = os.fork()\n"
          ]
        }
      ],
      "source": [
        "import pyLDAvis\n",
        "import pyLDAvis.gensim_models as gensimvis\n",
        "\n",
        "# Assume `lda` is the LDA model and `corpus` and `dictionary` are your corpus and dictionary from Gensim\n",
        "\n",
        "# Prepare the visualization data\n",
        "vis_data = gensimvis.prepare(lda, corpus, dictionary)\n",
        "\n",
        "# Display the visualization in a Jupyter Notebook (or in an IPython environment)\n",
        "pyLDAvis.display(vis_data)\n",
        "\n",
        "# To save the visualization as an HTML file\n",
        "pyLDAvis.save_html(vis_data, 'lda_visualization.html')\n"
      ]
    },
    {
      "cell_type": "markdown",
      "metadata": {
        "id": "SyuHy2e3PkQw"
      },
      "source": [
        "# Your Turn\n",
        "Conduct topic modeling with `sms_spam.csv`and `oct_delta.csv` data."
      ]
    },
    {
      "cell_type": "markdown",
      "metadata": {
        "id": "x2CuRJSC3QF7"
      },
      "source": [
        "## SMS-Spam\n",
        "### Preprocessing"
      ]
    },
    {
      "cell_type": "code",
      "execution_count": null,
      "metadata": {
        "colab": {
          "base_uri": "https://localhost:8080/"
        },
        "id": "OADGaMyDuxND",
        "outputId": "64444418-123c-4dba-fbc8-0daeea1d7788"
      },
      "outputs": [
        {
          "output_type": "stream",
          "name": "stderr",
          "text": [
            "/usr/local/lib/python3.10/dist-packages/ipykernel/ipkernel.py:283: DeprecationWarning: `should_run_async` will not call `transform_cell` automatically in the future. Please pass the result to `transformed_cell` argument and any exception that happen during thetransform in `preprocessing_exc_tuple` in IPython 7.17 and above.\n",
            "  and should_run_async(code)\n"
          ]
        }
      ],
      "source": [
        "# Load the dataset\n",
        "sms = pd.read_csv('https://raw.githubusercontent.com/duong4595/ib9cw0-text-analytics-23-24/main/Data/sms_spam.csv')\n"
      ]
    },
    {
      "cell_type": "code",
      "execution_count": null,
      "metadata": {
        "colab": {
          "base_uri": "https://localhost:8080/"
        },
        "id": "ct91aUQJLj1p",
        "outputId": "64ae97ba-d3d9-4c17-b4d0-98def11fd549"
      },
      "outputs": [
        {
          "output_type": "stream",
          "name": "stderr",
          "text": [
            "/usr/local/lib/python3.10/dist-packages/ipykernel/ipkernel.py:283: DeprecationWarning: `should_run_async` will not call `transform_cell` automatically in the future. Please pass the result to `transformed_cell` argument and any exception that happen during thetransform in `preprocessing_exc_tuple` in IPython 7.17 and above.\n",
            "  and should_run_async(code)\n"
          ]
        }
      ],
      "source": [
        "# Clean data: Remove rows with missing 'text' values\n",
        "cleaned_sms = sms.dropna(subset=['text'])\n",
        "\n",
        "# Function to preprocess text\n",
        "def preprocess_text(text):\n",
        "  \"\"\"Preprocesses text data by performing:\n",
        "      - Lowercasing\n",
        "      - Tokenization\n",
        "      - Stopword removal (including custom words)\n",
        "      - Alphabetic character filtering\n",
        "      - Lemmatization\n",
        "  \"\"\"\n",
        "  text = text.lower()\n",
        "  tokens = nltk.word_tokenize(text)\n",
        "  stop_words = stopwords.words('english')\n",
        "  extra_words = ['.','*',',', 'ur', 'lor', 'da', 'u', 'n', 'gt']\n",
        "  stop_words.extend(extra_words)\n",
        "  tokens = [token for token in tokens if token not in stop_words and token.isalpha()]\n",
        "  lemmatizer = WordNetLemmatizer()\n",
        "  tokens = [lemmatizer.lemmatize(token) for token in tokens]\n",
        "  return tokens  # Return a list of tokens, not a joined string\n",
        "\n",
        "# Preprocess SMS text column\n",
        "cleaned_sms['text'] = cleaned_sms['text'].apply(preprocess_text)\n",
        "\n",
        "# Create a list of lists for tokens (one list per message)\n",
        "texts_sms = cleaned_sms['text'].tolist()\n",
        "\n",
        "# Create the dictionary using the list of lists\n",
        "dictionary_sms = Dictionary(texts_sms)\n",
        "\n",
        "# Create a document-term matrix\n",
        "corpus_sms = [dictionary_sms.doc2bow(text) for text in texts_sms]"
      ]
    },
    {
      "cell_type": "markdown",
      "metadata": {
        "id": "VoZ4BiFiwFW4"
      },
      "source": [
        "### LDA"
      ]
    },
    {
      "cell_type": "code",
      "execution_count": null,
      "metadata": {
        "colab": {
          "base_uri": "https://localhost:8080/",
          "height": 543
        },
        "id": "cHbK5hVGwmUL",
        "outputId": "98987e12-13fa-420b-c1a6-08e1593fbea2"
      },
      "outputs": [
        {
          "output_type": "stream",
          "name": "stderr",
          "text": [
            "/usr/local/lib/python3.10/dist-packages/ipykernel/ipkernel.py:283: DeprecationWarning: `should_run_async` will not call `transform_cell` automatically in the future. Please pass the result to `transformed_cell` argument and any exception that happen during thetransform in `preprocessing_exc_tuple` in IPython 7.17 and above.\n",
            "  and should_run_async(code)\n"
          ]
        },
        {
          "output_type": "stream",
          "name": "stdout",
          "text": [
            "[0.34809504921245504, 0.38500911028031565, 0.33646919755934956, 0.3007258765648306, 0.33960049280179366, 0.31804840833470227, 0.34370438892541866, 0.35713832108863325]\n"
          ]
        },
        {
          "output_type": "display_data",
          "data": {
            "text/plain": [
              "<Figure size 1200x600 with 1 Axes>"
            ],
            "image/png": "[encoded data removed]"
          },
          "metadata": {}
        }
      ],
      "source": [
        "# Range of topics to evaluate\n",
        "num_topics_sms = 3\n",
        "passes_sms = 30\n",
        "topic_range_sms = range(2, 10)\n",
        "\n",
        "# List to store coherence\n",
        "coherence_scores_sms = []\n",
        "\n",
        "for num_topics_sms in topic_range_sms:\n",
        "    lda_sms = LdaModel(corpus=corpus_sms, id2word=dictionary_sms, num_topics=num_topics_sms, passes=passes_sms, random_state=100)\n",
        "    # Initialize CoherenceModel after training the LDA model\n",
        "    coherence_model_lda = CoherenceModel(model=lda_sms, texts=texts_sms, dictionary=dictionary_sms, coherence='c_v')\n",
        "    coherence_lda = coherence_model_lda.get_coherence()\n",
        "\n",
        "    # Append the coherence score\n",
        "    coherence_scores_sms.append(coherence_lda)\n",
        "\n",
        "print(coherence_scores_sms)\n",
        "# Plotting\n",
        "plt.figure(figsize=(12, 6))\n",
        "plt.plot(topic_range_sms, coherence_scores_sms)\n",
        "plt.title(\"Coherence Scores vs Number of Topics\")\n",
        "plt.xlabel(\"Number of Topics\")\n",
        "plt.ylabel(\"Coherence score\")\n",
        "plt.tight_layout()\n",
        "plt.show()"
      ]
    },
    {
      "cell_type": "code",
      "execution_count": null,
      "metadata": {
        "colab": {
          "base_uri": "https://localhost:8080/"
        },
        "id": "ttq4261ZyZR8",
        "outputId": "ea217bb2-8306-4812-9578-a0f36c25622e"
      },
      "outputs": [
        {
          "output_type": "stream",
          "name": "stderr",
          "text": [
            "/usr/local/lib/python3.10/dist-packages/ipykernel/ipkernel.py:283: DeprecationWarning: `should_run_async` will not call `transform_cell` automatically in the future. Please pass the result to `transformed_cell` argument and any exception that happen during thetransform in `preprocessing_exc_tuple` in IPython 7.17 and above.\n",
            "  and should_run_async(code)\n"
          ]
        },
        {
          "output_type": "stream",
          "name": "stdout",
          "text": [
            "(0, '0.017*\"come\" + 0.012*\"got\" + 0.012*\"home\" + 0.012*\"go\" + 0.011*\"get\" + 0.008*\"back\" + 0.008*\"k\" + 0.007*\"want\" + 0.007*\"wat\" + 0.006*\"still\"')\n",
            "(1, '0.041*\"call\" + 0.019*\"free\" + 0.014*\"text\" + 0.014*\"lt\" + 0.011*\"stop\" + 0.011*\"txt\" + 0.011*\"mobile\" + 0.009*\"reply\" + 0.008*\"send\" + 0.008*\"please\"')\n",
            "(2, '0.011*\"know\" + 0.011*\"good\" + 0.010*\"day\" + 0.010*\"love\" + 0.009*\"like\" + 0.008*\"ok\" + 0.007*\"sorry\" + 0.006*\"later\" + 0.006*\"dont\" + 0.006*\"time\"')\n"
          ]
        }
      ],
      "source": [
        "# Set parameters\n",
        "num_topics_sms = 3\n",
        "passes_sms = 30\n",
        "\n",
        "# Create the LDA model\n",
        "lda_sms = LdaModel(corpus=corpus_sms, id2word=dictionary_sms, num_topics=num_topics_sms, passes=passes_sms,random_state=100)\n",
        "\n",
        "# Display the topics\n",
        "topics_sms = lda_sms.print_topics(num_words=10)\n",
        "for topic in topics_sms:\n",
        "    print(topic)"
      ]
    },
    {
      "cell_type": "code",
      "execution_count": null,
      "metadata": {
        "colab": {
          "base_uri": "https://localhost:8080/"
        },
        "id": "Mjlk_afnzJH8",
        "outputId": "e8f1af53-2b03-45ed-9d6c-795d3b975536"
      },
      "outputs": [
        {
          "output_type": "stream",
          "name": "stdout",
          "text": [
            "Topic 0: come, got, home, go, get, back, k, want, wat, still\n",
            "Topic 1: call, free, text, lt, stop, txt, mobile, reply, send, please\n",
            "Topic 2: know, good, day, love, like, ok, sorry, later, dont, time\n"
          ]
        },
        {
          "output_type": "stream",
          "name": "stderr",
          "text": [
            "/usr/local/lib/python3.10/dist-packages/ipykernel/ipkernel.py:283: DeprecationWarning: `should_run_async` will not call `transform_cell` automatically in the future. Please pass the result to `transformed_cell` argument and any exception that happen during thetransform in `preprocessing_exc_tuple` in IPython 7.17 and above.\n",
            "  and should_run_async(code)\n"
          ]
        }
      ],
      "source": [
        "# Print the top 5 terms for each topic\n",
        "for topic_id in range(num_topics_sms):\n",
        "    top_terms_sms = lda_sms.show_topic(topic_id, topn=10)  # Get the top 5 terms for this topic\n",
        "    terms = ', '.join([term for term, _ in top_terms_sms])\n",
        "    print(f\"Topic {topic_id}: {terms}\")"
      ]
    },
    {
      "cell_type": "markdown",
      "metadata": {
        "id": "b8EJjOJtzRD2"
      },
      "source": [
        "### LSA"
      ]
    },
    {
      "cell_type": "code",
      "execution_count": null,
      "metadata": {
        "colab": {
          "base_uri": "https://localhost:8080/"
        },
        "id": "pr-tbTrLzPyM",
        "outputId": "acea3667-c890-4b0e-d0ea-e4e4050d7bb5"
      },
      "outputs": [
        {
          "output_type": "stream",
          "name": "stdout",
          "text": [
            "(0, '0.459*\"request\" + 0.275*\"get\" + 0.219*\"great\" + 0.208*\"r\" + 0.205*\"ok\"')\n",
            "(1, '0.509*\"request\" + -0.472*\"ok\" + -0.211*\"fear\" + -0.178*\"month\" + -0.173*\"incorrect\"')\n",
            "(2, '0.549*\"get\" + -0.359*\"r\" + -0.189*\"speak\" + -0.169*\"request\" + 0.168*\"great\"')\n",
            "(3, '-0.337*\"request\" + -0.263*\"ok\" + 0.261*\"tkts\" + 0.260*\"r\" + -0.237*\"question\"')\n",
            "(4, '0.265*\"r\" + 0.256*\"question\" + 0.239*\"life\" + -0.236*\"word\" + 0.219*\"comp\"')\n"
          ]
        },
        {
          "output_type": "stream",
          "name": "stderr",
          "text": [
            "/usr/local/lib/python3.10/dist-packages/ipykernel/ipkernel.py:283: DeprecationWarning: `should_run_async` will not call `transform_cell` automatically in the future. Please pass the result to `transformed_cell` argument and any exception that happen during thetransform in `preprocessing_exc_tuple` in IPython 7.17 and above.\n",
            "  and should_run_async(code)\n",
            "/usr/local/lib/python3.10/dist-packages/gensim/models/lsimodel.py:963: DeprecationWarning: Please use `csc_matvecs` from the `scipy.sparse` namespace, the `scipy.sparse.sparsetools` namespace is deprecated.\n",
            "  sparsetools.csc_matvecs(\n",
            "/usr/local/lib/python3.10/dist-packages/scipy/linalg/_special_matrices.py:154: DeprecationWarning: 'tri'/'tril/'triu' are deprecated as of SciPy 1.11.0 and will be removed in v1.13.0. Please use numpy.(tri/tril/triu) instead.\n",
            "  out = (1 - tri(m.shape[0], m.shape[1], k - 1, m.dtype.char)) * m\n",
            "/usr/local/lib/python3.10/dist-packages/scipy/linalg/_special_matrices.py:154: DeprecationWarning: 'tri'/'tril/'triu' are deprecated as of SciPy 1.11.0 and will be removed in v1.13.0. Please use numpy.(tri/tril/triu) instead.\n",
            "  out = (1 - tri(m.shape[0], m.shape[1], k - 1, m.dtype.char)) * m\n",
            "/usr/local/lib/python3.10/dist-packages/scipy/linalg/_special_matrices.py:154: DeprecationWarning: 'tri'/'tril/'triu' are deprecated as of SciPy 1.11.0 and will be removed in v1.13.0. Please use numpy.(tri/tril/triu) instead.\n",
            "  out = (1 - tri(m.shape[0], m.shape[1], k - 1, m.dtype.char)) * m\n"
          ]
        },
        {
          "output_type": "stream",
          "name": "stdout",
          "text": [
            "Coherence Score: 0.5972330964839829\n"
          ]
        }
      ],
      "source": [
        "# train LSA model\n",
        "num_topics_sms = 5\n",
        "lsa_model_sms = LsiModel(corpus, num_topics=num_topics_sms, id2word=dictionary_sms,random_seed=100)\n",
        "topics_sms = lsa_model_sms.print_topics(num_words=5)\n",
        "for topic in topics_sms:\n",
        "    print(topic)\n",
        "\n",
        "coherence_model_lsa_sms = CoherenceModel(model=lsa_model_sms, texts=texts_sms, dictionary=dictionary_sms, coherence='c_v')\n",
        "coherence_lsa_sms = coherence_model_lsa_sms.get_coherence()\n",
        "print('Coherence Score:', coherence_lsa_sms)"
      ]
    },
    {
      "cell_type": "markdown",
      "metadata": {
        "id": "kRTE3VKKz4tk"
      },
      "source": [
        "### NMF"
      ]
    },
    {
      "cell_type": "code",
      "execution_count": null,
      "metadata": {
        "colab": {
          "base_uri": "https://localhost:8080/"
        },
        "id": "byY5RmYbz6Th",
        "outputId": "b49c10de-92ca-4e09-9c17-db1f18c27ad6"
      },
      "outputs": [
        {
          "output_type": "stream",
          "name": "stderr",
          "text": [
            "/usr/local/lib/python3.10/dist-packages/ipykernel/ipkernel.py:283: DeprecationWarning: `should_run_async` will not call `transform_cell` automatically in the future. Please pass the result to `transformed_cell` argument and any exception that happen during thetransform in `preprocessing_exc_tuple` in IPython 7.17 and above.\n",
            "  and should_run_async(code)\n",
            "/usr/local/lib/python3.10/dist-packages/gensim/models/nmf.py:578: DeprecationWarning: Please use `csc_matrix` from the `scipy.sparse` namespace, the `scipy.sparse.csc` namespace is deprecated.\n",
            "  if isinstance(corpus, scipy.sparse.csc.csc_matrix):\n",
            "/usr/local/lib/python3.10/dist-packages/gensim/models/nmf.py:607: DeprecationWarning: Please use `csc_matrix` from the `scipy.sparse` namespace, the `scipy.sparse.csc` namespace is deprecated.\n",
            "  if isinstance(corpus, scipy.sparse.csc.csc_matrix):\n",
            "/usr/local/lib/python3.10/dist-packages/gensim/models/nmf.py:620: DeprecationWarning: Please use `csc_matrix` from the `scipy.sparse` namespace, the `scipy.sparse.csc` namespace is deprecated.\n",
            "  if isinstance(corpus, scipy.sparse.csc.csc_matrix):\n",
            "/usr/local/lib/python3.10/dist-packages/gensim/models/nmf.py:607: DeprecationWarning: Please use `csc_matrix` from the `scipy.sparse` namespace, the `scipy.sparse.csc` namespace is deprecated.\n",
            "  if isinstance(corpus, scipy.sparse.csc.csc_matrix):\n",
            "/usr/local/lib/python3.10/dist-packages/gensim/models/nmf.py:620: DeprecationWarning: Please use `csc_matrix` from the `scipy.sparse` namespace, the `scipy.sparse.csc` namespace is deprecated.\n",
            "  if isinstance(corpus, scipy.sparse.csc.csc_matrix):\n",
            "/usr/local/lib/python3.10/dist-packages/gensim/models/nmf.py:607: DeprecationWarning: Please use `csc_matrix` from the `scipy.sparse` namespace, the `scipy.sparse.csc` namespace is deprecated.\n",
            "  if isinstance(corpus, scipy.sparse.csc.csc_matrix):\n",
            "/usr/local/lib/python3.10/dist-packages/gensim/models/nmf.py:620: DeprecationWarning: Please use `csc_matrix` from the `scipy.sparse` namespace, the `scipy.sparse.csc` namespace is deprecated.\n",
            "  if isinstance(corpus, scipy.sparse.csc.csc_matrix):\n",
            "/usr/local/lib/python3.10/dist-packages/gensim/models/nmf.py:607: DeprecationWarning: Please use `csc_matrix` from the `scipy.sparse` namespace, the `scipy.sparse.csc` namespace is deprecated.\n",
            "  if isinstance(corpus, scipy.sparse.csc.csc_matrix):\n",
            "/usr/local/lib/python3.10/dist-packages/gensim/models/nmf.py:620: DeprecationWarning: Please use `csc_matrix` from the `scipy.sparse` namespace, the `scipy.sparse.csc` namespace is deprecated.\n",
            "  if isinstance(corpus, scipy.sparse.csc.csc_matrix):\n",
            "/usr/local/lib/python3.10/dist-packages/gensim/models/nmf.py:607: DeprecationWarning: Please use `csc_matrix` from the `scipy.sparse` namespace, the `scipy.sparse.csc` namespace is deprecated.\n",
            "  if isinstance(corpus, scipy.sparse.csc.csc_matrix):\n",
            "/usr/local/lib/python3.10/dist-packages/gensim/models/nmf.py:620: DeprecationWarning: Please use `csc_matrix` from the `scipy.sparse` namespace, the `scipy.sparse.csc` namespace is deprecated.\n",
            "  if isinstance(corpus, scipy.sparse.csc.csc_matrix):\n",
            "/usr/local/lib/python3.10/dist-packages/gensim/models/nmf.py:607: DeprecationWarning: Please use `csc_matrix` from the `scipy.sparse` namespace, the `scipy.sparse.csc` namespace is deprecated.\n",
            "  if isinstance(corpus, scipy.sparse.csc.csc_matrix):\n",
            "/usr/local/lib/python3.10/dist-packages/gensim/models/nmf.py:620: DeprecationWarning: Please use `csc_matrix` from the `scipy.sparse` namespace, the `scipy.sparse.csc` namespace is deprecated.\n",
            "  if isinstance(corpus, scipy.sparse.csc.csc_matrix):\n",
            "/usr/local/lib/python3.10/dist-packages/gensim/models/nmf.py:607: DeprecationWarning: Please use `csc_matrix` from the `scipy.sparse` namespace, the `scipy.sparse.csc` namespace is deprecated.\n",
            "  if isinstance(corpus, scipy.sparse.csc.csc_matrix):\n",
            "/usr/local/lib/python3.10/dist-packages/gensim/models/nmf.py:620: DeprecationWarning: Please use `csc_matrix` from the `scipy.sparse` namespace, the `scipy.sparse.csc` namespace is deprecated.\n",
            "  if isinstance(corpus, scipy.sparse.csc.csc_matrix):\n",
            "/usr/local/lib/python3.10/dist-packages/gensim/models/nmf.py:607: DeprecationWarning: Please use `csc_matrix` from the `scipy.sparse` namespace, the `scipy.sparse.csc` namespace is deprecated.\n",
            "  if isinstance(corpus, scipy.sparse.csc.csc_matrix):\n",
            "/usr/local/lib/python3.10/dist-packages/gensim/models/nmf.py:620: DeprecationWarning: Please use `csc_matrix` from the `scipy.sparse` namespace, the `scipy.sparse.csc` namespace is deprecated.\n",
            "  if isinstance(corpus, scipy.sparse.csc.csc_matrix):\n",
            "/usr/local/lib/python3.10/dist-packages/gensim/models/nmf.py:607: DeprecationWarning: Please use `csc_matrix` from the `scipy.sparse` namespace, the `scipy.sparse.csc` namespace is deprecated.\n",
            "  if isinstance(corpus, scipy.sparse.csc.csc_matrix):\n",
            "/usr/local/lib/python3.10/dist-packages/gensim/models/nmf.py:620: DeprecationWarning: Please use `csc_matrix` from the `scipy.sparse` namespace, the `scipy.sparse.csc` namespace is deprecated.\n",
            "  if isinstance(corpus, scipy.sparse.csc.csc_matrix):\n",
            "/usr/local/lib/python3.10/dist-packages/gensim/models/nmf.py:607: DeprecationWarning: Please use `csc_matrix` from the `scipy.sparse` namespace, the `scipy.sparse.csc` namespace is deprecated.\n",
            "  if isinstance(corpus, scipy.sparse.csc.csc_matrix):\n",
            "/usr/local/lib/python3.10/dist-packages/gensim/models/nmf.py:620: DeprecationWarning: Please use `csc_matrix` from the `scipy.sparse` namespace, the `scipy.sparse.csc` namespace is deprecated.\n",
            "  if isinstance(corpus, scipy.sparse.csc.csc_matrix):\n",
            "/usr/local/lib/python3.10/dist-packages/gensim/models/nmf.py:607: DeprecationWarning: Please use `csc_matrix` from the `scipy.sparse` namespace, the `scipy.sparse.csc` namespace is deprecated.\n",
            "  if isinstance(corpus, scipy.sparse.csc.csc_matrix):\n",
            "/usr/local/lib/python3.10/dist-packages/gensim/models/nmf.py:620: DeprecationWarning: Please use `csc_matrix` from the `scipy.sparse` namespace, the `scipy.sparse.csc` namespace is deprecated.\n",
            "  if isinstance(corpus, scipy.sparse.csc.csc_matrix):\n",
            "/usr/local/lib/python3.10/dist-packages/gensim/models/nmf.py:607: DeprecationWarning: Please use `csc_matrix` from the `scipy.sparse` namespace, the `scipy.sparse.csc` namespace is deprecated.\n",
            "  if isinstance(corpus, scipy.sparse.csc.csc_matrix):\n",
            "/usr/local/lib/python3.10/dist-packages/gensim/models/nmf.py:620: DeprecationWarning: Please use `csc_matrix` from the `scipy.sparse` namespace, the `scipy.sparse.csc` namespace is deprecated.\n",
            "  if isinstance(corpus, scipy.sparse.csc.csc_matrix):\n",
            "/usr/local/lib/python3.10/dist-packages/gensim/models/nmf.py:607: DeprecationWarning: Please use `csc_matrix` from the `scipy.sparse` namespace, the `scipy.sparse.csc` namespace is deprecated.\n",
            "  if isinstance(corpus, scipy.sparse.csc.csc_matrix):\n",
            "/usr/local/lib/python3.10/dist-packages/gensim/models/nmf.py:620: DeprecationWarning: Please use `csc_matrix` from the `scipy.sparse` namespace, the `scipy.sparse.csc` namespace is deprecated.\n",
            "  if isinstance(corpus, scipy.sparse.csc.csc_matrix):\n",
            "/usr/local/lib/python3.10/dist-packages/gensim/models/nmf.py:607: DeprecationWarning: Please use `csc_matrix` from the `scipy.sparse` namespace, the `scipy.sparse.csc` namespace is deprecated.\n",
            "  if isinstance(corpus, scipy.sparse.csc.csc_matrix):\n",
            "/usr/local/lib/python3.10/dist-packages/gensim/models/nmf.py:620: DeprecationWarning: Please use `csc_matrix` from the `scipy.sparse` namespace, the `scipy.sparse.csc` namespace is deprecated.\n",
            "  if isinstance(corpus, scipy.sparse.csc.csc_matrix):\n",
            "/usr/local/lib/python3.10/dist-packages/gensim/models/nmf.py:607: DeprecationWarning: Please use `csc_matrix` from the `scipy.sparse` namespace, the `scipy.sparse.csc` namespace is deprecated.\n",
            "  if isinstance(corpus, scipy.sparse.csc.csc_matrix):\n",
            "/usr/local/lib/python3.10/dist-packages/gensim/models/nmf.py:620: DeprecationWarning: Please use `csc_matrix` from the `scipy.sparse` namespace, the `scipy.sparse.csc` namespace is deprecated.\n",
            "  if isinstance(corpus, scipy.sparse.csc.csc_matrix):\n",
            "/usr/local/lib/python3.10/dist-packages/gensim/models/nmf.py:607: DeprecationWarning: Please use `csc_matrix` from the `scipy.sparse` namespace, the `scipy.sparse.csc` namespace is deprecated.\n",
            "  if isinstance(corpus, scipy.sparse.csc.csc_matrix):\n",
            "/usr/local/lib/python3.10/dist-packages/gensim/models/nmf.py:620: DeprecationWarning: Please use `csc_matrix` from the `scipy.sparse` namespace, the `scipy.sparse.csc` namespace is deprecated.\n",
            "  if isinstance(corpus, scipy.sparse.csc.csc_matrix):\n",
            "/usr/local/lib/python3.10/dist-packages/gensim/models/nmf.py:607: DeprecationWarning: Please use `csc_matrix` from the `scipy.sparse` namespace, the `scipy.sparse.csc` namespace is deprecated.\n",
            "  if isinstance(corpus, scipy.sparse.csc.csc_matrix):\n",
            "/usr/local/lib/python3.10/dist-packages/gensim/models/nmf.py:620: DeprecationWarning: Please use `csc_matrix` from the `scipy.sparse` namespace, the `scipy.sparse.csc` namespace is deprecated.\n",
            "  if isinstance(corpus, scipy.sparse.csc.csc_matrix):\n",
            "/usr/local/lib/python3.10/dist-packages/gensim/models/nmf.py:607: DeprecationWarning: Please use `csc_matrix` from the `scipy.sparse` namespace, the `scipy.sparse.csc` namespace is deprecated.\n",
            "  if isinstance(corpus, scipy.sparse.csc.csc_matrix):\n",
            "/usr/local/lib/python3.10/dist-packages/gensim/models/nmf.py:620: DeprecationWarning: Please use `csc_matrix` from the `scipy.sparse` namespace, the `scipy.sparse.csc` namespace is deprecated.\n",
            "  if isinstance(corpus, scipy.sparse.csc.csc_matrix):\n",
            "/usr/local/lib/python3.10/dist-packages/gensim/models/nmf.py:607: DeprecationWarning: Please use `csc_matrix` from the `scipy.sparse` namespace, the `scipy.sparse.csc` namespace is deprecated.\n",
            "  if isinstance(corpus, scipy.sparse.csc.csc_matrix):\n",
            "/usr/local/lib/python3.10/dist-packages/gensim/models/nmf.py:620: DeprecationWarning: Please use `csc_matrix` from the `scipy.sparse` namespace, the `scipy.sparse.csc` namespace is deprecated.\n",
            "  if isinstance(corpus, scipy.sparse.csc.csc_matrix):\n",
            "/usr/local/lib/python3.10/dist-packages/gensim/models/nmf.py:607: DeprecationWarning: Please use `csc_matrix` from the `scipy.sparse` namespace, the `scipy.sparse.csc` namespace is deprecated.\n",
            "  if isinstance(corpus, scipy.sparse.csc.csc_matrix):\n",
            "/usr/local/lib/python3.10/dist-packages/gensim/models/nmf.py:620: DeprecationWarning: Please use `csc_matrix` from the `scipy.sparse` namespace, the `scipy.sparse.csc` namespace is deprecated.\n",
            "  if isinstance(corpus, scipy.sparse.csc.csc_matrix):\n",
            "/usr/local/lib/python3.10/dist-packages/gensim/models/nmf.py:607: DeprecationWarning: Please use `csc_matrix` from the `scipy.sparse` namespace, the `scipy.sparse.csc` namespace is deprecated.\n",
            "  if isinstance(corpus, scipy.sparse.csc.csc_matrix):\n",
            "/usr/local/lib/python3.10/dist-packages/gensim/models/nmf.py:620: DeprecationWarning: Please use `csc_matrix` from the `scipy.sparse` namespace, the `scipy.sparse.csc` namespace is deprecated.\n",
            "  if isinstance(corpus, scipy.sparse.csc.csc_matrix):\n",
            "/usr/local/lib/python3.10/dist-packages/gensim/models/nmf.py:607: DeprecationWarning: Please use `csc_matrix` from the `scipy.sparse` namespace, the `scipy.sparse.csc` namespace is deprecated.\n",
            "  if isinstance(corpus, scipy.sparse.csc.csc_matrix):\n",
            "/usr/local/lib/python3.10/dist-packages/gensim/models/nmf.py:620: DeprecationWarning: Please use `csc_matrix` from the `scipy.sparse` namespace, the `scipy.sparse.csc` namespace is deprecated.\n",
            "  if isinstance(corpus, scipy.sparse.csc.csc_matrix):\n",
            "/usr/local/lib/python3.10/dist-packages/gensim/models/nmf.py:607: DeprecationWarning: Please use `csc_matrix` from the `scipy.sparse` namespace, the `scipy.sparse.csc` namespace is deprecated.\n",
            "  if isinstance(corpus, scipy.sparse.csc.csc_matrix):\n",
            "/usr/local/lib/python3.10/dist-packages/gensim/models/nmf.py:620: DeprecationWarning: Please use `csc_matrix` from the `scipy.sparse` namespace, the `scipy.sparse.csc` namespace is deprecated.\n",
            "  if isinstance(corpus, scipy.sparse.csc.csc_matrix):\n",
            "/usr/local/lib/python3.10/dist-packages/gensim/models/nmf.py:607: DeprecationWarning: Please use `csc_matrix` from the `scipy.sparse` namespace, the `scipy.sparse.csc` namespace is deprecated.\n",
            "  if isinstance(corpus, scipy.sparse.csc.csc_matrix):\n",
            "/usr/local/lib/python3.10/dist-packages/gensim/models/nmf.py:620: DeprecationWarning: Please use `csc_matrix` from the `scipy.sparse` namespace, the `scipy.sparse.csc` namespace is deprecated.\n",
            "  if isinstance(corpus, scipy.sparse.csc.csc_matrix):\n",
            "/usr/local/lib/python3.10/dist-packages/gensim/models/nmf.py:607: DeprecationWarning: Please use `csc_matrix` from the `scipy.sparse` namespace, the `scipy.sparse.csc` namespace is deprecated.\n",
            "  if isinstance(corpus, scipy.sparse.csc.csc_matrix):\n",
            "/usr/local/lib/python3.10/dist-packages/gensim/models/nmf.py:620: DeprecationWarning: Please use `csc_matrix` from the `scipy.sparse` namespace, the `scipy.sparse.csc` namespace is deprecated.\n",
            "  if isinstance(corpus, scipy.sparse.csc.csc_matrix):\n",
            "/usr/local/lib/python3.10/dist-packages/gensim/models/nmf.py:607: DeprecationWarning: Please use `csc_matrix` from the `scipy.sparse` namespace, the `scipy.sparse.csc` namespace is deprecated.\n",
            "  if isinstance(corpus, scipy.sparse.csc.csc_matrix):\n",
            "/usr/local/lib/python3.10/dist-packages/gensim/models/nmf.py:620: DeprecationWarning: Please use `csc_matrix` from the `scipy.sparse` namespace, the `scipy.sparse.csc` namespace is deprecated.\n",
            "  if isinstance(corpus, scipy.sparse.csc.csc_matrix):\n",
            "/usr/local/lib/python3.10/dist-packages/gensim/models/nmf.py:607: DeprecationWarning: Please use `csc_matrix` from the `scipy.sparse` namespace, the `scipy.sparse.csc` namespace is deprecated.\n",
            "  if isinstance(corpus, scipy.sparse.csc.csc_matrix):\n",
            "/usr/local/lib/python3.10/dist-packages/gensim/models/nmf.py:620: DeprecationWarning: Please use `csc_matrix` from the `scipy.sparse` namespace, the `scipy.sparse.csc` namespace is deprecated.\n",
            "  if isinstance(corpus, scipy.sparse.csc.csc_matrix):\n",
            "/usr/local/lib/python3.10/dist-packages/gensim/models/nmf.py:607: DeprecationWarning: Please use `csc_matrix` from the `scipy.sparse` namespace, the `scipy.sparse.csc` namespace is deprecated.\n",
            "  if isinstance(corpus, scipy.sparse.csc.csc_matrix):\n",
            "/usr/local/lib/python3.10/dist-packages/gensim/models/nmf.py:620: DeprecationWarning: Please use `csc_matrix` from the `scipy.sparse` namespace, the `scipy.sparse.csc` namespace is deprecated.\n",
            "  if isinstance(corpus, scipy.sparse.csc.csc_matrix):\n",
            "/usr/local/lib/python3.10/dist-packages/gensim/models/nmf.py:607: DeprecationWarning: Please use `csc_matrix` from the `scipy.sparse` namespace, the `scipy.sparse.csc` namespace is deprecated.\n",
            "  if isinstance(corpus, scipy.sparse.csc.csc_matrix):\n",
            "/usr/local/lib/python3.10/dist-packages/gensim/models/nmf.py:620: DeprecationWarning: Please use `csc_matrix` from the `scipy.sparse` namespace, the `scipy.sparse.csc` namespace is deprecated.\n",
            "  if isinstance(corpus, scipy.sparse.csc.csc_matrix):\n",
            "/usr/local/lib/python3.10/dist-packages/gensim/models/nmf.py:607: DeprecationWarning: Please use `csc_matrix` from the `scipy.sparse` namespace, the `scipy.sparse.csc` namespace is deprecated.\n",
            "  if isinstance(corpus, scipy.sparse.csc.csc_matrix):\n",
            "/usr/local/lib/python3.10/dist-packages/gensim/models/nmf.py:620: DeprecationWarning: Please use `csc_matrix` from the `scipy.sparse` namespace, the `scipy.sparse.csc` namespace is deprecated.\n",
            "  if isinstance(corpus, scipy.sparse.csc.csc_matrix):\n"
          ]
        },
        {
          "output_type": "stream",
          "name": "stdout",
          "text": [
            "(0, '0.055*\"request\" + 0.047*\"ok\" + 0.027*\"month\" + 0.026*\"word\" + 0.026*\"fear\"')\n",
            "(1, '0.087*\"get\" + 0.034*\"request\" + 0.032*\"great\" + 0.027*\"point\" + 0.021*\"latest\"')\n",
            "(2, '0.043*\"r\" + 0.021*\"std\" + 0.019*\"great\" + 0.018*\"speak\" + 0.018*\"back\"')\n",
            "Coherence Score: 0.6213476483941358\n"
          ]
        }
      ],
      "source": [
        "# train NMF model\n",
        "num_topics_sms = 3\n",
        "nmf_model_sms = Nmf(corpus,id2word=dictionary_sms, num_topics=num_topics_sms,passes=30,random_state=100)\n",
        "topics_sms = nmf_model_sms.print_topics(num_words=5)\n",
        "for topic in topics_sms:\n",
        "    print(topic)\n",
        "\n",
        "coherence_model_nmf_sms = CoherenceModel(model=nmf_model_sms, texts=texts_sms, dictionary=dictionary_sms, coherence='c_v')\n",
        "coherence_nmf_sms = coherence_model_nmf_sms.get_coherence()\n",
        "print('Coherence Score:', coherence_nmf_sms)"
      ]
    },
    {
      "cell_type": "markdown",
      "metadata": {
        "id": "PEOl-UhbwQYv"
      },
      "source": [
        "### BERTopic"
      ]
    },
    {
      "cell_type": "code",
      "source": [
        "# Load the dataset\n",
        "sms = pd.read_csv('https://raw.githubusercontent.com/duong4595/ib9cw0-text-analytics-23-24/main/Data/sms_spam.csv')\n",
        "\n",
        "# Clean data: Remove rows with missing 'text' values\n",
        "cleaned_sms = sms.dropna(subset=['text'])\n",
        "\n",
        "# Function to preprocess text\n",
        "def preprocess_text(text):\n",
        "  \"\"\"Preprocesses text data by performing:\n",
        "      - Lowercasing\n",
        "      - Tokenization\n",
        "      - Stopword removal (including custom words)\n",
        "      - Alphabetic character filtering\n",
        "      - Lemmatization\n",
        "  \"\"\"\n",
        "  text = text.lower()\n",
        "  tokens = nltk.word_tokenize(text)\n",
        "  stop_words = stopwords.words('english')\n",
        "  extra_words = ['.','*',',', 'ur', 'lor', 'da', 'u', 'n', 'gt']\n",
        "  stop_words.extend(extra_words)\n",
        "  tokens = [token for token in tokens if token not in stop_words and token.isalpha()]\n",
        "  return ' '.join(tokens)\n",
        "  # Return a list of tokens, not a joined string\n",
        "\n",
        "cleaned_sms['text']= cleaned_sms['text'].apply(preprocess_text)"
      ],
      "metadata": {
        "colab": {
          "base_uri": "https://localhost:8080/"
        },
        "id": "l6kKARkmUN-J",
        "outputId": "ec143d68-290c-4254-d1eb-e0325eccf99f"
      },
      "execution_count": null,
      "outputs": [
        {
          "output_type": "stream",
          "name": "stderr",
          "text": [
            "/usr/local/lib/python3.10/dist-packages/ipykernel/ipkernel.py:283: DeprecationWarning: `should_run_async` will not call `transform_cell` automatically in the future. Please pass the result to `transformed_cell` argument and any exception that happen during thetransform in `preprocessing_exc_tuple` in IPython 7.17 and above.\n",
            "  and should_run_async(code)\n"
          ]
        }
      ]
    },
    {
      "cell_type": "code",
      "execution_count": null,
      "metadata": {
        "colab": {
          "base_uri": "https://localhost:8080/"
        },
        "id": "TZV8mFg0vLao",
        "outputId": "6d63f78b-7866-4a50-cca7-e381b5b60136"
      },
      "outputs": [
        {
          "output_type": "stream",
          "name": "stderr",
          "text": [
            "/usr/local/lib/python3.10/dist-packages/ipykernel/ipkernel.py:283: DeprecationWarning: `should_run_async` will not call `transform_cell` automatically in the future. Please pass the result to `transformed_cell` argument and any exception that happen during thetransform in `preprocessing_exc_tuple` in IPython 7.17 and above.\n",
            "  and should_run_async(code)\n",
            "/usr/local/lib/python3.10/dist-packages/hdbscan/hdbscan_.py:1170: DeprecationWarning: `alltrue` is deprecated as of NumPy 1.25.0, and will be removed in NumPy 2.0. Please use `all` instead.\n",
            "  self._all_finite = is_finite(X)\n"
          ]
        },
        {
          "output_type": "stream",
          "name": "stdout",
          "text": [
            "     Topic  Count                             Name  \\\n",
            "0       -1   2067                -1_you_to_the_and   \n",
            "1        0    136             0_sleep_night_up_bed   \n",
            "2        1    135  1_message_customer_missing_sent   \n",
            "3        2    123          2_dinner_lunch_eat_food   \n",
            "4        3    123             3_love_kiss_miss_you   \n",
            "..     ...    ...                              ...   \n",
            "115    114     11         114_lose_fight_win_loses   \n",
            "116    115     11            115_jess_hope_baby_xx   \n",
            "117    116     11   116_bill_o2fwd_incredible_jsco   \n",
            "118    117     10  117_abiola_great_wishing_hoping   \n",
            "119    118     10    118_activities_befor_rooms_no   \n",
            "\n",
            "                                        Representation  \\\n",
            "0         [you, to, the, and, me, in, can, do, is, it]   \n",
            "1    [sleep, night, up, bed, sleeping, wake, good, ...   \n",
            "2    [message, customer, missing, sent, mail, email...   \n",
            "3    [dinner, lunch, eat, food, hungry, having, lor...   \n",
            "4    [love, kiss, miss, you, babe, boytoy, goes, my...   \n",
            "..                                                 ...   \n",
            "115  [lose, fight, win, loses, fightng, dificult, t...   \n",
            "116  [jess, hope, baby, xx, darlin, off, phone, hi,...   \n",
            "117  [bill, o2fwd, incredible, jsco, 18ptxt, blow, ...   \n",
            "118  [abiola, great, wishing, hoping, everyone, tun...   \n",
            "119  [activities, befor, rooms, no, probably, room,...   \n",
            "\n",
            "                                   Representative_Docs  \n",
            "0    [I was wondering if it would be okay for you t...  \n",
            "1    [You said to me before i went back to bed that...  \n",
            "2    [We have sent JD for Customer Service cum Acco...  \n",
            "3    [So u wan 2 come for our dinner tonight a not?...  \n",
            "4    [Babe! How goes that day ? What are you up to ...  \n",
            "..                                                 ...  \n",
            "115  [Fighting with the world is easy, u either win...  \n",
            "116  [HI ITS JESS I DONT KNOW IF YOU ARE AT WORK BU...  \n",
            "117  [SMS. ac JSco: Energy is high, but u may not k...  \n",
            "118  [Tunji, how's the queen? how are you doing. Th...  \n",
            "119  [No no. I will check all rooms befor activitie...  \n",
            "\n",
            "[120 rows x 5 columns]\n",
            "(-1, [('you', 0.0073430185861429725), ('to', 0.0071752500985466814), ('the', 0.007116053487049348), ('and', 0.006884467118078301), ('me', 0.006503574129985808), ('in', 0.006417467896309065), ('can', 0.00632496099281143), ('do', 0.006196976875672375), ('is', 0.00617937696232822), ('it', 0.006079191044956133)])\n",
            "(0, [('sleep', 0.05136326146208719), ('night', 0.037465214764688254), ('up', 0.024903897788609276), ('bed', 0.024793866329028587), ('sleeping', 0.020440401275060728), ('wake', 0.019801797331538952), ('good', 0.01275045677265467), ('at', 0.0121485500315327), ('awake', 0.011496065952468082), ('morning', 0.01137820039381241)])\n",
            "(1, [('message', 0.04353451177889061), ('customer', 0.02741465808020222), ('missing', 0.026984199821149444), ('sent', 0.02582816487021494), ('mail', 0.025783357872096076), ('email', 0.02523496453714544), ('send', 0.02295145773855502), ('address', 0.020084702429801902), ('please', 0.019714755599804006), ('announcement', 0.01813690173296109)])\n",
            "(2, [('dinner', 0.0599668912133362), ('lunch', 0.04458417438214652), ('eat', 0.04267646758663652), ('food', 0.028795625098153543), ('hungry', 0.023933317919017878), ('having', 0.01955814270778596), ('lor', 0.018886840759698684), ('home', 0.018771107040228982), ('ate', 0.018190713489908732), ('wan', 0.017808592160756122)])\n",
            "(3, [('love', 0.03577714887340303), ('kiss', 0.032517665647759215), ('miss', 0.03240287780974007), ('you', 0.02901844682903299), ('babe', 0.026370760848075457), ('boytoy', 0.02414344397669644), ('goes', 0.023738154619263055), ('my', 0.020630560513155535), ('are', 0.017128904663334766), ('across', 0.016952311339322783)])\n",
            "(4, [('bus', 0.04354512790605536), ('driving', 0.03776871809989964), ('car', 0.03172949252168443), ('drive', 0.01939350978557307), ('park', 0.019376072464001873), ('train', 0.01777898172094959), ('on', 0.014291478325915988), ('im', 0.012565542134048733), ('street', 0.011852654480633062), ('somewhere', 0.011566359907601347)])\n",
            "(5, [('him', 0.06552252854823484), ('he', 0.05575154523020881), ('his', 0.026439911745026516), ('hes', 0.016205480769159442), ('and', 0.014660117479644495), ('guy', 0.01387168102203271), ('told', 0.013829566293653655), ('wrong', 0.013755269907193547), ('did', 0.011098194279216444), ('me', 0.011079220412897531)])\n",
            "(6, [('her', 0.07948294129315582), ('she', 0.06533486409419008), ('shes', 0.05215011430243441), ('inviting', 0.024502938483713727), ('62468', 0.0237072651127526), ('frnd', 0.019468404813962975), ('stop', 0.018841565492254193), ('friend', 0.016434858381643547), ('believe', 0.015280181743520053), ('reply', 0.013388929349143592)])\n",
            "(7, [('chat', 0.03373224719188673), ('stop', 0.0262579946350867), ('text', 0.023600008679388135), ('sex', 0.023243525952508136), ('dogging', 0.022194200416346444), ('txt', 0.02061441773014474), ('sexy', 0.019051994727861385), ('join', 0.019051994727861385), ('uks', 0.018574163063621002), ('live', 0.01740861101879293)])\n",
            "(8, [('tone', 0.06745476944455744), ('ringtone', 0.04565143367413303), ('tones', 0.041509631882960654), ('8007', 0.03635610532372034), ('poly', 0.03273150784681138), ('week', 0.029861060887517978), ('mob', 0.026252698723879912), ('nokia', 0.025988929338947673), ('16', 0.025960743247419846), ('1st', 0.02584284784188152)])\n",
            "(9, [('princess', 0.10687383978124682), ('pussy', 0.03933456373048047), ('scream', 0.032778803108733726), ('inches', 0.028468120335874064), ('gentle', 0.027231718951567122), ('yes', 0.027016354267088382), ('want', 0.026816090062361495), ('moan', 0.02622304248698698), ('baby', 0.02616536013355979), ('bed', 0.025649721547499234)])\n",
            "(10, [('smile', 0.04023115668937521), ('life', 0.03602745848118), ('gud', 0.026065622487208114), ('ur', 0.026010098887668847), ('love', 0.021911152109291065), ('but', 0.019877755520210684), ('world', 0.019638771304081093), ('simple', 0.019514213383433884), ('tear', 0.017161674304891975), ('heart', 0.016518295550262307)])\n",
            "(11, [('pain', 0.04218257645713757), ('6hrs', 0.02370690160374182), ('sick', 0.019974682521949564), ('take', 0.019055874697548707), ('weak', 0.017007963839959606), ('it', 0.01669094938828236), ('body', 0.01637798036861469), ('meds', 0.01637798036861469), ('feeling', 0.016121673649937777), ('mark', 0.015386146391139973)])\n",
            "(12, [('time', 0.06338866456520144), ('come', 0.0429809935366153), ('tomorrow', 0.04036110887585019), ('what', 0.039949161081300255), ('when', 0.03284192109930904), ('onwards', 0.022883531761428877), ('should', 0.021822983174761355), ('wherever', 0.019959576924808563), ('theatre', 0.019959576924808563), ('want', 0.018840898162384316)])\n",
            "(13, [('usf', 0.058241870943209706), ('tonight', 0.05525744908984243), ('awesome', 0.04341549310926921), ('around', 0.039941722978023474), ('yeah', 0.03929153348783442), ('see', 0.03663741325849524), ('youre', 0.03654000066918077), ('lemme', 0.035828186728252914), ('bit', 0.033383224167912666), ('sec', 0.02970356362313432)])\n",
            "(14, [('call', 0.08751240872106794), ('sir', 0.08371856118441835), ('waiting', 0.06102382500168943), ('plz', 0.04242071052707275), ('me', 0.0412893624173964), ('once', 0.0390041978255572), ('urgnt', 0.03135729521671353), ('please', 0.030891996430477624), ('am', 0.026325492239873002), ('talk', 0.02349454605964446)])\n",
            "(15, [('pub', 0.048204010398891356), ('st', 0.021947448200832723), ('off', 0.018830448906715713), ('in', 0.01869702529515218), ('town', 0.017637843935219583), ('here', 0.01442470062443608), ('but', 0.013097051212291821), ('still', 0.012681165237980617), ('canal', 0.012662324827069167), ('bar', 0.012662324827069167)])\n",
            "(16, [('wot', 0.03884992392549361), ('2nite', 0.03124673265152357), ('fone', 0.028090340435475196), ('xxx', 0.026227572499859148), ('luv', 0.02552809806212307), ('jen', 0.022251063532872498), ('up', 0.021646120461610966), ('goin', 0.020175524727611086), ('babe', 0.01962739567932641), ('il', 0.019255046573795807)])\n",
            "(17, [('watching', 0.11508016505040239), ('tv', 0.11402946955958064), ('watch', 0.07744455945805788), ('show', 0.04211409824860326), ('lor', 0.03319972552589211), ('yeshere', 0.02955619187951094), ('stick', 0.02955619187951094), ('work', 0.02061451206142719), ('always', 0.01931342725996447), ('available', 0.019054535664006278)])\n",
            "(18, [('sae', 0.0873788912663444), ('await', 0.0801348428175156), ('holiday', 0.07954041636961472), ('collection', 0.07827329161027986), ('tcs', 0.06060813486013076), ('cash', 0.05482580227799799), ('landline', 0.05409043728987738), ('box', 0.052194240933296464), ('5000', 0.0520793944229039), ('complimentary', 0.048158069793194105)])\n",
            "(19, [('movies', 0.05688662176176711), ('movie', 0.050978229526932116), ('film', 0.047294491779994716), ('wer', 0.045415269234709336), ('watch', 0.03910887897914163), ('plane', 0.03144145328224417), ('confidence', 0.030276846156472893), ('theatre', 0.030276846156472893), ('3d', 0.026034162945973435), ('watching', 0.024214398657948326)])\n",
            "(20, [('sms', 0.04474390505260639), ('unsubscribe', 0.04326557668478468), ('content', 0.03530429882228703), ('goto', 0.03518584871918065), ('wwwcomuknet', 0.032412255126616246), ('stop', 0.031015730548798047), ('free', 0.03071635482310502), ('login', 0.03019816527753236), ('credits', 0.028549471532866157), ('3qxj9', 0.027107094662445822)])\n",
            "(21, [('shopping', 0.09229497990619731), ('orchard', 0.06585606049312474), ('go', 0.035845170136271184), ('buy', 0.027562776236529928), ('vegas', 0.026573456919193324), ('walmart', 0.02472051252209404), ('mall', 0.02472051252209404), ('shop', 0.024202966770814103), ('come', 0.021667941237036796), ('going', 0.021656694905945247)])\n",
            "(22, [('later', 0.37054291030733966), ('sorry', 0.35527373812914553), ('ill', 0.2731491594704832), ('call', 0.15828920793120785), ('bye', 0.03335235666800932), ('omw', 0.029724468567296557), ('youve', 0.02526294669229665), ('minute', 0.02331572778090384), ('took', 0.02331572778090384), ('fuck', 0.020868138220053976)])\n",
            "(23, [('thanx', 0.24853830636166327), ('prob', 0.13630251788851205), ('ok', 0.12362017382430188), ('okie', 0.10415492994097189), ('anytime', 0.08178151073310724), ('change', 0.0750032983069631), ('okay', 0.07147437066018987), ('lot', 0.06525313597498346), ('no', 0.06333090246838934), ('sfine', 0.04733310390974636)])\n",
            "(24, [('orange', 0.0926580720967467), ('double', 0.08132340863916064), ('08000839402', 0.07956146352708139), ('mobileupd8', 0.07302464505870562), ('latest', 0.07233858988140311), ('free', 0.06120692050461121), ('motorola', 0.06049755247624994), ('bluetooth', 0.05404462809447876), ('mins', 0.053232046284581475), ('phones', 0.048585303904039784)])\n",
            "(25, [('exam', 0.08506227168368054), ('study', 0.039627192745158), ('exams', 0.03374160568250051), ('test', 0.031568208504005976), ('studying', 0.029720394558868504), ('educational', 0.02669591524600988), ('mca', 0.02669591524600988), ('concentrate', 0.024834431934638253), ('sentence', 0.024834431934638253), ('career', 0.02351571691338906)])\n",
            "(26, [('laptop', 0.09362198183572001), ('hand', 0.05311515886749676), ('write', 0.039120718475360264), ('screen', 0.03768581629242308), ('3cover', 0.03768581629242308), ('4press', 0.03768581629242308), ('5gently', 0.03768581629242308), ('dictionary', 0.03568468930213585), ('interesting', 0.034134864489988856), ('mode', 0.03006678610384366)])\n",
            "(27, [('87066', 0.07875681376908174), ('draw', 0.07713928509416201), ('gift', 0.07619412236978067), ('100', 0.07589845620023357), ('music', 0.0676435411396625), ('tscs', 0.06125961909061051), ('vouchers', 0.0595268864783715), ('txt', 0.05703606855880697), ('win', 0.05688329589683055), ('awarded', 0.0535753808472237)])\n",
            "(28, [('kallis', 0.08970382377466445), ('innings', 0.06170692820400574), ('bat', 0.06170692820400574), ('series', 0.05843027370464229), ('india', 0.04696822634951317), ('match', 0.04696822634951317), ('cricketer', 0.04422147792659652), ('sachin', 0.04422147792659652), ('odi', 0.04422147792659652), ('worldvery', 0.04422147792659652)])\n",
            "(29, [('meeting', 0.21510311158818238), ('later', 0.08892493347023389), ('ill', 0.06555184341056841), ('sorry', 0.0635976154601138), ('call', 0.05551963410424967), ('sorryin', 0.044733695817638176), ('work', 0.03900042822432172), ('shall', 0.03659303895271408), ('cal', 0.03629714568179472), ('sir', 0.03483507698822991)])\n",
            "(30, [('text', 0.11787248831858313), ('youre', 0.08092641657639765), ('aight', 0.06682637457638704), ('cool', 0.06180427765521181), ('when', 0.0561267954926508), ('ill', 0.04517590756572555), ('whenever', 0.0386970921495989), ('me', 0.03410754525163464), ('mu', 0.024309627949191115), ('around', 0.02322083658981789)])\n",
            "(31, [('dad', 0.11494170531605728), ('sis', 0.08821333902997118), ('father', 0.04819659624902866), ('mummy', 0.04311257383853201), ('mums', 0.040823284561643414), ('late', 0.04063861246880339), ('frndship', 0.03905028497654726), ('home', 0.038803632473561354), ('fetch', 0.03760384292633933), ('boy', 0.03752112643152474)])\n",
            "(32, [('snow', 0.11658468902779125), ('rain', 0.04987877509106314), ('raining', 0.04362394771037045), ('weather', 0.04362394771037045), ('its', 0.02867891346569945), ('inch', 0.026881733681596954), ('outside', 0.026434342406213583), ('california', 0.02500729340982135), ('posted', 0.021811973855185227), ('cant', 0.021148631238192103)])\n",
            "(33, [('class', 0.19949005472461748), ('teaches', 0.07422415374844257), ('lecture', 0.05566811531133193), ('conducts', 0.0421310080609756), ('classes', 0.0421310080609756), ('teacher', 0.039193248944120004), ('bye', 0.037112076874221286), ('teach', 0.03418531175121758), ('exam', 0.029831940129872607), ('college', 0.027619882611098316)])\n",
            "(34, [('gym', 0.09197823711646691), ('yoga', 0.08100484945438832), ('pilates', 0.07176305901973155), ('jazz', 0.04968229640782094), ('yogasana', 0.04968229640782094), ('go', 0.04282617312816585), ('lesson', 0.03741023707802001), ('intro', 0.0372617223058657), ('kb', 0.03471636405188071), ('hey', 0.034382746635113)])\n",
            "(35, [('god', 0.07501316049832815), ('gal', 0.03659038130653246), ('boy', 0.036357680650702266), ('moral', 0.03547445946270644), ('created', 0.03416046777465419), ('gap', 0.03416046777465419), ('gods', 0.03124673265152357), ('said', 0.031135065503510223), ('gaps', 0.029668084710496666), ('boost', 0.028379567570165156)])\n",
            "(36, [('ltgt', 0.19080372572201332), ('like', 0.0341099958902879), ('above', 0.033950969820079856), ('x2', 0.033950969820079856), ('syllabus', 0.033950969820079856), ('breaking', 0.033950969820079856), ('daal', 0.033950969820079856), ('operate', 0.033950969820079856), ('cstore', 0.033950969820079856), ('enc', 0.033950969820079856)])\n",
            "(37, [('shower', 0.09465904079671117), ('bathe', 0.053790987903620364), ('bath', 0.05258835599817287), ('dog', 0.0466445506748346), ('bathing', 0.039253158232349435), ('coat', 0.02970776209427766), ('swimming', 0.02763626528111026), ('imagine', 0.0233222753374173), ('water', 0.021516395161448147), ('sis', 0.018849004066233157)])\n",
            "(38, [('dating', 0.08487929523057343), ('service', 0.05663509037519492), ('who', 0.05356920231202561), ('find', 0.0522378871905711), ('someone', 0.051955351051415744), ('contacted', 0.04266858061248607), ('revealed', 0.04266858061248607), ('know', 0.0420347367743532), ('landline', 0.036804192645489994), ('guess', 0.03551398351615207)])\n",
            "(39, [('de', 0.15743372313262854), ('da', 0.09374274317179355), ('deus', 0.0606598283600434), ('happen', 0.05524865713128245), ('checked', 0.049219689694161434), ('check', 0.04558114862656466), ('ex', 0.04393400059143863), ('shop', 0.03683243808752164), ('1405', 0.033950969820079856), ('1843', 0.033950969820079856)])\n",
            "(40, [('10p', 0.0718444394780927), ('btnationalrate', 0.0656628106209245), ('claim', 0.0640739436575994), ('won', 0.059811409868757985), ('award', 0.05284905439825063), ('2000', 0.04984951465746877), ('prize', 0.04668261018188968), ('easy', 0.04602872317884132), ('pound', 0.04103925663807781), ('per', 0.037288251313985964)])\n",
            "(41, [('home', 0.1981905959671144), ('hour', 0.0806905944763973), ('half', 0.07489031731332345), ('way', 0.06489023330347629), ('am', 0.05287744032697072), ('an', 0.04922816218717875), ('will', 0.04498300344091722), ('ok', 0.039022958096611424), ('belive', 0.03737428134441383), ('come', 0.03482846960128311)])\n",
            "(42, [('birthday', 0.1716960848334416), ('happy', 0.0912467220185944), ('returns', 0.07094891892541288), ('many', 0.0651962086877244), ('ummmmmaah', 0.04699771857398111), ('dear', 0.04507180054358382), ('hi', 0.041346026051061614), ('day', 0.0376804867907091), ('birthdate', 0.033680311676652), ('april', 0.028379567570165156)])\n",
            "(43, [('happy', 0.14053040998565755), ('merry', 0.11087665821102233), ('year', 0.09851524229079843), ('christmas', 0.09206608643558484), ('xmas', 0.09148496125123949), ('new', 0.06049437454641886), ('wishing', 0.0480882184124056), ('mas', 0.04632439882363754), ('advance', 0.040405275350651144), ('wish', 0.03736921946865065)])\n",
            "(44, [('weekend', 0.12849700832713953), ('todaysundaysunday', 0.07382290040844522), ('holidayso', 0.07382290040844522), ('saturday', 0.06821349753689919), ('sunday', 0.060490739921331124), ('week', 0.04338262194389027), ('work', 0.03689903528803406), ('anything', 0.03115322765030613), ('sundayish', 0.029610206555412105), ('dereks', 0.029610206555412105)])\n",
            "(45, [('ok', 0.4733654482154168), ('yup', 0.3027810103333654), ('lor', 0.1768246250835558), ('typical', 0.14097033120946198), ('okay', 0.07095644043801456), ('ah', 0.0679730551295738), ('cool', 0.061036522653283715), ('done', 0.057902969428261696), ('ya', 0.055215506071743733), ('wait', 0.0541726951414908)])\n",
            "(46, [('kkwhy', 0.09343570336103459), ('job', 0.08985759016345038), ('kkhow', 0.08230500919686172), ('search', 0.059283157950249445), ('kkapo', 0.05229544544867138), ('bestcongrats', 0.05229544544867138), ('kkwhat', 0.05229544544867138), ('kkgoodstudy', 0.05229544544867138), ('ashes', 0.05229544544867138), ('kyou', 0.05229544544867138)])\n",
            "(47, [('much', 0.12264180677100446), ('how', 0.0859481577568396), ('dollars', 0.04809148396126509), ('8th', 0.04631015138711741), ('cost', 0.04486443444466801), ('torch', 0.044806341781245054), ('bold', 0.044806341781245054), ('bb', 0.04350565531287854), ('ard', 0.033745326331868455), ('heygreat', 0.03194401593908991)])\n",
            "(48, [('ltdecimalgt', 0.11554021002116267), ('urgentbut', 0.05020874282437734), ('lacsthere', 0.05020874282437734), ('arng', 0.05020874282437734), ('source', 0.05020874282437734), ('shortage', 0.05020874282437734), ('bmw', 0.05020874282437734), ('lacsthats', 0.05020874282437734), ('urgentlyits', 0.05020874282437734), ('hv', 0.0454778163546746)])\n",
            "(49, [('wear', 0.0806824069763373), ('slippers', 0.0668066743365682), ('shirts', 0.0668066743365682), ('shirt', 0.06325922194469537), ('jeans', 0.0478761455238359), ('wearing', 0.04217281462979691), ('black', 0.038846945171838156), ('blue', 0.03319324810539164), ('pls', 0.03216380411661675), ('nice', 0.031284559859116004)])\n",
            "(50, [('nokia', 0.11089367546017255), ('auction', 0.08251247698381657), ('86021', 0.057556902438274486), ('yours', 0.04831681509975893), ('mp3', 0.046406568273432376), ('hgsuite3422lands', 0.04505942871690992), ('txtauction', 0.04165641281800349), ('roww1jhl', 0.04165641281800349), ('83355', 0.04165641281800349), ('7250i', 0.04165641281800349)])\n",
            "(51, [('qatar', 0.060568671456444234), ('na', 0.037350418900436694), ('cochin', 0.034379902720380676), ('kerala', 0.028969054136904492), ('an', 0.028302541316812712), ('regards', 0.02789602590974728), ('tonite', 0.026206670707757698), ('ex', 0.024900279266957797), ('leaving', 0.02117095756960408), ('am', 0.020267070352820132)])\n",
            "(52, [('weight', 0.07955411704016979), ('diet', 0.0595091611685764), ('lose', 0.05058586374852925), ('lost', 0.045922340390135125), ('woot', 0.033778505005155356), ('juicy', 0.03142315877444024), ('fat', 0.02651803901338993), ('pizza', 0.025748244981091382), ('gettin', 0.024464705868701975), ('muz', 0.023917736255728766)])\n",
            "(53, [('number', 0.1751469143039333), ('pin', 0.0626730715438989), ('sign', 0.03925176901561931), ('account', 0.0383662447074701), ('mom', 0.0357011824066879), ('show', 0.029348847135026626), ('checkin', 0.028820601047267785), ('anand', 0.028820601047267785), ('youmy', 0.028820601047267785), ('oneta', 0.028820601047267785)])\n",
            "(54, [('draw', 0.10432903726842553), ('prize', 0.08622586986779748), ('shows', 0.08295428817795492), ('won', 0.08178066234329108), ('trying', 0.07303032608789788), ('guaranteed', 0.06933815526258155), ('valid', 0.06333664900717463), ('12hrs', 0.061947569543519085), ('contact', 0.06193865931092523), ('land', 0.0610093244262975)])\n",
            "(55, [('hai', 0.05732576080835765), ('gud', 0.05078963205228052), ('chikku', 0.050626676732172964), ('ee', 0.04868078662507684), ('shampain', 0.04868078662507684), ('wiskey', 0.04868078662507684), ('jo', 0.04868078662507684), ('wo', 0.04868078662507684), ('kudiyarasu', 0.04868078662507684), ('gin', 0.04868078662507684)])\n",
            "(56, [('chennai', 0.1739608336264858), ('rumour', 0.04653022978621802), ('noi', 0.04653022978621802), ('apartment', 0.03546846597796925), ('road', 0.03546846597796925), ('ltgt', 0.03415054635747414), ('processexcellent', 0.026042711789699805), ('chennaii', 0.026042711789699805), ('sold', 0.026042711789699805), ('nothis', 0.026042711789699805)])\n",
            "(57, [('money', 0.07886316131152159), ('shitload', 0.0362063350524009), ('raise', 0.03189319106378392), ('coins', 0.03189319106378392), ('broke', 0.030508035137927544), ('amount', 0.030508035137927544), ('single', 0.02759890008910733), ('ltgt', 0.026573393884409564), ('sell', 0.025636823549109275), ('got', 0.020595672327265443)])\n",
            "(58, [('plan', 0.21752618693024353), ('okok', 0.10430461412548067), ('okthenwhats', 0.10430461412548067), ('plans', 0.07939145357143516), ('dawhats', 0.07474856268882767), ('todays', 0.06179661576132113), ('planned', 0.058681854074791914), ('what', 0.05665048777851481), ('don', 0.05292763571429011), ('debating', 0.04183635635893711)])\n",
            "(59, [('anything', 0.24960573861281865), ('lor', 0.1785497433770539), ('special', 0.13380430499821905), ('sorts', 0.07908091750774697), ('kkany', 0.07908091750774697), ('pressies', 0.07908091750774697), ('mostly', 0.07064650741931883), ('kthen', 0.07064650741931883), ('then', 0.06521007457287215), ('funny', 0.055461508424346016)])\n",
            "(60, [('angry', 0.1417425469100928), ('bcums', 0.06148085024343888), ('affection', 0.06148085024343888), ('kettoda', 0.06148085024343888), ('manda', 0.06148085024343888), ('childish', 0.05881067014540249), ('showing', 0.05479329747947438), ('seriously', 0.05180181220300775), ('lovable', 0.050550566945570946), ('deep', 0.050550566945570946)])\n",
            "(61, [('semester', 0.11812891237507026), ('school', 0.05695986070844441), ('gr8', 0.052460387507033635), ('atlanta', 0.04502568150181259), ('uncles', 0.04502568150181259), ('year', 0.03889346104014553), ('wish', 0.03835840468987963), ('whats', 0.03538150956843744), ('hope', 0.03505222035001763), ('wishin', 0.03407655063755379)])\n",
            "(62, [('identifier', 0.17270238104717828), ('unredeemed', 0.17270238104717828), ('expires', 0.16996789793828743), ('statement', 0.16996789793828743), ('private', 0.16496214337471848), ('points', 0.16265885953102038), ('2003', 0.14795355187833276), ('account', 0.1413785028960242), ('shows', 0.13656289753226336), ('code', 0.1355532024260287)])\n",
            "(63, [('caller', 0.11469438898409963), ('bonus', 0.09265071064233052), ('attempt', 0.081094501397875), ('2000', 0.07232750508553992), ('urgent', 0.06417042467495025), ('prize', 0.06095933077149673), ('2nd', 0.06071379681476495), ('asap', 0.05091865359808724), ('santa', 0.04954282106995559), ('020603', 0.04954282106995559)])\n",
            "(64, [('usualiam', 0.0991853692604264), ('how', 0.08410264516696882), ('are', 0.06762239356353326), ('fine', 0.0673125951524783), ('well', 0.06498741873892434), ('roger', 0.06261239963442242), ('system', 0.057674605715244374), ('doing', 0.05307108379037755), ('good', 0.04886096899511321), ('amp', 0.03999620292804587)])\n",
            "(65, [('hair', 0.19024019687359145), ('cut', 0.12612301137397433), ('short', 0.06120356459572446), ('look', 0.04406308375483386), ('paragon', 0.04123141358280529), ('cutting', 0.04123141358280529), ('dresser', 0.038356382418622784), ('shorter', 0.038356382418622784), ('sense', 0.03236899424054358), ('quite', 0.032107775587016184)])\n",
            "(66, [('askd', 0.13614857697465724), ('question', 0.12092563899926397), ('answer', 0.11610680076897112), ('hours', 0.08822517592751966), ('its', 0.0761825066484836), ('aint', 0.0728737358110109), ('tht', 0.0728737358110109), ('telling', 0.06551238718510825), ('before', 0.06110527341929008), ('complaining', 0.054954535895214)])\n",
            "(67, [('paper', 0.07072227185961179), ('pg', 0.06598591254575982), ('noun', 0.049939772486070205), ('brief', 0.049939772486070205), ('contents', 0.046457514912211215), ('morn', 0.046457514912211215), ('research', 0.04399060836383988), ('intro', 0.042080048466106953), ('aft', 0.030752640952399025), ('ur', 0.029709811229449327)])\n",
            "(68, [('sat', 0.10729355194814658), ('lesson', 0.08322013116035017), ('sch', 0.07755058013625618), ('kb', 0.051485022914675924), ('going', 0.04750852316474026), ('thought', 0.030592757947070167), ('on', 0.030097148114519738), ('nope', 0.028662142332271837), ('we', 0.02803477557536185), ('go', 0.027219438338602443)])\n",
            "(69, [('min', 0.22134371946617362), ('ltgt', 0.1682008228287902), ('mins', 0.12565102793327584), ('minutes', 0.07073403980598829), ('ago', 0.061790508011575214), ('wait', 0.05750639945789023), ('witin', 0.049881809504886555), ('waiti', 0.049881809504886555), ('chikkuil', 0.049881809504886555), ('epsilon', 0.044561643141416495)])\n",
            "(70, [('smoke', 0.1483560074847125), ('weed', 0.04585461263915179), ('smoking', 0.04417271909685657), ('smokes', 0.04182713582135596), ('because', 0.031715844763839166), ('too', 0.02702242386937304), ('hella', 0.026673691923871076), ('telling', 0.021121480021428343), ('much', 0.02093004352628323), ('when', 0.01950636171219995)])\n",
            "(71, [('pa', 0.3662747973182202), ('knw', 0.04623340620019454), ('drinkpa', 0.04078386940651102), ('onum', 0.04078386940651102), ('applyed', 0.04078386940651102), ('peoples', 0.04078386940651102), ('srs', 0.04078386940651102), ('heat', 0.04078386940651102), ('bong', 0.04078386940651102), ('rhode', 0.04078386940651102)])\n",
            "(72, [('glad', 0.10667026414785734), ('hope', 0.10099792304242368), ('day', 0.0976428433597283), ('having', 0.09517559464579833), ('wonderful', 0.09494972008843806), ('great', 0.08179430646246617), ('thank', 0.0811735207034303), ('checking', 0.06952358928572006), ('week', 0.06441216410652183), ('thanks', 0.057818278435737655)])\n",
            "(73, [('3030', 0.08985688401104712), ('urgent', 0.08384211934274685), ('12hrs', 0.07479328648374495), ('valid', 0.06882337034558686), ('awarded', 0.06748836734630892), ('land', 0.06313755667372649), ('guaranteed', 0.06150593838906735), ('150ppm', 0.061197669166338016), ('line', 0.05713302411150395), ('claim', 0.055671482053921965)])\n",
            "(74, [('office', 0.23281537390766313), ('hospital', 0.053790987903620364), ('da', 0.045909907553365555), ('registration', 0.04156817458740546), ('dawhere', 0.04156817458740546), ('data', 0.04156817458740546), ('ciao', 0.04156817458740546), ('residency', 0.04156817458740546), ('begun', 0.04156817458740546), ('analysis', 0.04156817458740546)])\n",
            "(75, [('colleagues', 0.06470895270175049), ('bday', 0.061464143694238554), ('she', 0.05988248811308551), ('my', 0.059353461220193686), ('wife', 0.058029937343630544), ('parents', 0.05620769383161718), ('kids', 0.049113510694609896), ('lunch', 0.04586936877029248), ('went', 0.045276748267103116), ('sofa', 0.04430592656445323)])\n",
            "(76, [('facebook', 0.15302360445445648), ('pictures', 0.07249434092180802), ('fb', 0.06980911434345173), ('list', 0.0675422330316293), ('joanna', 0.05735657038004103), ('friends', 0.049656136650803095), ('open', 0.036391641514014514), ('huh', 0.03482671126097343), ('myspace', 0.032102154631857685), ('magicalsongsblogspotcom', 0.032102154631857685)])\n",
            "(77, [('loan', 0.050782091490350116), ('pay', 0.048269948424033995), ('help', 0.04529271864507266), ('rent', 0.04231840957529177), ('purpose', 0.04018039819059391), ('tenants', 0.04018039819059391), ('refused', 0.04018039819059391), ('homeowners', 0.031825226750884845), ('1956669', 0.031825226750884845), ('75000', 0.031825226750884845)])\n",
            "(78, [('surfing', 0.11833419689862804), ('bored', 0.1012452562906803), ('sleepingand', 0.09798312236030002), ('temple', 0.09278019218555321), ('church', 0.09278019218555321), ('watching', 0.09113419131264189), ('listening', 0.08875064767397102), ('cartoon', 0.08875064767397102), ('amp', 0.07902280093662395), ('eve', 0.06486011546324158)])\n",
            "(79, [('darren', 0.1434422507411567), ('lor', 0.06971942360437343), ('lunch', 0.058778319695646224), ('leona', 0.05774005424803394), ('he', 0.05414579795975348), ('ask', 0.05330031071722935), ('cos', 0.048478097011202266), ('wif', 0.04611036343064547), ('meet', 0.039983422986995), ('thk', 0.037782219296141374)])\n",
            "(80, [('lar', 0.07704424236879513), ('yup', 0.07395359190443261), ('neva', 0.06406878907304399), ('then', 0.05915073136034862), ('clearer', 0.057386152527745586), ('sheet', 0.057386152527745586), ('sections', 0.057386152527745586), ('crucify', 0.057386152527745586), ('physics', 0.057386152527745586), ('brin', 0.057386152527745586)])\n",
            "(81, [('friendship', 0.07906762602111889), ('yuo', 0.05167504374891571), ('tihs', 0.05167504374891571), ('flirt', 0.034540584993390175), ('others', 0.03265481326214919), ('friends', 0.03174221393500704), ('ends', 0.03050417484115738), ('raed', 0.02933171447283111), ('rael', 0.02933171447283111), ('shared', 0.02933171447283111)])\n",
            "(82, [('come', 0.1911937862487104), ('tomorrow', 0.12321349626266488), ('di', 0.08981786216360835), ('vikky', 0.0783413394298736), ('will', 0.0747039164286661), ('otherwise', 0.06992828427470647), ('spose', 0.054038626963627094), ('wenever', 0.054038626963627094), ('karnan', 0.054038626963627094), ('gosh', 0.054038626963627094)])\n",
            "(83, [('jay', 0.2050945883928742), ('jays', 0.10104509493405939), ('fucking', 0.04747167323782523), ('wants', 0.043377378164363836), ('zac', 0.040528970222720326), ('retard', 0.040528970222720326), ('falconerf', 0.040528970222720326), ('noncomittal', 0.040528970222720326), ('doug', 0.040528970222720326), ('doublefaggot', 0.040528970222720326)])\n",
            "(84, [('she', 0.10100179661740423), ('her', 0.07037297340647874), ('malaria', 0.0699668260122519), ('vomit', 0.0625805848983129), ('temp', 0.041454397921665394), ('give', 0.03595251266735085), ('slowly', 0.03155301359890372), ('will', 0.03064776058611943), ('replace', 0.02970776209427766), ('gastroenteritis', 0.02970776209427766)])\n",
            "(85, [('pick', 0.2040904939971194), ('message', 0.17706059062643828), ('right', 0.16969759647200441), ('phone', 0.1607166554823636), ('pls', 0.15777649857205242), ('cant', 0.14781178481612103), ('send', 0.1306204161556559), ('now', 0.06990247510310857), ('warned', 0.043815102943481433), ('sprint', 0.043815102943481433)])\n",
            "(86, [('nicenicehow', 0.11822476751804376), ('doinghow', 0.11822476751804376), ('how', 0.08901773481958387), ('hows', 0.08396902813663747), ('hicts', 0.06616974730240052), ('50s', 0.06616974730240052), ('employee', 0.06616974730240052), ('alot', 0.06616974730240052), ('working', 0.06447344958335338), ('are', 0.06056291291679078)])\n",
            "(87, [('gud', 0.24420065512005582), ('mrng', 0.15344379228387955), ('careswt', 0.11703057794715443), ('gudnitetcpractice', 0.11703057794715443), ('dreamsmuah', 0.11703057794715443), ('tlk', 0.11703057794715443), ('dearslp', 0.11703057794715443), ('welltake', 0.11703057794715443), ('response', 0.10308910242839246), ('nice', 0.10196449139267438)])\n",
            "(88, [('work', 0.17777955201774812), ('quit', 0.08164656912328683), ('workin', 0.07065318422811476), ('finished', 0.057076901607652594), ('busy', 0.057076901607652594), ('aaooooright', 0.05187708188508201), ('overtime', 0.05187708188508201), ('boooo', 0.05187708188508201), ('nigpun', 0.05187708188508201), ('working', 0.050547184473349056)])\n",
            "(89, [('cashbalance', 0.1023630412719441), ('maximize', 0.1023630412719441), ('cashin', 0.1023630412719441), ('pounds', 0.09176350740780159), ('cc', 0.09068450866480547), ('500', 0.08887554562199715), ('currently', 0.08863307015813059), ('08718720201', 0.0784772608049583), ('150pmsg', 0.07326817734455342), ('86688', 0.06882263055585121)])\n",
            "(90, [('ok', 0.9250736537020237), ('done', 0.15667862315882577), ('ya', 0.14940666348824774), ('can', 0.05654078108793337), ('im', 0.0510717132675202), ('', 1e-05), ('', 1e-05), ('', 1e-05), ('', 1e-05), ('', 1e-05)])\n",
            "(91, [('drugs', 0.19364755645303333), ('drug', 0.11264505281696324), ('narcotics', 0.049881809504886555), ('apology', 0.049881809504886555), ('drugdealer', 0.049881809504886555), ('dealers', 0.049881809504886555), ('papa', 0.049881809504886555), ('need', 0.04900090144725148), ('impatient', 0.044561643141416495), ('christ', 0.044561643141416495)])\n",
            "(92, [('video', 0.12897631807404494), ('anytime', 0.12226660384404028), ('750', 0.11678681504542011), ('mins', 0.1053324589321608), ('network', 0.09402378064239035), ('08000930705', 0.0889211664320293), ('reply', 0.08663398828528196), ('delivery', 0.08155120530201543), ('handset', 0.06994762449095858), ('camcorder', 0.06781667605403603)])\n",
            "(93, [('happen', 0.20490278664223202), ('hear', 0.11903463009421975), ('behave', 0.10464216951100001), ('what', 0.08525073403562908), ('say', 0.08127910769532896), ('anything', 0.06623841607201013), ('attention', 0.06295762364694418), ('uncomfortable', 0.06295762364694418), ('ignorant', 0.06295762364694418), ('dont', 0.05638211399446411)])\n",
            "(94, [('alex', 0.17765014417173333), ('nichols', 0.08420424577838283), ('hes', 0.07115218900209068), ('party', 0.06039423193627167), ('his', 0.058043868752753525), ('concerned', 0.050661212778400404), ('howve', 0.050661212778400404), ('carly', 0.050661212778400404), ('roles', 0.050661212778400404), ('bffs', 0.050661212778400404)])\n",
            "(95, [('haha', 0.12194238150536), ('think', 0.12164692294382969), ('yeah', 0.09783194954294126), ('thinkin', 0.09771705483749189), ('lol', 0.07835683078585665), ('was', 0.07631647355034862), ('impression', 0.0736890367685824), ('about', 0.07260529781371616), ('thought', 0.06141727921192117), ('sec', 0.05546915479623189)])\n",
            "(96, [('carlos', 0.24633949355844445), ('mu', 0.04178627939374473), ('smoke', 0.03913390900137281), ('minute', 0.038565474059224725), ('let', 0.03788588351896796), ('pick', 0.03767824504562205), ('pattys', 0.035052082354785144), ('patty', 0.035052082354785144), ('donewant', 0.035052082354785144), ('gauge', 0.035052082354785144)])\n",
            "(97, [('job', 0.17546993984673775), ('resume', 0.09122856076195503), ('networking', 0.09122856076195503), ('technical', 0.08486727133569293), ('support', 0.06459672075366116), ('pandy', 0.0510601199656319), ('associate', 0.0510601199656319), ('bpo', 0.0510601199656319), ('wiproyou', 0.0510601199656319), ('hunting', 0.0510601199656319)])\n",
            "(98, [('dis', 0.05913495103471196), ('marry', 0.04444898691056658), ('luv', 0.0346007318099698), ('rose', 0.03131790081033455), ('if', 0.03061153391875995), ('send', 0.028124126700908636), ('frnds', 0.027412984708662318), ('praying', 0.027390135264227632), ('luvs', 0.027390135264227632), ('ques', 0.027390135264227632)])\n",
            "(99, [('photo', 0.0988661671912255), ('shoot', 0.07395522565515111), ('photos', 0.07074326988504938), ('ttyl', 0.06812290385206402), ('pic', 0.05601783831770126), ('took', 0.0517000920359172), ('pics', 0.0517000920359172), ('hlday', 0.046990110403154), ('amrca', 0.046990110403154), ('serena', 0.046990110403154)])\n",
            "(100, [('tampa', 0.2586195737052417), ('south', 0.09960505295316929), ('back', 0.08780016956107115), ('west', 0.08711298659224276), ('coast', 0.08711298659224276), ('kegger', 0.08711298659224276), ('preferably', 0.0767354972963222), ('ass', 0.0592156494504374), ('ffffuuuuuuu', 0.048756655907031966), ('tallahassee', 0.048756655907031966)])\n",
            "(101, [('morning', 0.14257245488934536), ('brings', 0.07781991697465418), ('successful', 0.07315481986176246), ('good', 0.07207545652672809), ('days', 0.05208087516851144), ('blame', 0.048769879907841644), ('blessings', 0.048769879907841644), ('essential', 0.046180186155705225), ('experience', 0.041156956477795235), ('life', 0.04032032306641864)])\n",
            "(102, [('camcorder', 0.09562639213374866), ('3510i', 0.08779290687173393), ('08000930705', 0.08060479834845821), ('nokia', 0.07648437735054127), ('free', 0.07444151042986887), ('colour', 0.06241349376167458), ('phone', 0.05923480495365476), ('deliveredtomorrow', 0.0581554503217608), ('minutes', 0.05512844829003882), ('100', 0.052194240933296464)])\n",
            "(103, [('still', 0.09008747044062317), ('buy', 0.0783741550377851), ('newspapers', 0.07048516560473099), ('plumbers', 0.07048516560473099), ('goods', 0.07048516560473099), ('wrench', 0.07048516560473099), ('buyers', 0.07048516560473099), ('purchases', 0.07048516560473099), ('grinder', 0.07048516560473099), ('bird', 0.06296753922156678)])\n",
            "(104, [('lei', 0.5010632677012037), ('neva', 0.13406987343062907), ('dunno', 0.11464561606581773), ('smth', 0.09221454296654889), ('lavender', 0.0800572251312994), ('develop', 0.07151868652326103), ('da', 0.06631431091041691), ('bishan', 0.06299889592846206), ('drivin', 0.06299889592846206), ('photos', 0.060262785457634645)])\n",
            "(105, [('liao', 0.12015698425500987), ('amazing', 0.07581419944826479), ('eyes', 0.0693475873040265), ('lessons', 0.0693475873040265), ('muz', 0.06615954464286264), ('plus', 0.053253956495007984), ('linear', 0.05229544544867138), ('dormitory', 0.05229544544867138), ('election', 0.05229544544867138), ('eleven', 0.05229544544867138)])\n",
            "(106, [('who', 0.18719012612416466), ('admirer', 0.15773297204821007), ('thinks', 0.14530943022260853), ('secret', 0.1427719495874443), ('ufind', 0.1328067372708924), ('specialcall', 0.1328067372708924), ('rreveal', 0.1328067372708924), ('looking', 0.09501350464915236), ('reveal', 0.0767354972963222), ('contact', 0.07105315590125472)])\n",
            "(107, [('350', 0.12428947174994243), ('ending', 0.10944310141799092), ('numbers', 0.10023594479701313), ('award', 0.09190397176972556), ('quoting', 0.08875064767397102), ('voda', 0.08875064767397102), ('08712300220', 0.08546327937804393), ('vodafone', 0.08546327937804393), ('standard', 0.08546327937804393), ('todays', 0.08127191284973748)])\n",
            "(108, [('natuition', 0.09566399520384321), ('otherwise', 0.07447982940501281), ('school', 0.05729690130435237), ('part', 0.05494849054042152), ('pay', 0.054410799850760215), ('job', 0.049448259675744885), ('money', 0.04479800879234362), ('degree', 0.03837062269606658), ('5years', 0.03837062269606658), ('phd', 0.03837062269606658)])\n",
            "(109, [('joys', 0.2666387852930011), ('john', 0.2490780167908458), ('father', 0.2490780167908458), ('iq', 0.15822978512264887), ('ias', 0.089814164471072), ('mandan', 0.089814164471072), ('ths', 0.08355149968707754), ('tis', 0.07567884685377374), ('checking', 0.06359522120709277), ('ans', 0.06226950419771145)])\n",
            "(110, [('valentines', 0.13919374121031622), ('valentine', 0.12556845538172054), ('custcare08718720201', 0.054910081596058244), ('lifetime', 0.0510812486238531), ('lturlgt', 0.0510812486238531), ('83600', 0.048368820570667555), ('partner', 0.04626811016178585), ('your', 0.04485404567184699), ('rcvd', 0.04310752313551065), ('real', 0.04198823685974211)])\n",
            "(111, [('savamob', 0.22853539709778184), ('discount', 0.16480815138713104), ('offers', 0.15529945355041289), ('85023', 0.14212011533738667), ('300', 0.12551196939851214), ('cs', 0.12078846387254334), ('worth', 0.11486111852860831), ('member', 0.10151436809813333), ('sub', 0.09597210742967954), ('vouchers', 0.09421869207209775)])\n",
            "(112, [('oredi', 0.5842667475424644), ('fan', 0.17824657256566598), ('ma', 0.15701263292939774), ('yupz', 0.09976361900977311), ('notes', 0.09976361900977311), ('bot', 0.09976361900977311), ('dad', 0.09824077377440794), ('slots', 0.08912328628283299), ('ericsson', 0.08912328628283299), ('waitin', 0.07850631646469887)])\n",
            "(113, [('number', 0.17284234964203943), ('her', 0.10673234299982609), ('sir', 0.07518570783292956), ('auntys', 0.054038626963627094), ('ashley', 0.054038626963627094), ('receiptswell', 0.054038626963627094), ('anybodys', 0.054038626963627094), ('sirs', 0.054038626963627094), ('ashleys', 0.054038626963627094), ('facilities', 0.054038626963627094)])\n",
            "(114, [('lose', 0.1645940041019339), ('fight', 0.07431589511134255), ('win', 0.06393749909352248), ('loses', 0.0639020363219348), ('fightng', 0.0639020363219348), ('dificult', 0.0639020363219348), ('theory', 0.06050882099057817), ('argue', 0.06050882099057817), ('some1', 0.057880857178676755), ('argument', 0.057880857178676755)])\n",
            "(115, [('jess', 0.08263822785757775), ('hope', 0.04020834992917002), ('baby', 0.03797684861490359), ('xx', 0.032521320006092216), ('darlin', 0.031297415740254145), ('off', 0.02989565196583842), ('phone', 0.029630725644833152), ('hi', 0.028791564699524687), ('dreamsu', 0.02625358394994029), ('therexx', 0.02625358394994029)])\n",
            "(116, [('bill', 0.056192371292174845), ('o2fwd', 0.05172333578914414), ('incredible', 0.05172333578914414), ('jsco', 0.05172333578914414), ('18ptxt', 0.05172333578914414), ('blow', 0.04811671187336161), ('letters', 0.04556170151969131), ('truly', 0.04358290733989648), ('amazing', 0.04196857469457515), ('learn', 0.04060574723925333)])\n",
            "(117, [('abiola', 0.17642545238096705), ('great', 0.1037820232534517), ('wishing', 0.06767253316907078), ('hoping', 0.04511502211271386), ('everyone', 0.03892351164115038), ('tunji', 0.03486363029911426), ('uscedu', 0.03486363029911426), ('olowoyey', 0.03486363029911426), ('fondly', 0.03486363029911426), ('jeremiah', 0.03486363029911426)])\n",
            "(118, [('activities', 0.15782197639810597), ('befor', 0.15782197639810597), ('rooms', 0.1509675965588167), ('no', 0.10062758085505677), ('probably', 0.09389154837389285), ('room', 0.0930132468036242), ('check', 0.08975257100694692), ('ilol', 0.06685190964572424), ('wuldnt', 0.06685190964572424), ('personally', 0.06685190964572424)])\n"
          ]
        }
      ],
      "source": [
        "# Initialize BERTopic\n",
        "topic_model_sms = BERTopic(language=\"english\", calculate_probabilities=True)\n",
        "\n",
        "# Fit the model on the limited data\n",
        "topics_sms, probabilities_sms = topic_model_sms.fit_transform(sms['text'])\n",
        "\n",
        "# Display the topic info\n",
        "topic_info_sms = topic_model_sms.get_topic_info()\n",
        "print(topic_info_sms)\n",
        "\n",
        "# Optionally, print individual topics\n",
        "for topic in topic_model_sms.get_topics().items():\n",
        "    print(topic)"
      ]
    },
    {
      "cell_type": "code",
      "source": [
        "import matplotlib.pyplot as plt\n",
        "import numpy as np\n",
        "\n",
        "# Assuming 'topics' contains the output from BERTopic\n",
        "unique_topics_sms, counts_sms = np.unique(topics_sms, return_counts=True)\n",
        "\n",
        "# Simple bar chart to show topic distribution\n",
        "plt.bar(unique_topics_sms, counts_sms, color='skyblue')\n",
        "plt.xlabel('Topic Number')\n",
        "plt.ylabel('Number of Documents')\n",
        "plt.title('Topic Distribution')\n",
        "plt.xticks(unique_topics_sms)\n",
        "plt.show()\n"
      ],
      "metadata": {
        "colab": {
          "base_uri": "https://localhost:8080/",
          "height": 527
        },
        "id": "z2g7GaeCVA71",
        "outputId": "4b82ad21-5943-44ed-dae2-08e40016dd29"
      },
      "execution_count": null,
      "outputs": [
        {
          "output_type": "stream",
          "name": "stderr",
          "text": [
            "/usr/local/lib/python3.10/dist-packages/ipykernel/ipkernel.py:283: DeprecationWarning: `should_run_async` will not call `transform_cell` automatically in the future. Please pass the result to `transformed_cell` argument and any exception that happen during thetransform in `preprocessing_exc_tuple` in IPython 7.17 and above.\n",
            "  and should_run_async(code)\n"
          ]
        },
        {
          "output_type": "display_data",
          "data": {
            "text/plain": [
              "<Figure size 640x480 with 1 Axes>"
            ],
            "image/png": "[encoded data removed]"
          },
          "metadata": {}
        }
      ]
    },
    {
      "cell_type": "markdown",
      "metadata": {
        "id": "Zbcw_2xlzdG5"
      },
      "source": [
        "## Oct-Delta"
      ]
    },
    {
      "cell_type": "markdown",
      "source": [
        "### Pre-processing"
      ],
      "metadata": {
        "id": "ptBJytSO-Rn4"
      }
    },
    {
      "cell_type": "code",
      "source": [
        "# Load the dataset\n",
        "oct_delta = pd.read_csv('https://raw.githubusercontent.com/duong4595/ib9cw0-text-analytics-23-24/main/Data/oct_delta.csv')\n"
      ],
      "metadata": {
        "colab": {
          "base_uri": "https://localhost:8080/"
        },
        "id": "788eEsHjzxp0",
        "outputId": "0aeaf42c-3847-4da8-8e18-2d76d3cc8df3"
      },
      "execution_count": null,
      "outputs": [
        {
          "output_type": "stream",
          "name": "stderr",
          "text": [
            "/usr/local/lib/python3.10/dist-packages/ipykernel/ipkernel.py:283: DeprecationWarning: `should_run_async` will not call `transform_cell` automatically in the future. Please pass the result to `transformed_cell` argument and any exception that happen during thetransform in `preprocessing_exc_tuple` in IPython 7.17 and above.\n",
            "  and should_run_async(code)\n"
          ]
        }
      ]
    },
    {
      "cell_type": "code",
      "source": [
        "import pandas as pd\n",
        "import re\n",
        "import nltk\n",
        "#remove missing value\n",
        "oct_delta = oct_delta.dropna(subset=['text'])\n",
        "#remove emails\n",
        "def remove_emails(text):\n",
        "  # Regular expression to match email format\n",
        "  email_domain = r\"@\\S*\\s?\"\n",
        "  return re.sub(email_domain, \"\", text)\n",
        "\n",
        "oct_delta['cleaned_text'] = oct_delta['text'].apply(remove_emails)"
      ],
      "metadata": {
        "colab": {
          "base_uri": "https://localhost:8080/"
        },
        "id": "0iGkcJQg7ne9",
        "outputId": "16f3d425-4df2-4b88-9111-46024c0db309"
      },
      "execution_count": null,
      "outputs": [
        {
          "output_type": "stream",
          "name": "stderr",
          "text": [
            "/usr/local/lib/python3.10/dist-packages/ipykernel/ipkernel.py:283: DeprecationWarning: `should_run_async` will not call `transform_cell` automatically in the future. Please pass the result to `transformed_cell` argument and any exception that happen during thetransform in `preprocessing_exc_tuple` in IPython 7.17 and above.\n",
            "  and should_run_async(code)\n"
          ]
        }
      ]
    },
    {
      "cell_type": "code",
      "source": [
        "#pre-processing function\n",
        "def preprocess_text(text):\n",
        "    # Lowercase\n",
        "    text = text.lower()\n",
        "    # Tokenize\n",
        "    tokens = nltk.word_tokenize(text)\n",
        "    # Remove stopwords\n",
        "    stop_words = stopwords.words('english')\n",
        "    extra_words = ['.', '*', ',']\n",
        "    stop_words.extend(extra_words)\n",
        "    tokens = [token for token in tokens if token not in stop_words and token.isalpha()]\n",
        "    # Create a PorterStemmer object\n",
        "    # stemmer = PorterStemmer()\n",
        "    # df['tokens'] = df['tokens'].apply(lambda tokens: [stemmer.stem(token) for token in tokens])\n",
        "    # Lemmatize\n",
        "    lemmatizer = WordNetLemmatizer()\n",
        "    tokens = [lemmatizer.lemmatize(token) for token in tokens]\n",
        "    return tokens\n",
        "\n",
        "oct_delta['cleaned_text'] = oct_delta['cleaned_text'].apply(preprocess_text)"
      ],
      "metadata": {
        "colab": {
          "base_uri": "https://localhost:8080/"
        },
        "id": "5ddJp7oT9EDJ",
        "outputId": "2c96e2de-d3dd-4acd-a41b-e1d33db94da3"
      },
      "execution_count": null,
      "outputs": [
        {
          "output_type": "stream",
          "name": "stderr",
          "text": [
            "/usr/local/lib/python3.10/dist-packages/ipykernel/ipkernel.py:283: DeprecationWarning: `should_run_async` will not call `transform_cell` automatically in the future. Please pass the result to `transformed_cell` argument and any exception that happen during thetransform in `preprocessing_exc_tuple` in IPython 7.17 and above.\n",
            "  and should_run_async(code)\n"
          ]
        }
      ]
    },
    {
      "cell_type": "code",
      "source": [
        "# Create a list of lists for tokens (one list per message)\n",
        "texts_oct_delta = oct_delta['cleaned_text'].tolist()\n",
        "\n",
        "# Create the dictionary using the list of lists\n",
        "dictionary_oct_delta = Dictionary(texts_oct_delta)\n",
        "\n",
        "# Create a document-term matrix\n",
        "corpus_oct_delta = [dictionary_oct_delta.doc2bow(text) for text in texts_oct_delta]"
      ],
      "metadata": {
        "colab": {
          "base_uri": "https://localhost:8080/"
        },
        "id": "u1YbVm4TBjcD",
        "outputId": "cc0af04a-df1f-4195-d845-df588c04e2f8"
      },
      "execution_count": null,
      "outputs": [
        {
          "output_type": "stream",
          "name": "stderr",
          "text": [
            "/usr/local/lib/python3.10/dist-packages/ipykernel/ipkernel.py:283: DeprecationWarning: `should_run_async` will not call `transform_cell` automatically in the future. Please pass the result to `transformed_cell` argument and any exception that happen during thetransform in `preprocessing_exc_tuple` in IPython 7.17 and above.\n",
            "  and should_run_async(code)\n"
          ]
        }
      ]
    },
    {
      "cell_type": "markdown",
      "source": [
        "### LDA"
      ],
      "metadata": {
        "id": "HR68CqV2-bpO"
      }
    },
    {
      "cell_type": "code",
      "source": [
        "# Range of topics to evaluate\n",
        "num_topics_oct_delta = 3\n",
        "passes_oct_delta = 30\n",
        "topic_range_oct_delta = range(2, 10)\n",
        "\n",
        "# List to store coherence\n",
        "coherence_scores_oct_delta = []\n",
        "\n",
        "for num_topics_oct_delta in topic_range_oct_delta:\n",
        "    lda_oct_delta = LdaModel(corpus=corpus_oct_delta, id2word=dictionary_oct_delta,\n",
        "                             num_topics=num_topics_oct_delta, passes=passes_oct_delta, random_state=100)\n",
        "    # Initialize CoherenceModel after training the LDA model\n",
        "    coherence_model_lda = CoherenceModel(model=lda_oct_delta, texts=texts_oct_delta,\n",
        "                                         dictionary=dictionary_oct_delta, coherence='c_v')\n",
        "    coherence_lda = coherence_model_lda.get_coherence()\n",
        "\n",
        "    # Append the coherence score\n",
        "    coherence_scores_oct_delta.append(coherence_lda)\n",
        "\n",
        "print(coherence_scores_oct_delta)\n",
        "# Plotting\n",
        "plt.figure(figsize=(12, 6))\n",
        "plt.plot(topic_range_oct_delta, coherence_scores_oct_delta)\n",
        "plt.title(\"Coherence Scores vs Number of Topics\")\n",
        "plt.xlabel(\"Number of Topics\")\n",
        "plt.ylabel(\"Coherence score\")\n",
        "plt.tight_layout()\n",
        "plt.show()"
      ],
      "metadata": {
        "id": "UbCSkb4--as3",
        "colab": {
          "base_uri": "https://localhost:8080/",
          "height": 543
        },
        "outputId": "c66dc5f8-6b74-4409-a27e-ee2b4a395b58"
      },
      "execution_count": null,
      "outputs": [
        {
          "output_type": "stream",
          "name": "stderr",
          "text": [
            "/usr/local/lib/python3.10/dist-packages/ipykernel/ipkernel.py:283: DeprecationWarning: `should_run_async` will not call `transform_cell` automatically in the future. Please pass the result to `transformed_cell` argument and any exception that happen during thetransform in `preprocessing_exc_tuple` in IPython 7.17 and above.\n",
            "  and should_run_async(code)\n"
          ]
        },
        {
          "output_type": "stream",
          "name": "stdout",
          "text": [
            "[0.2950636707581252, 0.32156598934380826, 0.2914773664671651, 0.29488977005751715, 0.3264751694231826, 0.31714068411261204, 0.31806114706842625, 0.32846234395268414]\n"
          ]
        },
        {
          "output_type": "display_data",
          "data": {
            "text/plain": [
              "<Figure size 1200x600 with 1 Axes>"
            ],
            "image/png": "[encoded data removed]"
          },
          "metadata": {}
        }
      ]
    },
    {
      "cell_type": "code",
      "source": [
        "# Set parameters\n",
        "num_topics_oct_delta = 6\n",
        "passes_oct_delta = 30\n",
        "\n",
        "# Create the LDA model\n",
        "lda_oct_delta = LdaModel(corpus=corpus_oct_delta, id2word=dictionary_oct_delta,\n",
        "                         num_topics=num_topics_oct_delta, passes=passes_oct_delta,random_state=100)\n",
        "\n",
        "# Display the topics\n",
        "topics_oct_delta = lda_oct_delta.print_topics(num_words=10)\n",
        "for topic in topics_oct_delta:\n",
        "    print(topic)"
      ],
      "metadata": {
        "colab": {
          "base_uri": "https://localhost:8080/"
        },
        "id": "TaXWEhc4DLZ9",
        "outputId": "2d47efad-67cc-49bf-8615-7f2d6844decd"
      },
      "execution_count": null,
      "outputs": [
        {
          "output_type": "stream",
          "name": "stderr",
          "text": [
            "/usr/local/lib/python3.10/dist-packages/ipykernel/ipkernel.py:283: DeprecationWarning: `should_run_async` will not call `transform_cell` automatically in the future. Please pass the result to `transformed_cell` argument and any exception that happen during thetransform in `preprocessing_exc_tuple` in IPython 7.17 and above.\n",
            "  and should_run_async(code)\n"
          ]
        },
        {
          "output_type": "stream",
          "name": "stdout",
          "text": [
            "(0, '0.057*\"team\" + 0.021*\"issue\" + 0.016*\"airport\" + 0.015*\"sure\" + 0.015*\"sorry\" + 0.015*\"flight\" + 0.014*\"service\" + 0.013*\"hear\" + 0.012*\"glad\" + 0.012*\"hi\"')\n",
            "(1, '0.067*\"please\" + 0.052*\"confirmation\" + 0.043*\"dm\" + 0.043*\"number\" + 0.031*\"follow\" + 0.030*\"look\" + 0.024*\"take\" + 0.019*\"hi\" + 0.019*\"amp\" + 0.017*\"wg\"')\n",
            "(2, '0.044*\"thank\" + 0.034*\"thanks\" + 0.029*\"u\" + 0.024*\"welcome\" + 0.021*\"great\" + 0.017*\"ml\" + 0.017*\"loyalty\" + 0.017*\"delta\" + 0.016*\"happy\" + 0.015*\"travel\"')\n",
            "(3, '0.032*\"aa\" + 0.022*\"able\" + 0.020*\"flight\" + 0.015*\"hi\" + 0.014*\"r\" + 0.012*\"yes\" + 0.011*\"airport\" + 0.011*\"enjoy\" + 0.011*\"may\" + 0.010*\"customer\"')\n",
            "(4, '0.027*\"http\" + 0.021*\"bag\" + 0.021*\"please\" + 0.019*\"baggage\" + 0.017*\"see\" + 0.015*\"sorry\" + 0.015*\"hi\" + 0.013*\"pl\" + 0.012*\"link\" + 0.011*\"service\"')\n",
            "(5, '0.043*\"pls\" + 0.031*\"sorry\" + 0.027*\"hear\" + 0.025*\"know\" + 0.024*\"rd\" + 0.021*\"let\" + 0.019*\"hi\" + 0.019*\"assist\" + 0.018*\"hello\" + 0.018*\"ng\"')\n"
          ]
        }
      ]
    },
    {
      "cell_type": "code",
      "source": [
        "# Print the top 5 terms for each topic\n",
        "for topic_id in range(num_topics_oct_delta):\n",
        "    top_terms_oct_delta = lda_oct_delta.show_topic(topic_id, topn=5)  # Get the top 5 terms for this topic\n",
        "    terms = ', '.join([term for term, _ in top_terms_oct_delta])\n",
        "    print(f\"Topic {topic_id}: {terms}\")"
      ],
      "metadata": {
        "colab": {
          "base_uri": "https://localhost:8080/"
        },
        "id": "__XDQbRGDvnw",
        "outputId": "44786c64-f552-482d-bd92-86c5e784f82e"
      },
      "execution_count": null,
      "outputs": [
        {
          "output_type": "stream",
          "name": "stdout",
          "text": [
            "Topic 0: team, issue, airport, sure, sorry\n",
            "Topic 1: please, confirmation, dm, number, follow\n",
            "Topic 2: thank, thanks, u, welcome, great\n",
            "Topic 3: aa, able, flight, hi, r\n",
            "Topic 4: http, bag, please, baggage, see\n",
            "Topic 5: pls, sorry, hear, know, rd\n"
          ]
        },
        {
          "output_type": "stream",
          "name": "stderr",
          "text": [
            "/usr/local/lib/python3.10/dist-packages/ipykernel/ipkernel.py:283: DeprecationWarning: `should_run_async` will not call `transform_cell` automatically in the future. Please pass the result to `transformed_cell` argument and any exception that happen during thetransform in `preprocessing_exc_tuple` in IPython 7.17 and above.\n",
            "  and should_run_async(code)\n"
          ]
        }
      ]
    },
    {
      "cell_type": "markdown",
      "source": [
        "### LSA"
      ],
      "metadata": {
        "id": "MLsFg8z0D86R"
      }
    },
    {
      "cell_type": "code",
      "source": [
        "# train LSA model\n",
        "num_topics_oct_delta = 6\n",
        "lsa_model_oct_delta = LsiModel(corpus_oct_delta, num_topics=num_topics_oct_delta,\n",
        "                               id2word=dictionary_oct_delta,random_seed=100)\n",
        "topics_oct_delta = lsa_model_oct_delta.print_topics(num_words=5)\n",
        "for topic in topics_oct_delta:\n",
        "    print(topic)\n",
        "\n",
        "coherence_model_lsa_oct_delta = CoherenceModel(model=lsa_model_oct_delta,\n",
        "                                               texts=texts_oct_delta,\n",
        "                                               dictionary=dictionary_oct_delta, coherence='c_v')\n",
        "coherence_lsa_oct_delta = coherence_model_lsa_oct_delta.get_coherence()\n",
        "print('Coherence Score:', coherence_lsa_oct_delta)"
      ],
      "metadata": {
        "colab": {
          "base_uri": "https://localhost:8080/"
        },
        "id": "E0MC7uo7D-vT",
        "outputId": "451cd796-7a38-492d-f2f3-6d4d9b9619ca"
      },
      "execution_count": null,
      "outputs": [
        {
          "output_type": "stream",
          "name": "stderr",
          "text": [
            "/usr/local/lib/python3.10/dist-packages/ipykernel/ipkernel.py:283: DeprecationWarning: `should_run_async` will not call `transform_cell` automatically in the future. Please pass the result to `transformed_cell` argument and any exception that happen during thetransform in `preprocessing_exc_tuple` in IPython 7.17 and above.\n",
            "  and should_run_async(code)\n",
            "/usr/local/lib/python3.10/dist-packages/gensim/models/lsimodel.py:963: DeprecationWarning: Please use `csc_matvecs` from the `scipy.sparse` namespace, the `scipy.sparse.sparsetools` namespace is deprecated.\n",
            "  sparsetools.csc_matvecs(\n",
            "/usr/local/lib/python3.10/dist-packages/scipy/linalg/_special_matrices.py:154: DeprecationWarning: 'tri'/'tril/'triu' are deprecated as of SciPy 1.11.0 and will be removed in v1.13.0. Please use numpy.(tri/tril/triu) instead.\n",
            "  out = (1 - tri(m.shape[0], m.shape[1], k - 1, m.dtype.char)) * m\n",
            "/usr/local/lib/python3.10/dist-packages/scipy/linalg/_special_matrices.py:154: DeprecationWarning: 'tri'/'tril/'triu' are deprecated as of SciPy 1.11.0 and will be removed in v1.13.0. Please use numpy.(tri/tril/triu) instead.\n",
            "  out = (1 - tri(m.shape[0], m.shape[1], k - 1, m.dtype.char)) * m\n",
            "/usr/local/lib/python3.10/dist-packages/scipy/linalg/_special_matrices.py:154: DeprecationWarning: 'tri'/'tril/'triu' are deprecated as of SciPy 1.11.0 and will be removed in v1.13.0. Please use numpy.(tri/tril/triu) instead.\n",
            "  out = (1 - tri(m.shape[0], m.shape[1], k - 1, m.dtype.char)) * m\n"
          ]
        },
        {
          "output_type": "stream",
          "name": "stdout",
          "text": [
            "(0, '0.414*\"please\" + 0.308*\"sorry\" + 0.282*\"hear\" + 0.258*\"hi\" + 0.256*\"pls\"')\n",
            "(1, '0.414*\"please\" + -0.318*\"team\" + -0.309*\"pls\" + 0.307*\"number\" + 0.286*\"dm\"')\n",
            "(2, '-0.416*\"team\" + 0.313*\"sorry\" + 0.302*\"know\" + 0.291*\"let\" + -0.268*\"hi\"')\n",
            "(3, '0.482*\"team\" + -0.450*\"pls\" + 0.327*\"please\" + -0.241*\"confirmation\" + 0.169*\"service\"')\n",
            "(4, '0.616*\"hi\" + -0.223*\"team\" + -0.214*\"confirmation\" + 0.206*\"thanks\" + -0.205*\"sorry\"')\n",
            "(5, '0.526*\"sorry\" + -0.317*\"let\" + 0.310*\"hear\" + -0.309*\"know\" + -0.253*\"please\"')\n",
            "Coherence Score: 0.34243711740496896\n"
          ]
        }
      ]
    },
    {
      "cell_type": "markdown",
      "source": [
        "### NMF"
      ],
      "metadata": {
        "id": "C-qJxAUOEUs9"
      }
    },
    {
      "cell_type": "code",
      "source": [
        "# train NMF model\n",
        "num_topics_oct_delta = 3\n",
        "nmf_model_oct_delta = Nmf(corpus_oct_delta,id2word=dictionary_oct_delta,\n",
        "                          num_topics=num_topics_oct_delta,passes=30,random_state=100)\n",
        "topics_oct_delta = nmf_model_oct_delta.print_topics(num_words=5)\n",
        "for topic in topics_oct_delta:\n",
        "    print(topic)\n",
        "\n",
        "coherence_model_nmf_oct_delta = CoherenceModel(model=nmf_model_oct_delta, texts=texts_oct_delta,\n",
        "                                               dictionary=dictionary_oct_delta, coherence='c_v')\n",
        "coherence_nmf_oct_delta = coherence_model_nmf_oct_delta.get_coherence()\n",
        "print('Coherence Score:', coherence_nmf_oct_delta)"
      ],
      "metadata": {
        "colab": {
          "base_uri": "https://localhost:8080/"
        },
        "id": "aoDyC9P0EUFh",
        "outputId": "369d96d9-a024-42d1-98e3-8b735b5a2839"
      },
      "execution_count": null,
      "outputs": [
        {
          "output_type": "stream",
          "name": "stderr",
          "text": [
            "/usr/local/lib/python3.10/dist-packages/ipykernel/ipkernel.py:283: DeprecationWarning: `should_run_async` will not call `transform_cell` automatically in the future. Please pass the result to `transformed_cell` argument and any exception that happen during thetransform in `preprocessing_exc_tuple` in IPython 7.17 and above.\n",
            "  and should_run_async(code)\n",
            "/usr/local/lib/python3.10/dist-packages/gensim/models/nmf.py:578: DeprecationWarning: Please use `csc_matrix` from the `scipy.sparse` namespace, the `scipy.sparse.csc` namespace is deprecated.\n",
            "  if isinstance(corpus, scipy.sparse.csc.csc_matrix):\n",
            "/usr/local/lib/python3.10/dist-packages/gensim/models/nmf.py:607: DeprecationWarning: Please use `csc_matrix` from the `scipy.sparse` namespace, the `scipy.sparse.csc` namespace is deprecated.\n",
            "  if isinstance(corpus, scipy.sparse.csc.csc_matrix):\n",
            "/usr/local/lib/python3.10/dist-packages/gensim/models/nmf.py:620: DeprecationWarning: Please use `csc_matrix` from the `scipy.sparse` namespace, the `scipy.sparse.csc` namespace is deprecated.\n",
            "  if isinstance(corpus, scipy.sparse.csc.csc_matrix):\n",
            "/usr/local/lib/python3.10/dist-packages/gensim/models/nmf.py:607: DeprecationWarning: Please use `csc_matrix` from the `scipy.sparse` namespace, the `scipy.sparse.csc` namespace is deprecated.\n",
            "  if isinstance(corpus, scipy.sparse.csc.csc_matrix):\n",
            "/usr/local/lib/python3.10/dist-packages/gensim/models/nmf.py:620: DeprecationWarning: Please use `csc_matrix` from the `scipy.sparse` namespace, the `scipy.sparse.csc` namespace is deprecated.\n",
            "  if isinstance(corpus, scipy.sparse.csc.csc_matrix):\n",
            "/usr/local/lib/python3.10/dist-packages/gensim/models/nmf.py:607: DeprecationWarning: Please use `csc_matrix` from the `scipy.sparse` namespace, the `scipy.sparse.csc` namespace is deprecated.\n",
            "  if isinstance(corpus, scipy.sparse.csc.csc_matrix):\n",
            "/usr/local/lib/python3.10/dist-packages/gensim/models/nmf.py:620: DeprecationWarning: Please use `csc_matrix` from the `scipy.sparse` namespace, the `scipy.sparse.csc` namespace is deprecated.\n",
            "  if isinstance(corpus, scipy.sparse.csc.csc_matrix):\n",
            "/usr/local/lib/python3.10/dist-packages/gensim/models/nmf.py:607: DeprecationWarning: Please use `csc_matrix` from the `scipy.sparse` namespace, the `scipy.sparse.csc` namespace is deprecated.\n",
            "  if isinstance(corpus, scipy.sparse.csc.csc_matrix):\n",
            "/usr/local/lib/python3.10/dist-packages/gensim/models/nmf.py:620: DeprecationWarning: Please use `csc_matrix` from the `scipy.sparse` namespace, the `scipy.sparse.csc` namespace is deprecated.\n",
            "  if isinstance(corpus, scipy.sparse.csc.csc_matrix):\n",
            "/usr/local/lib/python3.10/dist-packages/gensim/models/nmf.py:607: DeprecationWarning: Please use `csc_matrix` from the `scipy.sparse` namespace, the `scipy.sparse.csc` namespace is deprecated.\n",
            "  if isinstance(corpus, scipy.sparse.csc.csc_matrix):\n",
            "/usr/local/lib/python3.10/dist-packages/gensim/models/nmf.py:620: DeprecationWarning: Please use `csc_matrix` from the `scipy.sparse` namespace, the `scipy.sparse.csc` namespace is deprecated.\n",
            "  if isinstance(corpus, scipy.sparse.csc.csc_matrix):\n",
            "/usr/local/lib/python3.10/dist-packages/gensim/models/nmf.py:607: DeprecationWarning: Please use `csc_matrix` from the `scipy.sparse` namespace, the `scipy.sparse.csc` namespace is deprecated.\n",
            "  if isinstance(corpus, scipy.sparse.csc.csc_matrix):\n",
            "/usr/local/lib/python3.10/dist-packages/gensim/models/nmf.py:620: DeprecationWarning: Please use `csc_matrix` from the `scipy.sparse` namespace, the `scipy.sparse.csc` namespace is deprecated.\n",
            "  if isinstance(corpus, scipy.sparse.csc.csc_matrix):\n",
            "/usr/local/lib/python3.10/dist-packages/gensim/models/nmf.py:607: DeprecationWarning: Please use `csc_matrix` from the `scipy.sparse` namespace, the `scipy.sparse.csc` namespace is deprecated.\n",
            "  if isinstance(corpus, scipy.sparse.csc.csc_matrix):\n",
            "/usr/local/lib/python3.10/dist-packages/gensim/models/nmf.py:620: DeprecationWarning: Please use `csc_matrix` from the `scipy.sparse` namespace, the `scipy.sparse.csc` namespace is deprecated.\n",
            "  if isinstance(corpus, scipy.sparse.csc.csc_matrix):\n",
            "/usr/local/lib/python3.10/dist-packages/gensim/models/nmf.py:607: DeprecationWarning: Please use `csc_matrix` from the `scipy.sparse` namespace, the `scipy.sparse.csc` namespace is deprecated.\n",
            "  if isinstance(corpus, scipy.sparse.csc.csc_matrix):\n",
            "/usr/local/lib/python3.10/dist-packages/gensim/models/nmf.py:620: DeprecationWarning: Please use `csc_matrix` from the `scipy.sparse` namespace, the `scipy.sparse.csc` namespace is deprecated.\n",
            "  if isinstance(corpus, scipy.sparse.csc.csc_matrix):\n",
            "/usr/local/lib/python3.10/dist-packages/gensim/models/nmf.py:607: DeprecationWarning: Please use `csc_matrix` from the `scipy.sparse` namespace, the `scipy.sparse.csc` namespace is deprecated.\n",
            "  if isinstance(corpus, scipy.sparse.csc.csc_matrix):\n",
            "/usr/local/lib/python3.10/dist-packages/gensim/models/nmf.py:620: DeprecationWarning: Please use `csc_matrix` from the `scipy.sparse` namespace, the `scipy.sparse.csc` namespace is deprecated.\n",
            "  if isinstance(corpus, scipy.sparse.csc.csc_matrix):\n",
            "/usr/local/lib/python3.10/dist-packages/gensim/models/nmf.py:607: DeprecationWarning: Please use `csc_matrix` from the `scipy.sparse` namespace, the `scipy.sparse.csc` namespace is deprecated.\n",
            "  if isinstance(corpus, scipy.sparse.csc.csc_matrix):\n",
            "/usr/local/lib/python3.10/dist-packages/gensim/models/nmf.py:620: DeprecationWarning: Please use `csc_matrix` from the `scipy.sparse` namespace, the `scipy.sparse.csc` namespace is deprecated.\n",
            "  if isinstance(corpus, scipy.sparse.csc.csc_matrix):\n",
            "/usr/local/lib/python3.10/dist-packages/gensim/models/nmf.py:607: DeprecationWarning: Please use `csc_matrix` from the `scipy.sparse` namespace, the `scipy.sparse.csc` namespace is deprecated.\n",
            "  if isinstance(corpus, scipy.sparse.csc.csc_matrix):\n",
            "/usr/local/lib/python3.10/dist-packages/gensim/models/nmf.py:620: DeprecationWarning: Please use `csc_matrix` from the `scipy.sparse` namespace, the `scipy.sparse.csc` namespace is deprecated.\n",
            "  if isinstance(corpus, scipy.sparse.csc.csc_matrix):\n",
            "/usr/local/lib/python3.10/dist-packages/gensim/models/nmf.py:607: DeprecationWarning: Please use `csc_matrix` from the `scipy.sparse` namespace, the `scipy.sparse.csc` namespace is deprecated.\n",
            "  if isinstance(corpus, scipy.sparse.csc.csc_matrix):\n",
            "/usr/local/lib/python3.10/dist-packages/gensim/models/nmf.py:620: DeprecationWarning: Please use `csc_matrix` from the `scipy.sparse` namespace, the `scipy.sparse.csc` namespace is deprecated.\n",
            "  if isinstance(corpus, scipy.sparse.csc.csc_matrix):\n",
            "/usr/local/lib/python3.10/dist-packages/gensim/models/nmf.py:607: DeprecationWarning: Please use `csc_matrix` from the `scipy.sparse` namespace, the `scipy.sparse.csc` namespace is deprecated.\n",
            "  if isinstance(corpus, scipy.sparse.csc.csc_matrix):\n",
            "/usr/local/lib/python3.10/dist-packages/gensim/models/nmf.py:620: DeprecationWarning: Please use `csc_matrix` from the `scipy.sparse` namespace, the `scipy.sparse.csc` namespace is deprecated.\n",
            "  if isinstance(corpus, scipy.sparse.csc.csc_matrix):\n",
            "/usr/local/lib/python3.10/dist-packages/gensim/models/nmf.py:607: DeprecationWarning: Please use `csc_matrix` from the `scipy.sparse` namespace, the `scipy.sparse.csc` namespace is deprecated.\n",
            "  if isinstance(corpus, scipy.sparse.csc.csc_matrix):\n",
            "/usr/local/lib/python3.10/dist-packages/gensim/models/nmf.py:620: DeprecationWarning: Please use `csc_matrix` from the `scipy.sparse` namespace, the `scipy.sparse.csc` namespace is deprecated.\n",
            "  if isinstance(corpus, scipy.sparse.csc.csc_matrix):\n",
            "/usr/local/lib/python3.10/dist-packages/gensim/models/nmf.py:607: DeprecationWarning: Please use `csc_matrix` from the `scipy.sparse` namespace, the `scipy.sparse.csc` namespace is deprecated.\n",
            "  if isinstance(corpus, scipy.sparse.csc.csc_matrix):\n",
            "/usr/local/lib/python3.10/dist-packages/gensim/models/nmf.py:620: DeprecationWarning: Please use `csc_matrix` from the `scipy.sparse` namespace, the `scipy.sparse.csc` namespace is deprecated.\n",
            "  if isinstance(corpus, scipy.sparse.csc.csc_matrix):\n",
            "/usr/local/lib/python3.10/dist-packages/gensim/models/nmf.py:607: DeprecationWarning: Please use `csc_matrix` from the `scipy.sparse` namespace, the `scipy.sparse.csc` namespace is deprecated.\n",
            "  if isinstance(corpus, scipy.sparse.csc.csc_matrix):\n",
            "/usr/local/lib/python3.10/dist-packages/gensim/models/nmf.py:620: DeprecationWarning: Please use `csc_matrix` from the `scipy.sparse` namespace, the `scipy.sparse.csc` namespace is deprecated.\n",
            "  if isinstance(corpus, scipy.sparse.csc.csc_matrix):\n",
            "/usr/local/lib/python3.10/dist-packages/gensim/models/nmf.py:607: DeprecationWarning: Please use `csc_matrix` from the `scipy.sparse` namespace, the `scipy.sparse.csc` namespace is deprecated.\n",
            "  if isinstance(corpus, scipy.sparse.csc.csc_matrix):\n",
            "/usr/local/lib/python3.10/dist-packages/gensim/models/nmf.py:620: DeprecationWarning: Please use `csc_matrix` from the `scipy.sparse` namespace, the `scipy.sparse.csc` namespace is deprecated.\n",
            "  if isinstance(corpus, scipy.sparse.csc.csc_matrix):\n",
            "/usr/local/lib/python3.10/dist-packages/gensim/models/nmf.py:607: DeprecationWarning: Please use `csc_matrix` from the `scipy.sparse` namespace, the `scipy.sparse.csc` namespace is deprecated.\n",
            "  if isinstance(corpus, scipy.sparse.csc.csc_matrix):\n",
            "/usr/local/lib/python3.10/dist-packages/gensim/models/nmf.py:620: DeprecationWarning: Please use `csc_matrix` from the `scipy.sparse` namespace, the `scipy.sparse.csc` namespace is deprecated.\n",
            "  if isinstance(corpus, scipy.sparse.csc.csc_matrix):\n",
            "/usr/local/lib/python3.10/dist-packages/gensim/models/nmf.py:607: DeprecationWarning: Please use `csc_matrix` from the `scipy.sparse` namespace, the `scipy.sparse.csc` namespace is deprecated.\n",
            "  if isinstance(corpus, scipy.sparse.csc.csc_matrix):\n",
            "/usr/local/lib/python3.10/dist-packages/gensim/models/nmf.py:620: DeprecationWarning: Please use `csc_matrix` from the `scipy.sparse` namespace, the `scipy.sparse.csc` namespace is deprecated.\n",
            "  if isinstance(corpus, scipy.sparse.csc.csc_matrix):\n",
            "/usr/local/lib/python3.10/dist-packages/gensim/models/nmf.py:607: DeprecationWarning: Please use `csc_matrix` from the `scipy.sparse` namespace, the `scipy.sparse.csc` namespace is deprecated.\n",
            "  if isinstance(corpus, scipy.sparse.csc.csc_matrix):\n",
            "/usr/local/lib/python3.10/dist-packages/gensim/models/nmf.py:620: DeprecationWarning: Please use `csc_matrix` from the `scipy.sparse` namespace, the `scipy.sparse.csc` namespace is deprecated.\n",
            "  if isinstance(corpus, scipy.sparse.csc.csc_matrix):\n",
            "/usr/local/lib/python3.10/dist-packages/gensim/models/nmf.py:607: DeprecationWarning: Please use `csc_matrix` from the `scipy.sparse` namespace, the `scipy.sparse.csc` namespace is deprecated.\n",
            "  if isinstance(corpus, scipy.sparse.csc.csc_matrix):\n",
            "/usr/local/lib/python3.10/dist-packages/gensim/models/nmf.py:620: DeprecationWarning: Please use `csc_matrix` from the `scipy.sparse` namespace, the `scipy.sparse.csc` namespace is deprecated.\n",
            "  if isinstance(corpus, scipy.sparse.csc.csc_matrix):\n",
            "/usr/local/lib/python3.10/dist-packages/gensim/models/nmf.py:607: DeprecationWarning: Please use `csc_matrix` from the `scipy.sparse` namespace, the `scipy.sparse.csc` namespace is deprecated.\n",
            "  if isinstance(corpus, scipy.sparse.csc.csc_matrix):\n",
            "/usr/local/lib/python3.10/dist-packages/gensim/models/nmf.py:620: DeprecationWarning: Please use `csc_matrix` from the `scipy.sparse` namespace, the `scipy.sparse.csc` namespace is deprecated.\n",
            "  if isinstance(corpus, scipy.sparse.csc.csc_matrix):\n",
            "/usr/local/lib/python3.10/dist-packages/gensim/models/nmf.py:607: DeprecationWarning: Please use `csc_matrix` from the `scipy.sparse` namespace, the `scipy.sparse.csc` namespace is deprecated.\n",
            "  if isinstance(corpus, scipy.sparse.csc.csc_matrix):\n",
            "/usr/local/lib/python3.10/dist-packages/gensim/models/nmf.py:620: DeprecationWarning: Please use `csc_matrix` from the `scipy.sparse` namespace, the `scipy.sparse.csc` namespace is deprecated.\n",
            "  if isinstance(corpus, scipy.sparse.csc.csc_matrix):\n",
            "/usr/local/lib/python3.10/dist-packages/gensim/models/nmf.py:607: DeprecationWarning: Please use `csc_matrix` from the `scipy.sparse` namespace, the `scipy.sparse.csc` namespace is deprecated.\n",
            "  if isinstance(corpus, scipy.sparse.csc.csc_matrix):\n",
            "/usr/local/lib/python3.10/dist-packages/gensim/models/nmf.py:620: DeprecationWarning: Please use `csc_matrix` from the `scipy.sparse` namespace, the `scipy.sparse.csc` namespace is deprecated.\n",
            "  if isinstance(corpus, scipy.sparse.csc.csc_matrix):\n",
            "/usr/local/lib/python3.10/dist-packages/gensim/models/nmf.py:607: DeprecationWarning: Please use `csc_matrix` from the `scipy.sparse` namespace, the `scipy.sparse.csc` namespace is deprecated.\n",
            "  if isinstance(corpus, scipy.sparse.csc.csc_matrix):\n",
            "/usr/local/lib/python3.10/dist-packages/gensim/models/nmf.py:620: DeprecationWarning: Please use `csc_matrix` from the `scipy.sparse` namespace, the `scipy.sparse.csc` namespace is deprecated.\n",
            "  if isinstance(corpus, scipy.sparse.csc.csc_matrix):\n",
            "/usr/local/lib/python3.10/dist-packages/gensim/models/nmf.py:607: DeprecationWarning: Please use `csc_matrix` from the `scipy.sparse` namespace, the `scipy.sparse.csc` namespace is deprecated.\n",
            "  if isinstance(corpus, scipy.sparse.csc.csc_matrix):\n",
            "/usr/local/lib/python3.10/dist-packages/gensim/models/nmf.py:620: DeprecationWarning: Please use `csc_matrix` from the `scipy.sparse` namespace, the `scipy.sparse.csc` namespace is deprecated.\n",
            "  if isinstance(corpus, scipy.sparse.csc.csc_matrix):\n",
            "/usr/local/lib/python3.10/dist-packages/gensim/models/nmf.py:607: DeprecationWarning: Please use `csc_matrix` from the `scipy.sparse` namespace, the `scipy.sparse.csc` namespace is deprecated.\n",
            "  if isinstance(corpus, scipy.sparse.csc.csc_matrix):\n",
            "/usr/local/lib/python3.10/dist-packages/gensim/models/nmf.py:620: DeprecationWarning: Please use `csc_matrix` from the `scipy.sparse` namespace, the `scipy.sparse.csc` namespace is deprecated.\n",
            "  if isinstance(corpus, scipy.sparse.csc.csc_matrix):\n",
            "/usr/local/lib/python3.10/dist-packages/gensim/models/nmf.py:607: DeprecationWarning: Please use `csc_matrix` from the `scipy.sparse` namespace, the `scipy.sparse.csc` namespace is deprecated.\n",
            "  if isinstance(corpus, scipy.sparse.csc.csc_matrix):\n",
            "/usr/local/lib/python3.10/dist-packages/gensim/models/nmf.py:620: DeprecationWarning: Please use `csc_matrix` from the `scipy.sparse` namespace, the `scipy.sparse.csc` namespace is deprecated.\n",
            "  if isinstance(corpus, scipy.sparse.csc.csc_matrix):\n",
            "/usr/local/lib/python3.10/dist-packages/gensim/models/nmf.py:607: DeprecationWarning: Please use `csc_matrix` from the `scipy.sparse` namespace, the `scipy.sparse.csc` namespace is deprecated.\n",
            "  if isinstance(corpus, scipy.sparse.csc.csc_matrix):\n",
            "/usr/local/lib/python3.10/dist-packages/gensim/models/nmf.py:620: DeprecationWarning: Please use `csc_matrix` from the `scipy.sparse` namespace, the `scipy.sparse.csc` namespace is deprecated.\n",
            "  if isinstance(corpus, scipy.sparse.csc.csc_matrix):\n",
            "/usr/local/lib/python3.10/dist-packages/gensim/models/nmf.py:607: DeprecationWarning: Please use `csc_matrix` from the `scipy.sparse` namespace, the `scipy.sparse.csc` namespace is deprecated.\n",
            "  if isinstance(corpus, scipy.sparse.csc.csc_matrix):\n",
            "/usr/local/lib/python3.10/dist-packages/gensim/models/nmf.py:620: DeprecationWarning: Please use `csc_matrix` from the `scipy.sparse` namespace, the `scipy.sparse.csc` namespace is deprecated.\n",
            "  if isinstance(corpus, scipy.sparse.csc.csc_matrix):\n"
          ]
        },
        {
          "output_type": "stream",
          "name": "stdout",
          "text": [
            "(0, '0.075*\"team\" + 0.025*\"hi\" + 0.020*\"service\" + 0.016*\"happy\" + 0.016*\"issue\"')\n",
            "(1, '0.064*\"sorry\" + 0.062*\"hear\" + 0.056*\"pls\" + 0.047*\"know\" + 0.047*\"let\"')\n",
            "(2, '0.095*\"please\" + 0.064*\"confirmation\" + 0.060*\"dm\" + 0.055*\"number\" + 0.040*\"follow\"')\n",
            "Coherence Score: 0.37769330511723914\n"
          ]
        }
      ]
    },
    {
      "cell_type": "markdown",
      "source": [
        "### BERTopic"
      ],
      "metadata": {
        "id": "43giDPwcFKgB"
      }
    },
    {
      "cell_type": "code",
      "source": [
        "# Load the dataset\n",
        "oct_delta = pd.read_csv('https://raw.githubusercontent.com/duong4595/ib9cw0-text-analytics-23-24/main/Data/oct_delta.csv')\n",
        "\n",
        "# Clean data: Remove rows with missing 'text' values\n",
        "oct_delta = oct_delta.dropna(subset=['text'])\n",
        "\n",
        "# Function to preprocess text\n",
        "def preprocess_text(text):\n",
        "  \"\"\"Preprocesses text data by performing:\n",
        "      - Lowercasing\n",
        "      - Tokenization\n",
        "      - Stopword removal (including custom words)\n",
        "      - Alphabetic character filtering\n",
        "      - Lemmatization\n",
        "  \"\"\"\n",
        "  text = text.lower()\n",
        "  tokens = nltk.word_tokenize(text)\n",
        "  stop_words = stopwords.words('english')\n",
        "  extra_words = ['.','*',',', 'ur', 'lor', 'da', 'u', 'n', 'gt']\n",
        "  stop_words.extend(extra_words)\n",
        "  tokens = [token for token in tokens if token not in stop_words and token.isalpha()]\n",
        "  return ' '.join(tokens)\n",
        "  # Return a list of tokens, not a joined string\n",
        "\n",
        "oct_delta['text']= oct_delta['text'].apply(preprocess_text)"
      ],
      "metadata": {
        "colab": {
          "base_uri": "https://localhost:8080/"
        },
        "id": "EsXAtHbKFJiD",
        "outputId": "9cf51bfa-2c6e-49e3-f1ef-8e81d4cef54d"
      },
      "execution_count": null,
      "outputs": [
        {
          "output_type": "stream",
          "name": "stderr",
          "text": [
            "/usr/local/lib/python3.10/dist-packages/ipykernel/ipkernel.py:283: DeprecationWarning: `should_run_async` will not call `transform_cell` automatically in the future. Please pass the result to `transformed_cell` argument and any exception that happen during thetransform in `preprocessing_exc_tuple` in IPython 7.17 and above.\n",
            "  and should_run_async(code)\n"
          ]
        }
      ]
    },
    {
      "cell_type": "code",
      "source": [
        "# Initialize BERTopic\n",
        "topic_model_oct_delta = BERTopic(language=\"english\", calculate_probabilities=True)\n",
        "\n",
        "# Fit the model on the limited data\n",
        "topics_oct_delta, probabilities_oct_delta = topic_model_oct_delta.fit_transform(oct_delta['text'])\n",
        "\n",
        "# Display the topic info\n",
        "topic_info_oct_delta = topic_model_oct_delta.get_topic_info()\n",
        "print(topic_info_oct_delta)\n",
        "\n",
        "# Optionally, print individual topics\n",
        "for topic in topic_model_oct_delta.get_topics().items():\n",
        "    print(topic)"
      ],
      "metadata": {
        "colab": {
          "base_uri": "https://localhost:8080/"
        },
        "id": "Z82H30bSFWtY",
        "outputId": "8a094e83-11bc-4afe-f68d-efe719e6cd81"
      },
      "execution_count": null,
      "outputs": [
        {
          "output_type": "stream",
          "name": "stderr",
          "text": [
            "/usr/local/lib/python3.10/dist-packages/ipykernel/ipkernel.py:283: DeprecationWarning: `should_run_async` will not call `transform_cell` automatically in the future. Please pass the result to `transformed_cell` argument and any exception that happen during thetransform in `preprocessing_exc_tuple` in IPython 7.17 and above.\n",
            "  and should_run_async(code)\n",
            "/usr/local/lib/python3.10/dist-packages/hdbscan/hdbscan_.py:1170: DeprecationWarning: `alltrue` is deprecated as of NumPy 1.25.0, and will be removed in NumPy 2.0. Please use `all` instead.\n",
            "  self._all_finite = is_finite(X)\n"
          ]
        },
        {
          "output_type": "stream",
          "name": "stdout",
          "text": [
            "    Topic  Count                                           Name  \\\n",
            "0      -1    485                          -1_hi_flight_aa_sorry   \n",
            "1       0     89                    0_team_online_work_customer   \n",
            "2       1     79                  1_baggage_bag_service_luggage   \n",
            "3       2     72                            2_let_know_rd_hello   \n",
            "4       3     39                  3_confirmation_dm_look_number   \n",
            "5       4     37                      4_airport_speak_team_done   \n",
            "6       5     35                  5_skymiles_miles_account_fare   \n",
            "7       6     33                 6_twitter_via_assistance_tweet   \n",
            "8       7     32                    7_dd_dm_follow_confirmation   \n",
            "9       8     32                   8_ride_travels_happy_letting   \n",
            "10      9     31                      9_ticket_number_dm_please   \n",
            "11     10     30                 10_delta_choosing_thank_travel   \n",
            "12     11     30                   11_rb_keepclimbing_follow_qb   \n",
            "13     12     25             12_ng_jovenitti_cezgambo_ckalapala   \n",
            "14     13     25                            13_welcome_rs_pl_ec   \n",
            "15     14     24       14_reservations_reservation_team_changes   \n",
            "16     15     24          15_loyalty_appreciate_medallion_thank   \n",
            "17     16     21                16_compliment_taking_kudos_time   \n",
            "18     17     21                  17_flight_enjoy_great_excited   \n",
            "19     18     20                         18_km_mi_confirm_malta   \n",
            "20     19     20             19_http_link_mklundquist_following   \n",
            "21     20     20                        20_vm_sweet_hey_journey   \n",
            "22     21     19    21_md_welcome_steveshuffler_marissaschrader   \n",
            "23     22     17                            22_amp_vm_hey_aware   \n",
            "24     23     17                  23_seats_comfort_seat_seating   \n",
            "25     24     17                 24_kc_apologize_discomfort_ben   \n",
            "26     25     15                  25_attendant_seat_cabin_reach   \n",
            "27     26     14                        26_delay_never_fun_crew   \n",
            "28     27     13               27_privacy_direct_review_message   \n",
            "29     28     11  28_feedback_appreciated_powrfulkatrinka_thank   \n",
            "30     29     10              29_number_flight_mr_alisonstclair   \n",
            "31     30     10                     30_weather_time_wg_eastern   \n",
            "32     31     10               31_pic_sharing_picture_beautiful   \n",
            "\n",
            "                                       Representation  \\\n",
            "0   [hi, flight, aa, sorry, pls, please, confirmat...   \n",
            "1   [team, online, work, customer, support, contac...   \n",
            "2   [baggage, bag, service, luggage, claim, team, ...   \n",
            "3   [let, know, rd, hello, assistance, pls, rebook...   \n",
            "4   [confirmation, dm, look, number, take, wg, ple...   \n",
            "5   [airport, speak, team, done, gonzalezabidar, i...   \n",
            "6   [skymiles, miles, account, fare, mqm, based, b...   \n",
            "7   [twitter, via, assistance, tweet, needed, know...   \n",
            "8   [dd, dm, follow, confirmation, dailytraveltips...   \n",
            "9   [ride, travels, happy, letting, us, thanks, bi...   \n",
            "10  [ticket, number, dm, please, hi, cancellation,...   \n",
            "11  [delta, choosing, thank, travel, stock, ml, cl...   \n",
            "12  [rb, keepclimbing, follow, qb, dm, kitmoni, vi...   \n",
            "13  [ng, jovenitti, cezgambo, ckalapala, collect, ...   \n",
            "14  [welcome, rs, pl, ec, great, shelmke, weekend,...   \n",
            "15  [reservations, reservation, team, changes, jfm...   \n",
            "16  [loyalty, appreciate, medallion, thank, silver...   \n",
            "17  [compliment, taking, kudos, time, share, thank...   \n",
            "18  [flight, enjoy, great, excited, relax, ml, cre...   \n",
            "19  [km, mi, confirm, malta, thx, get, behalf, lik...   \n",
            "20  [http, link, mklundquist, following, complaint...   \n",
            "21  [vm, sweet, hey, journey, egpkpioneer, issue, ...   \n",
            "22  [md, welcome, steveshuffler, marissaschrader, ...   \n",
            "23  [amp, vm, hey, aware, working, follow, resolve...   \n",
            "24  [seats, comfort, seat, seating, flts, penaetis...   \n",
            "25  [kc, apologize, discomfort, ben, samdigennaro,...   \n",
            "26  [attendant, seat, cabin, reach, flight, mainte...   \n",
            "27  [delay, never, fun, crew, delays, control, mec...   \n",
            "28  [privacy, direct, review, message, amp, follow...   \n",
            "29  [feedback, appreciated, powrfulkatrinka, thank...   \n",
            "30  [number, flight, mr, alisonstclair, jonplanit,...   \n",
            "31  [weather, time, wg, eastern, advisory, nealaa,...   \n",
            "32  [pic, sharing, picture, beautiful, hw, absolut...   \n",
            "\n",
            "                                  Representative_Docs  \n",
            "0   [hi pls follow direct message confirmation rev...  \n",
            "1   [egpkpioneer hey sandy pls call online custome...  \n",
            "2   [please visit baggage service office file clai...  \n",
            "3   [hello apologies delay pls let know assist rd,...  \n",
            "4   [dm confirmation glad take look wg, please con...  \n",
            "5   [apologies delay soon airport rb, annebalcom h...  \n",
            "6   [quidaguis new skymiles program earn miles bas...  \n",
            "7   [may assistance via twitter pl, assistance via...  \n",
            "8   [sorry delay please follow dm confirmation dd,...  \n",
            "9   [brookeradio deserve brooke thanks letting us ...  \n",
            "10  [jane showing klm ticket number please follow ...  \n",
            "11  [chadbiagini thank choosing delta bb, thank th...  \n",
            "12  [sorry hear please follow dm confirmation numb...  \n",
            "13  [jovenitti collect credit card info via twitte...  \n",
            "14               [welcome ec, welcome rs, welcome pl]  \n",
            "15  [calvintinson reservations team happy assist s...  \n",
            "16  [appreciate loyalty thanks tweet ec, pleasure ...  \n",
            "17  [mrcpq thanks taking time share compliment sur...  \n",
            "18  [yeah great way start day relax enjoy flight s...  \n",
            "19  [see dm confirm like take closer look km, sorr...  \n",
            "20  [please see link complaint http pl, link help ...  \n",
            "21  [egpkpioneer provided vm, mikeaparadise hey mi...  \n",
            "22  [hi joey behalf ls welcome md, steveshuffler g...  \n",
            "23  [hey josh pls follow amp dm confirmation take ...  \n",
            "24  [tommyyyx hey tommy sorry able enjoy delta com...  \n",
            "25  [meliannrose hi melissa thank contacting us ap...  \n",
            "26  [benforney please reach flight attendant see a...  \n",
            "27  [asutberry know delays never fun sorry travel ...  \n",
            "28  [morettiphd hi privacy pls follow amp direct m...  \n",
            "29  [srgaia agree thank feedback greatly appreciat...  \n",
            "30  [kpfdigital hi kenneth locate flight nrt provi...  \n",
            "31  [nealaa advisory issued bahamas could change c...  \n",
            "32  [thank sharing us absolutely love picture glad...  \n",
            "(-1, [('hi', 0.022704761044033895), ('flight', 0.018522634804630577), ('aa', 0.016699447030016204), ('sorry', 0.01640462351943758), ('pls', 0.015767201246308715), ('please', 0.015454640954650671), ('confirmation', 0.015288039784500787), ('take', 0.014176759455352145), ('pl', 0.013706749755426626), ('hear', 0.013543234582460907)])\n",
            "(0, [('team', 0.05401552379714136), ('online', 0.050726409118539977), ('work', 0.04970856262219817), ('customer', 0.04819000557498942), ('support', 0.04734464851063731), ('contact', 0.039739623635060485), ('aa', 0.03743045392654662), ('apologies', 0.03661862672932575), ('issues', 0.035280161359791576), ('service', 0.03448097944543767)])\n",
            "(1, [('baggage', 0.12351460488246209), ('bag', 0.09496095296026143), ('service', 0.057158976618031515), ('luggage', 0.04247822723070435), ('claim', 0.04082667855965427), ('team', 0.040076033784975845), ('office', 0.03407655040859674), ('tag', 0.03139106559352002), ('bags', 0.03139106559352002), ('report', 0.02917635752855434)])\n",
            "(2, [('let', 0.07819877691786715), ('know', 0.07750445867264334), ('rd', 0.07085267083184213), ('hello', 0.06887092087965169), ('assistance', 0.06561204962007225), ('pls', 0.05281547582571017), ('rebooking', 0.04943855606833134), ('sorry', 0.04280497409523738), ('help', 0.04216365229094941), ('good', 0.04213144675989415)])\n",
            "(3, [('confirmation', 0.12112950429863312), ('dm', 0.10075213479130582), ('look', 0.0960105735534015), ('number', 0.09352321022445215), ('take', 0.07738496046499904), ('wg', 0.0756326904273441), ('please', 0.0711821883458927), ('could', 0.05612499212309131), ('dcbergeson', 0.04723373579898169), ('kc', 0.03383524796114685)])\n",
            "(4, [('airport', 0.20463845569091443), ('speak', 0.045920053270653724), ('team', 0.03494129195627582), ('done', 0.03333138807646325), ('gonzalezabidar', 0.03213539722814163), ('inquire', 0.03213539722814163), ('kiosk', 0.03213539722814163), ('accommodations', 0.02961948849061144), ('destination', 0.02961948849061144), ('hotel', 0.02783967060158442)])\n",
            "(5, [('skymiles', 0.14566607342618543), ('miles', 0.08475181040285372), ('account', 0.06348835824088238), ('fare', 0.06348835824088238), ('mqm', 0.05302794400301794), ('based', 0.05040602981663404), ('base', 0.042313554986587766), ('hyzteric', 0.03780452236247553), ('fares', 0.034851916347245944), ('fee', 0.033685365518702125)])\n",
            "(6, [('twitter', 0.19418687665582532), ('via', 0.15194256949826684), ('assistance', 0.07934941752994376), ('tweet', 0.06592325680650031), ('needed', 0.0621331109739474), ('know', 0.054424899660403495), ('pl', 0.05430534114353528), ('let', 0.05319644688290283), ('ng', 0.051472586798680206), ('sorry', 0.05017432860980206)])\n",
            "(7, [('dd', 0.28326429917308804), ('dm', 0.08586623379511289), ('follow', 0.08218122810543815), ('confirmation', 0.07742466963953172), ('dailytraveltips', 0.07223265885816499), ('please', 0.06042539701653688), ('roxiozolins', 0.05558555196219093), ('biggucciqueen', 0.05558555196219093), ('assistance', 0.050440494602818305), ('need', 0.04819950937129499)])\n",
            "(8, [('ride', 0.1626696184291067), ('travels', 0.14309170157746778), ('happy', 0.13042243299128906), ('letting', 0.09891133545566468), ('us', 0.08539116852994579), ('thanks', 0.07614862171777326), ('birthday', 0.06343230718497768), ('great', 0.05576918281209795), ('wonderful', 0.05187851611486884), ('home', 0.047574230388733256)])\n",
            "(9, [('ticket', 0.21345565126746138), ('number', 0.11278650484544202), ('dm', 0.05996320824949689), ('please', 0.05157415662311106), ('hi', 0.043455609413649406), ('cancellation', 0.042090096600307984), ('mr', 0.041595523148452725), ('bryanzulker', 0.03558244675780388), ('digit', 0.03558244675780388), ('depends', 0.03558244675780388)])\n",
            "(10, [('delta', 0.23323187273436435), ('choosing', 0.19269129352679895), ('thank', 0.10237060812395352), ('travel', 0.04960140775226731), ('stock', 0.043389565877659575), ('ml', 0.04126714178310825), ('classes', 0.03999255829955975), ('awesome', 0.03853825870535978), ('bb', 0.03441898781378221), ('aboard', 0.03421670300278202)])\n",
            "(11, [('rb', 0.2932587756167231), ('keepclimbing', 0.11262998071749081), ('follow', 0.06256595555352287), ('qb', 0.0618659346701876), ('dm', 0.060171413833696535), ('kitmoni', 0.04760799589354315), ('virgyfairy', 0.04760799589354315), ('help', 0.04542885095321148), ('apologies', 0.044190997071501134), ('segment', 0.043880723689794725)])\n",
            "(12, [('ng', 0.27634065295221877), ('jovenitti', 0.17629040460128997), ('cezgambo', 0.11620036425009149), ('ckalapala', 0.08942023576526366), ('collect', 0.08942023576526366), ('pleasure', 0.08612657476882851), ('ryantaalbi', 0.08241944623474488), ('sales', 0.07363663486256104), ('card', 0.07363663486256104), ('mileage', 0.07363663486256104)])\n",
            "(13, [('welcome', 0.45103014151290727), ('rs', 0.14292967165710171), ('pl', 0.13607190593351737), ('ec', 0.11240134091242363), ('great', 0.09971231123323762), ('shelmke', 0.09112316370755495), ('weekend', 0.09112316370755495), ('bobsboxes', 0.09112316370755495), ('chance', 0.09112316370755495), ('decided', 0.09112316370755495)])\n",
            "(14, [('reservations', 0.17734641263149026), ('reservation', 0.08538410429668344), ('team', 0.06961483454890202), ('changes', 0.063066333532176), ('jfmogro', 0.06128170032540298), ('booking', 0.047299750149132), ('happy', 0.042885208877677564), ('add', 0.036500918143079826), ('recommend', 0.036500918143079826), ('assist', 0.032467026950573415)])\n",
            "(15, [('loyalty', 0.3030445209404385), ('appreciate', 0.13465592544992044), ('medallion', 0.12453254425286057), ('thank', 0.11213452747022976), ('silver', 0.06049015948826659), ('status', 0.057004227944444395), ('congratulations', 0.052404085838276555), ('greatly', 0.04770210948034905), ('words', 0.043033498174896566), ('great', 0.037538752464277694)])\n",
            "(16, [('compliment', 0.1598013933521821), ('taking', 0.1535783875368226), ('kudos', 0.1293178354245629), ('time', 0.12110582185850356), ('share', 0.11874276401300358), ('thanks', 0.10268526261942153), ('send', 0.10004602119611393), ('behalf', 0.09788604798540958), ('sure', 0.07959112419315892), ('ad', 0.06525736532360639)])\n",
            "(17, [('flight', 0.17301858237904197), ('enjoy', 0.14204087569347237), ('great', 0.11269912439606548), ('excited', 0.08412132128338927), ('relax', 0.07755128405744793), ('ml', 0.06477028213640171), ('crew', 0.053704361666618135), ('sit', 0.053704361666618135), ('pl', 0.04806071732751166), ('welcome', 0.04779127327289084)])\n",
            "(18, [('km', 0.33275571178491586), ('mi', 0.09415466540061915), ('confirm', 0.0785290716715562), ('malta', 0.06810150405963789), ('thx', 0.06712697733397543), ('get', 0.05254046613337519), ('behalf', 0.04278463024527836), ('like', 0.041090622630625816), ('making', 0.03862173826015574), ('tech', 0.03862173826015574)])\n",
            "(19, [('http', 0.3464217467150416), ('link', 0.21213737672632402), ('mklundquist', 0.09434245057803047), ('following', 0.08890567661060136), ('complaint', 0.07769002760728917), ('form', 0.06353928349848616), ('aa', 0.06318535341728972), ('complete', 0.061994945427708205), ('see', 0.05559682902410189), ('mt', 0.05350350896590383)])\n",
            "(20, [('vm', 0.26547555180335336), ('sweet', 0.07141199384031473), ('hey', 0.06978626733266985), ('journey', 0.06582108553469208), ('egpkpioneer', 0.0618659346701876), ('issue', 0.05298960029279277), ('words', 0.050803435345363995), ('another', 0.049379834187352964), ('along', 0.04809570764815965), ('provided', 0.04809570764815965)])\n",
            "(21, [('md', 0.3435226969559928), ('welcome', 0.13488751895713114), ('steveshuffler', 0.0961058608692086), ('marissaschrader', 0.0961058608692086), ('hold', 0.08858164782238935), ('steven', 0.08325882796735527), ('behalf', 0.060378309972308704), ('jenfalotico', 0.054503574554051554), ('awwh', 0.054503574554051554), ('bank', 0.054503574554051554)])\n",
            "(22, [('amp', 0.1616721335431022), ('vm', 0.11188823256492551), ('hey', 0.08578604569674539), ('aware', 0.07616418791983504), ('working', 0.07425664482252252), ('follow', 0.05768275902251622), ('resolve', 0.05202948382667435), ('support', 0.051600717958631886), ('pls', 0.05117193284374946), ('dm', 0.04931120743444399)])\n",
            "(23, [('seats', 0.18718329463067543), ('comfort', 0.14304413866882634), ('seat', 0.12507944302472426), ('seating', 0.09886073905043806), ('flts', 0.08218944538843925), ('penaetis', 0.06404213727699772), ('assigned', 0.06404213727699772), ('together', 0.05479296359229283), ('class', 0.05274884636339927), ('trying', 0.05274884636339927)])\n",
            "(24, [('kc', 0.23146385537057274), ('apologize', 0.17129356527109874), ('discomfort', 0.13498022109859115), ('ben', 0.07790399328034334), ('samdigennaro', 0.07790399328034334), ('could', 0.0767891937684113), ('derekakessler', 0.07180482058330047), ('hi', 0.07135608591218567), ('anything', 0.06749011054929557), ('experiencing', 0.06415312885753424)])\n",
            "(25, [('attendant', 0.1491750814353457), ('seat', 0.10106510046037774), ('cabin', 0.09612129778585066), ('reach', 0.07618245168164423), ('flight', 0.07395840322501157), ('maintenance', 0.06793658716221809), ('ninathornsburg', 0.06549889880895109), ('nina', 0.06549889880895109), ('care', 0.05817558798197623), ('moved', 0.056743277659280354)])\n",
            "(26, [('delay', 0.15303167584916932), ('never', 0.12286906987362635), ('fun', 0.09622969328630136), ('crew', 0.09215180240521977), ('delays', 0.08871396888389878), ('control', 0.07790399328034334), ('mechanical', 0.07790399328034334), ('traffic', 0.07790399328034334), ('shelleyjamie', 0.07180482058330047), ('apologies', 0.060260450552047005)])\n",
            "(27, [('privacy', 0.1823818479572334), ('direct', 0.16877172645240796), ('review', 0.1403310793960857), ('message', 0.13534664559853352), ('amp', 0.13233054850805642), ('follow', 0.12815233654756064), ('delta', 0.1270711582483778), ('jh', 0.08882403494555026), ('pls', 0.08038502860512367), ('options', 0.0784649798788816)])\n",
            "(28, [('feedback', 0.2500321873369007), ('appreciated', 0.19467156342975905), ('powrfulkatrinka', 0.11819916221845196), ('thank', 0.09959702021911733), ('greatly', 0.09321101852481999), ('appreciate', 0.08770692462255354), ('sharing', 0.06873933858631116), ('people', 0.06703313192279904), ('improve', 0.06703313192279904), ('srgaia', 0.06703313192279904)])\n",
            "(29, [('number', 0.17095437010664027), ('flight', 0.14886499110675405), ('mr', 0.07705837301219769), ('alisonstclair', 0.07476772406773739), ('jonplanit', 0.07476772406773739), ('forgot', 0.07476772406773739), ('inquiring', 0.07476772406773739), ('countries', 0.07476772406773739), ('cottervn', 0.07476772406773739), ('kellylcourtney', 0.07476772406773739)])\n",
            "(30, [('weather', 0.16226928765998447), ('time', 0.15470292082570133), ('wg', 0.10199569811214415), ('eastern', 0.10191651953758776), ('advisory', 0.10191651953758776), ('nealaa', 0.10191651953758776), ('crownover', 0.10191651953758776), ('call', 0.09175340389062768), ('open', 0.08113464382999223), ('amp', 0.07502611743369769)])\n",
            "(31, [('pic', 0.232169903882747), ('sharing', 0.23001240219265662), ('picture', 0.19542030021218124), ('beautiful', 0.1801575983488406), ('hw', 0.14908798077777766), ('absolutely', 0.1458190202614717), ('thanks', 0.12030581064287255), ('great', 0.0981782756758032), ('breath', 0.08972126888128489), ('brandi', 0.08972126888128489)])\n"
          ]
        }
      ]
    },
    {
      "cell_type": "code",
      "source": [
        "import matplotlib.pyplot as plt\n",
        "import numpy as np\n",
        "\n",
        "# Assuming 'topics' contains the output from BERTopic\n",
        "unique_topics_oct_delta, counts_oct_delta = np.unique(topics_oct_delta, return_counts=True)\n",
        "\n",
        "# Simple bar chart to show topic distribution\n",
        "plt.bar(unique_topics_oct_delta, counts_oct_delta, color='skyblue')\n",
        "plt.xlabel('Topic Number')\n",
        "plt.ylabel('Number of Documents')\n",
        "plt.title('Topic Distribution')\n",
        "plt.xticks(unique_topics_oct_delta)\n",
        "plt.show()\n",
        "\n"
      ],
      "metadata": {
        "colab": {
          "base_uri": "https://localhost:8080/",
          "height": 527
        },
        "id": "aRZXfmAKFr9U",
        "outputId": "0647eca6-cc91-4af8-f88b-970a32d29903"
      },
      "execution_count": null,
      "outputs": [
        {
          "output_type": "stream",
          "name": "stderr",
          "text": [
            "/usr/local/lib/python3.10/dist-packages/ipykernel/ipkernel.py:283: DeprecationWarning: `should_run_async` will not call `transform_cell` automatically in the future. Please pass the result to `transformed_cell` argument and any exception that happen during thetransform in `preprocessing_exc_tuple` in IPython 7.17 and above.\n",
            "  and should_run_async(code)\n"
          ]
        },
        {
          "output_type": "display_data",
          "data": {
            "text/plain": [
              "<Figure size 640x480 with 1 Axes>"
            ],
            "image/png": "[encoded data removed]"
          },
          "metadata": {}
        }
      ]
    }
  ],
  "metadata": {
    "colab": {
      "provenance": [],
      "toc_visible": true,
      "include_colab_link": true
    },
    "kernelspec": {
      "display_name": "Python 3",
      "name": "python3"
    },
    "language_info": {
      "name": "python"
    },
    "widgets": {
      "application/vnd.jupyter.widget-state+json": {
        "371dc316cc1642e5969ebeeac0e8f54d": {
          "model_module": "@jupyter-widgets/controls",
          "model_name": "HBoxModel",
          "model_module_version": "1.5.0",
          "state": {
            "_dom_classes": [],
            "_model_module": "@jupyter-widgets/controls",
            "_model_module_version": "1.5.0",
            "_model_name": "HBoxModel",
            "_view_count": null,
            "_view_module": "@jupyter-widgets/controls",
            "_view_module_version": "1.5.0",
            "_view_name": "HBoxView",
            "box_style": "",
            "children": [
              "IPY_MODEL_65a771dc778f4a158f275e44da0b04f7",
              "IPY_MODEL_4a744e1f8bc94ca7ab47ed30388a0c9e",
              "IPY_MODEL_a2987f657aae4bf69e3581e177d8c9d3"
            ],
            "layout": "IPY_MODEL_dcdc41084d38423e99de0024faedfe9c"
          }
        },
        "65a771dc778f4a158f275e44da0b04f7": {
          "model_module": "@jupyter-widgets/controls",
          "model_name": "HTMLModel",
          "model_module_version": "1.5.0",
          "state": {
            "_dom_classes": [],
            "_model_module": "@jupyter-widgets/controls",
            "_model_module_version": "1.5.0",
            "_model_name": "HTMLModel",
            "_view_count": null,
            "_view_module": "@jupyter-widgets/controls",
            "_view_module_version": "1.5.0",
            "_view_name": "HTMLView",
            "description": "",
            "description_tooltip": null,
            "layout": "IPY_MODEL_ec4dfcce48224c3d9b62d98a62cf9f15",
            "placeholder": "​",
            "style": "IPY_MODEL_5f6c08c2acec40c4b1c26248133d2dcb",
            "value": "modules.json: 100%"
          }
        },
        "4a744e1f8bc94ca7ab47ed30388a0c9e": {
          "model_module": "@jupyter-widgets/controls",
          "model_name": "FloatProgressModel",
          "model_module_version": "1.5.0",
          "state": {
            "_dom_classes": [],
            "_model_module": "@jupyter-widgets/controls",
            "_model_module_version": "1.5.0",
            "_model_name": "FloatProgressModel",
            "_view_count": null,
            "_view_module": "@jupyter-widgets/controls",
            "_view_module_version": "1.5.0",
            "_view_name": "ProgressView",
            "bar_style": "success",
            "description": "",
            "description_tooltip": null,
            "layout": "IPY_MODEL_ba3c9654bde84c5ca0c82535f388f923",
            "max": 349,
            "min": 0,
            "orientation": "horizontal",
            "style": "IPY_MODEL_5484798d436c4f8696cfed4d6b67644e",
            "value": 349
          }
        },
        "a2987f657aae4bf69e3581e177d8c9d3": {
          "model_module": "@jupyter-widgets/controls",
          "model_name": "HTMLModel",
          "model_module_version": "1.5.0",
          "state": {
            "_dom_classes": [],
            "_model_module": "@jupyter-widgets/controls",
            "_model_module_version": "1.5.0",
            "_model_name": "HTMLModel",
            "_view_count": null,
            "_view_module": "@jupyter-widgets/controls",
            "_view_module_version": "1.5.0",
            "_view_name": "HTMLView",
            "description": "",
            "description_tooltip": null,
            "layout": "IPY_MODEL_aebd14b3d6064c339ede3597857d5e67",
            "placeholder": "​",
            "style": "IPY_MODEL_63bdfec4d9184459a5b6bb3b817fefd3",
            "value": " 349/349 [00:00&lt;00:00, 16.7kB/s]"
          }
        },
        "dcdc41084d38423e99de0024faedfe9c": {
          "model_module": "@jupyter-widgets/base",
          "model_name": "LayoutModel",
          "model_module_version": "1.2.0",
          "state": {
            "_model_module": "@jupyter-widgets/base",
            "_model_module_version": "1.2.0",
            "_model_name": "LayoutModel",
            "_view_count": null,
            "_view_module": "@jupyter-widgets/base",
            "_view_module_version": "1.2.0",
            "_view_name": "LayoutView",
            "align_content": null,
            "align_items": null,
            "align_self": null,
            "border": null,
            "bottom": null,
            "display": null,
            "flex": null,
            "flex_flow": null,
            "grid_area": null,
            "grid_auto_columns": null,
            "grid_auto_flow": null,
            "grid_auto_rows": null,
            "grid_column": null,
            "grid_gap": null,
            "grid_row": null,
            "grid_template_areas": null,
            "grid_template_columns": null,
            "grid_template_rows": null,
            "height": null,
            "justify_content": null,
            "justify_items": null,
            "left": null,
            "margin": null,
            "max_height": null,
            "max_width": null,
            "min_height": null,
            "min_width": null,
            "object_fit": null,
            "object_position": null,
            "order": null,
            "overflow": null,
            "overflow_x": null,
            "overflow_y": null,
            "padding": null,
            "right": null,
            "top": null,
            "visibility": null,
            "width": null
          }
        },
        "ec4dfcce48224c3d9b62d98a62cf9f15": {
          "model_module": "@jupyter-widgets/base",
          "model_name": "LayoutModel",
          "model_module_version": "1.2.0",
          "state": {
            "_model_module": "@jupyter-widgets/base",
            "_model_module_version": "1.2.0",
            "_model_name": "LayoutModel",
            "_view_count": null,
            "_view_module": "@jupyter-widgets/base",
            "_view_module_version": "1.2.0",
            "_view_name": "LayoutView",
            "align_content": null,
            "align_items": null,
            "align_self": null,
            "border": null,
            "bottom": null,
            "display": null,
            "flex": null,
            "flex_flow": null,
            "grid_area": null,
            "grid_auto_columns": null,
            "grid_auto_flow": null,
            "grid_auto_rows": null,
            "grid_column": null,
            "grid_gap": null,
            "grid_row": null,
            "grid_template_areas": null,
            "grid_template_columns": null,
            "grid_template_rows": null,
            "height": null,
            "justify_content": null,
            "justify_items": null,
            "left": null,
            "margin": null,
            "max_height": null,
            "max_width": null,
            "min_height": null,
            "min_width": null,
            "object_fit": null,
            "object_position": null,
            "order": null,
            "overflow": null,
            "overflow_x": null,
            "overflow_y": null,
            "padding": null,
            "right": null,
            "top": null,
            "visibility": null,
            "width": null
          }
        },
        "5f6c08c2acec40c4b1c26248133d2dcb": {
          "model_module": "@jupyter-widgets/controls",
          "model_name": "DescriptionStyleModel",
          "model_module_version": "1.5.0",
          "state": {
            "_model_module": "@jupyter-widgets/controls",
            "_model_module_version": "1.5.0",
            "_model_name": "DescriptionStyleModel",
            "_view_count": null,
            "_view_module": "@jupyter-widgets/base",
            "_view_module_version": "1.2.0",
            "_view_name": "StyleView",
            "description_width": ""
          }
        },
        "ba3c9654bde84c5ca0c82535f388f923": {
          "model_module": "@jupyter-widgets/base",
          "model_name": "LayoutModel",
          "model_module_version": "1.2.0",
          "state": {
            "_model_module": "@jupyter-widgets/base",
            "_model_module_version": "1.2.0",
            "_model_name": "LayoutModel",
            "_view_count": null,
            "_view_module": "@jupyter-widgets/base",
            "_view_module_version": "1.2.0",
            "_view_name": "LayoutView",
            "align_content": null,
            "align_items": null,
            "align_self": null,
            "border": null,
            "bottom": null,
            "display": null,
            "flex": null,
            "flex_flow": null,
            "grid_area": null,
            "grid_auto_columns": null,
            "grid_auto_flow": null,
            "grid_auto_rows": null,
            "grid_column": null,
            "grid_gap": null,
            "grid_row": null,
            "grid_template_areas": null,
            "grid_template_columns": null,
            "grid_template_rows": null,
            "height": null,
            "justify_content": null,
            "justify_items": null,
            "left": null,
            "margin": null,
            "max_height": null,
            "max_width": null,
            "min_height": null,
            "min_width": null,
            "object_fit": null,
            "object_position": null,
            "order": null,
            "overflow": null,
            "overflow_x": null,
            "overflow_y": null,
            "padding": null,
            "right": null,
            "top": null,
            "visibility": null,
            "width": null
          }
        },
        "5484798d436c4f8696cfed4d6b67644e": {
          "model_module": "@jupyter-widgets/controls",
          "model_name": "ProgressStyleModel",
          "model_module_version": "1.5.0",
          "state": {
            "_model_module": "@jupyter-widgets/controls",
            "_model_module_version": "1.5.0",
            "_model_name": "ProgressStyleModel",
            "_view_count": null,
            "_view_module": "@jupyter-widgets/base",
            "_view_module_version": "1.2.0",
            "_view_name": "StyleView",
            "bar_color": null,
            "description_width": ""
          }
        },
        "aebd14b3d6064c339ede3597857d5e67": {
          "model_module": "@jupyter-widgets/base",
          "model_name": "LayoutModel",
          "model_module_version": "1.2.0",
          "state": {
            "_model_module": "@jupyter-widgets/base",
            "_model_module_version": "1.2.0",
            "_model_name": "LayoutModel",
            "_view_count": null,
            "_view_module": "@jupyter-widgets/base",
            "_view_module_version": "1.2.0",
            "_view_name": "LayoutView",
            "align_content": null,
            "align_items": null,
            "align_self": null,
            "border": null,
            "bottom": null,
            "display": null,
            "flex": null,
            "flex_flow": null,
            "grid_area": null,
            "grid_auto_columns": null,
            "grid_auto_flow": null,
            "grid_auto_rows": null,
            "grid_column": null,
            "grid_gap": null,
            "grid_row": null,
            "grid_template_areas": null,
            "grid_template_columns": null,
            "grid_template_rows": null,
            "height": null,
            "justify_content": null,
            "justify_items": null,
            "left": null,
            "margin": null,
            "max_height": null,
            "max_width": null,
            "min_height": null,
            "min_width": null,
            "object_fit": null,
            "object_position": null,
            "order": null,
            "overflow": null,
            "overflow_x": null,
            "overflow_y": null,
            "padding": null,
            "right": null,
            "top": null,
            "visibility": null,
            "width": null
          }
        },
        "63bdfec4d9184459a5b6bb3b817fefd3": {
          "model_module": "@jupyter-widgets/controls",
          "model_name": "DescriptionStyleModel",
          "model_module_version": "1.5.0",
          "state": {
            "_model_module": "@jupyter-widgets/controls",
            "_model_module_version": "1.5.0",
            "_model_name": "DescriptionStyleModel",
            "_view_count": null,
            "_view_module": "@jupyter-widgets/base",
            "_view_module_version": "1.2.0",
            "_view_name": "StyleView",
            "description_width": ""
          }
        },
        "6121d857cae5496e9a7ca065504ae8e8": {
          "model_module": "@jupyter-widgets/controls",
          "model_name": "HBoxModel",
          "model_module_version": "1.5.0",
          "state": {
            "_dom_classes": [],
            "_model_module": "@jupyter-widgets/controls",
            "_model_module_version": "1.5.0",
            "_model_name": "HBoxModel",
            "_view_count": null,
            "_view_module": "@jupyter-widgets/controls",
            "_view_module_version": "1.5.0",
            "_view_name": "HBoxView",
            "box_style": "",
            "children": [
              "IPY_MODEL_0f9b236f2d2948c7a99c16ddafa1fd9a",
              "IPY_MODEL_ed1e0462da8d46a18f278b811358faf1",
              "IPY_MODEL_9500e2f44ce743a78fe7383dd01cc826"
            ],
            "layout": "IPY_MODEL_a48a83f267da491aa9a203e60238605d"
          }
        },
        "0f9b236f2d2948c7a99c16ddafa1fd9a": {
          "model_module": "@jupyter-widgets/controls",
          "model_name": "HTMLModel",
          "model_module_version": "1.5.0",
          "state": {
            "_dom_classes": [],
            "_model_module": "@jupyter-widgets/controls",
            "_model_module_version": "1.5.0",
            "_model_name": "HTMLModel",
            "_view_count": null,
            "_view_module": "@jupyter-widgets/controls",
            "_view_module_version": "1.5.0",
            "_view_name": "HTMLView",
            "description": "",
            "description_tooltip": null,
            "layout": "IPY_MODEL_f6ed3dcfdbf146f294f4864bd49ee3a1",
            "placeholder": "​",
            "style": "IPY_MODEL_051cf22eec674eb794005711ecb9171d",
            "value": "config_sentence_transformers.json: 100%"
          }
        },
        "ed1e0462da8d46a18f278b811358faf1": {
          "model_module": "@jupyter-widgets/controls",
          "model_name": "FloatProgressModel",
          "model_module_version": "1.5.0",
          "state": {
            "_dom_classes": [],
            "_model_module": "@jupyter-widgets/controls",
            "_model_module_version": "1.5.0",
            "_model_name": "FloatProgressModel",
            "_view_count": null,
            "_view_module": "@jupyter-widgets/controls",
            "_view_module_version": "1.5.0",
            "_view_name": "ProgressView",
            "bar_style": "success",
            "description": "",
            "description_tooltip": null,
            "layout": "IPY_MODEL_2dedb52696304a7ab9d44b7d4977e2d1",
            "max": 116,
            "min": 0,
            "orientation": "horizontal",
            "style": "IPY_MODEL_f5c782ddd5e346e7a82fcf8d96149972",
            "value": 116
          }
        },
        "9500e2f44ce743a78fe7383dd01cc826": {
          "model_module": "@jupyter-widgets/controls",
          "model_name": "HTMLModel",
          "model_module_version": "1.5.0",
          "state": {
            "_dom_classes": [],
            "_model_module": "@jupyter-widgets/controls",
            "_model_module_version": "1.5.0",
            "_model_name": "HTMLModel",
            "_view_count": null,
            "_view_module": "@jupyter-widgets/controls",
            "_view_module_version": "1.5.0",
            "_view_name": "HTMLView",
            "description": "",
            "description_tooltip": null,
            "layout": "IPY_MODEL_a466029cbba44a54aeb2432fc31636de",
            "placeholder": "​",
            "style": "IPY_MODEL_db40daa725e04a63a69d2efabc0f9f23",
            "value": " 116/116 [00:00&lt;00:00, 7.08kB/s]"
          }
        },
        "a48a83f267da491aa9a203e60238605d": {
          "model_module": "@jupyter-widgets/base",
          "model_name": "LayoutModel",
          "model_module_version": "1.2.0",
          "state": {
            "_model_module": "@jupyter-widgets/base",
            "_model_module_version": "1.2.0",
            "_model_name": "LayoutModel",
            "_view_count": null,
            "_view_module": "@jupyter-widgets/base",
            "_view_module_version": "1.2.0",
            "_view_name": "LayoutView",
            "align_content": null,
            "align_items": null,
            "align_self": null,
            "border": null,
            "bottom": null,
            "display": null,
            "flex": null,
            "flex_flow": null,
            "grid_area": null,
            "grid_auto_columns": null,
            "grid_auto_flow": null,
            "grid_auto_rows": null,
            "grid_column": null,
            "grid_gap": null,
            "grid_row": null,
            "grid_template_areas": null,
            "grid_template_columns": null,
            "grid_template_rows": null,
            "height": null,
            "justify_content": null,
            "justify_items": null,
            "left": null,
            "margin": null,
            "max_height": null,
            "max_width": null,
            "min_height": null,
            "min_width": null,
            "object_fit": null,
            "object_position": null,
            "order": null,
            "overflow": null,
            "overflow_x": null,
            "overflow_y": null,
            "padding": null,
            "right": null,
            "top": null,
            "visibility": null,
            "width": null
          }
        },
        "f6ed3dcfdbf146f294f4864bd49ee3a1": {
          "model_module": "@jupyter-widgets/base",
          "model_name": "LayoutModel",
          "model_module_version": "1.2.0",
          "state": {
            "_model_module": "@jupyter-widgets/base",
            "_model_module_version": "1.2.0",
            "_model_name": "LayoutModel",
            "_view_count": null,
            "_view_module": "@jupyter-widgets/base",
            "_view_module_version": "1.2.0",
            "_view_name": "LayoutView",
            "align_content": null,
            "align_items": null,
            "align_self": null,
            "border": null,
            "bottom": null,
            "display": null,
            "flex": null,
            "flex_flow": null,
            "grid_area": null,
            "grid_auto_columns": null,
            "grid_auto_flow": null,
            "grid_auto_rows": null,
            "grid_column": null,
            "grid_gap": null,
            "grid_row": null,
            "grid_template_areas": null,
            "grid_template_columns": null,
            "grid_template_rows": null,
            "height": null,
            "justify_content": null,
            "justify_items": null,
            "left": null,
            "margin": null,
            "max_height": null,
            "max_width": null,
            "min_height": null,
            "min_width": null,
            "object_fit": null,
            "object_position": null,
            "order": null,
            "overflow": null,
            "overflow_x": null,
            "overflow_y": null,
            "padding": null,
            "right": null,
            "top": null,
            "visibility": null,
            "width": null
          }
        },
        "051cf22eec674eb794005711ecb9171d": {
          "model_module": "@jupyter-widgets/controls",
          "model_name": "DescriptionStyleModel",
          "model_module_version": "1.5.0",
          "state": {
            "_model_module": "@jupyter-widgets/controls",
            "_model_module_version": "1.5.0",
            "_model_name": "DescriptionStyleModel",
            "_view_count": null,
            "_view_module": "@jupyter-widgets/base",
            "_view_module_version": "1.2.0",
            "_view_name": "StyleView",
            "description_width": ""
          }
        },
        "2dedb52696304a7ab9d44b7d4977e2d1": {
          "model_module": "@jupyter-widgets/base",
          "model_name": "LayoutModel",
          "model_module_version": "1.2.0",
          "state": {
            "_model_module": "@jupyter-widgets/base",
            "_model_module_version": "1.2.0",
            "_model_name": "LayoutModel",
            "_view_count": null,
            "_view_module": "@jupyter-widgets/base",
            "_view_module_version": "1.2.0",
            "_view_name": "LayoutView",
            "align_content": null,
            "align_items": null,
            "align_self": null,
            "border": null,
            "bottom": null,
            "display": null,
            "flex": null,
            "flex_flow": null,
            "grid_area": null,
            "grid_auto_columns": null,
            "grid_auto_flow": null,
            "grid_auto_rows": null,
            "grid_column": null,
            "grid_gap": null,
            "grid_row": null,
            "grid_template_areas": null,
            "grid_template_columns": null,
            "grid_template_rows": null,
            "height": null,
            "justify_content": null,
            "justify_items": null,
            "left": null,
            "margin": null,
            "max_height": null,
            "max_width": null,
            "min_height": null,
            "min_width": null,
            "object_fit": null,
            "object_position": null,
            "order": null,
            "overflow": null,
            "overflow_x": null,
            "overflow_y": null,
            "padding": null,
            "right": null,
            "top": null,
            "visibility": null,
            "width": null
          }
        },
        "f5c782ddd5e346e7a82fcf8d96149972": {
          "model_module": "@jupyter-widgets/controls",
          "model_name": "ProgressStyleModel",
          "model_module_version": "1.5.0",
          "state": {
            "_model_module": "@jupyter-widgets/controls",
            "_model_module_version": "1.5.0",
            "_model_name": "ProgressStyleModel",
            "_view_count": null,
            "_view_module": "@jupyter-widgets/base",
            "_view_module_version": "1.2.0",
            "_view_name": "StyleView",
            "bar_color": null,
            "description_width": ""
          }
        },
        "a466029cbba44a54aeb2432fc31636de": {
          "model_module": "@jupyter-widgets/base",
          "model_name": "LayoutModel",
          "model_module_version": "1.2.0",
          "state": {
            "_model_module": "@jupyter-widgets/base",
            "_model_module_version": "1.2.0",
            "_model_name": "LayoutModel",
            "_view_count": null,
            "_view_module": "@jupyter-widgets/base",
            "_view_module_version": "1.2.0",
            "_view_name": "LayoutView",
            "align_content": null,
            "align_items": null,
            "align_self": null,
            "border": null,
            "bottom": null,
            "display": null,
            "flex": null,
            "flex_flow": null,
            "grid_area": null,
            "grid_auto_columns": null,
            "grid_auto_flow": null,
            "grid_auto_rows": null,
            "grid_column": null,
            "grid_gap": null,
            "grid_row": null,
            "grid_template_areas": null,
            "grid_template_columns": null,
            "grid_template_rows": null,
            "height": null,
            "justify_content": null,
            "justify_items": null,
            "left": null,
            "margin": null,
            "max_height": null,
            "max_width": null,
            "min_height": null,
            "min_width": null,
            "object_fit": null,
            "object_position": null,
            "order": null,
            "overflow": null,
            "overflow_x": null,
            "overflow_y": null,
            "padding": null,
            "right": null,
            "top": null,
            "visibility": null,
            "width": null
          }
        },
        "db40daa725e04a63a69d2efabc0f9f23": {
          "model_module": "@jupyter-widgets/controls",
          "model_name": "DescriptionStyleModel",
          "model_module_version": "1.5.0",
          "state": {
            "_model_module": "@jupyter-widgets/controls",
            "_model_module_version": "1.5.0",
            "_model_name": "DescriptionStyleModel",
            "_view_count": null,
            "_view_module": "@jupyter-widgets/base",
            "_view_module_version": "1.2.0",
            "_view_name": "StyleView",
            "description_width": ""
          }
        },
        "98dec3d90f054a5a83752e2242e66134": {
          "model_module": "@jupyter-widgets/controls",
          "model_name": "HBoxModel",
          "model_module_version": "1.5.0",
          "state": {
            "_dom_classes": [],
            "_model_module": "@jupyter-widgets/controls",
            "_model_module_version": "1.5.0",
            "_model_name": "HBoxModel",
            "_view_count": null,
            "_view_module": "@jupyter-widgets/controls",
            "_view_module_version": "1.5.0",
            "_view_name": "HBoxView",
            "box_style": "",
            "children": [
              "IPY_MODEL_6cb4486dd0f541ea99ee03ac616c04d7",
              "IPY_MODEL_24a9e0c96abc4c849dd9cc6716e9a798",
              "IPY_MODEL_4e2526bc61824bb4a6f71056b5687b51"
            ],
            "layout": "IPY_MODEL_22e13b87d78c4613a4449bd2710827d1"
          }
        },
        "6cb4486dd0f541ea99ee03ac616c04d7": {
          "model_module": "@jupyter-widgets/controls",
          "model_name": "HTMLModel",
          "model_module_version": "1.5.0",
          "state": {
            "_dom_classes": [],
            "_model_module": "@jupyter-widgets/controls",
            "_model_module_version": "1.5.0",
            "_model_name": "HTMLModel",
            "_view_count": null,
            "_view_module": "@jupyter-widgets/controls",
            "_view_module_version": "1.5.0",
            "_view_name": "HTMLView",
            "description": "",
            "description_tooltip": null,
            "layout": "IPY_MODEL_0db7bfb0c5ef469fa36b19bf8d3ecb8d",
            "placeholder": "​",
            "style": "IPY_MODEL_0df8bdaecc2e417d8da72874ad352480",
            "value": "README.md: 100%"
          }
        },
        "24a9e0c96abc4c849dd9cc6716e9a798": {
          "model_module": "@jupyter-widgets/controls",
          "model_name": "FloatProgressModel",
          "model_module_version": "1.5.0",
          "state": {
            "_dom_classes": [],
            "_model_module": "@jupyter-widgets/controls",
            "_model_module_version": "1.5.0",
            "_model_name": "FloatProgressModel",
            "_view_count": null,
            "_view_module": "@jupyter-widgets/controls",
            "_view_module_version": "1.5.0",
            "_view_name": "ProgressView",
            "bar_style": "success",
            "description": "",
            "description_tooltip": null,
            "layout": "IPY_MODEL_a04dbaf69f224d5e829c6fd8679e4ce4",
            "max": 10659,
            "min": 0,
            "orientation": "horizontal",
            "style": "IPY_MODEL_c3b086aa2ec645b99ce1bfac3a086235",
            "value": 10659
          }
        },
        "4e2526bc61824bb4a6f71056b5687b51": {
          "model_module": "@jupyter-widgets/controls",
          "model_name": "HTMLModel",
          "model_module_version": "1.5.0",
          "state": {
            "_dom_classes": [],
            "_model_module": "@jupyter-widgets/controls",
            "_model_module_version": "1.5.0",
            "_model_name": "HTMLModel",
            "_view_count": null,
            "_view_module": "@jupyter-widgets/controls",
            "_view_module_version": "1.5.0",
            "_view_name": "HTMLView",
            "description": "",
            "description_tooltip": null,
            "layout": "IPY_MODEL_6f428cb5e2bf4334b18b33cf099448cb",
            "placeholder": "​",
            "style": "IPY_MODEL_5092dd6543834acfaeb435f52a30b23a",
            "value": " 10.7k/10.7k [00:00&lt;00:00, 528kB/s]"
          }
        },
        "22e13b87d78c4613a4449bd2710827d1": {
          "model_module": "@jupyter-widgets/base",
          "model_name": "LayoutModel",
          "model_module_version": "1.2.0",
          "state": {
            "_model_module": "@jupyter-widgets/base",
            "_model_module_version": "1.2.0",
            "_model_name": "LayoutModel",
            "_view_count": null,
            "_view_module": "@jupyter-widgets/base",
            "_view_module_version": "1.2.0",
            "_view_name": "LayoutView",
            "align_content": null,
            "align_items": null,
            "align_self": null,
            "border": null,
            "bottom": null,
            "display": null,
            "flex": null,
            "flex_flow": null,
            "grid_area": null,
            "grid_auto_columns": null,
            "grid_auto_flow": null,
            "grid_auto_rows": null,
            "grid_column": null,
            "grid_gap": null,
            "grid_row": null,
            "grid_template_areas": null,
            "grid_template_columns": null,
            "grid_template_rows": null,
            "height": null,
            "justify_content": null,
            "justify_items": null,
            "left": null,
            "margin": null,
            "max_height": null,
            "max_width": null,
            "min_height": null,
            "min_width": null,
            "object_fit": null,
            "object_position": null,
            "order": null,
            "overflow": null,
            "overflow_x": null,
            "overflow_y": null,
            "padding": null,
            "right": null,
            "top": null,
            "visibility": null,
            "width": null
          }
        },
        "0db7bfb0c5ef469fa36b19bf8d3ecb8d": {
          "model_module": "@jupyter-widgets/base",
          "model_name": "LayoutModel",
          "model_module_version": "1.2.0",
          "state": {
            "_model_module": "@jupyter-widgets/base",
            "_model_module_version": "1.2.0",
            "_model_name": "LayoutModel",
            "_view_count": null,
            "_view_module": "@jupyter-widgets/base",
            "_view_module_version": "1.2.0",
            "_view_name": "LayoutView",
            "align_content": null,
            "align_items": null,
            "align_self": null,
            "border": null,
            "bottom": null,
            "display": null,
            "flex": null,
            "flex_flow": null,
            "grid_area": null,
            "grid_auto_columns": null,
            "grid_auto_flow": null,
            "grid_auto_rows": null,
            "grid_column": null,
            "grid_gap": null,
            "grid_row": null,
            "grid_template_areas": null,
            "grid_template_columns": null,
            "grid_template_rows": null,
            "height": null,
            "justify_content": null,
            "justify_items": null,
            "left": null,
            "margin": null,
            "max_height": null,
            "max_width": null,
            "min_height": null,
            "min_width": null,
            "object_fit": null,
            "object_position": null,
            "order": null,
            "overflow": null,
            "overflow_x": null,
            "overflow_y": null,
            "padding": null,
            "right": null,
            "top": null,
            "visibility": null,
            "width": null
          }
        },
        "0df8bdaecc2e417d8da72874ad352480": {
          "model_module": "@jupyter-widgets/controls",
          "model_name": "DescriptionStyleModel",
          "model_module_version": "1.5.0",
          "state": {
            "_model_module": "@jupyter-widgets/controls",
            "_model_module_version": "1.5.0",
            "_model_name": "DescriptionStyleModel",
            "_view_count": null,
            "_view_module": "@jupyter-widgets/base",
            "_view_module_version": "1.2.0",
            "_view_name": "StyleView",
            "description_width": ""
          }
        },
        "a04dbaf69f224d5e829c6fd8679e4ce4": {
          "model_module": "@jupyter-widgets/base",
          "model_name": "LayoutModel",
          "model_module_version": "1.2.0",
          "state": {
            "_model_module": "@jupyter-widgets/base",
            "_model_module_version": "1.2.0",
            "_model_name": "LayoutModel",
            "_view_count": null,
            "_view_module": "@jupyter-widgets/base",
            "_view_module_version": "1.2.0",
            "_view_name": "LayoutView",
            "align_content": null,
            "align_items": null,
            "align_self": null,
            "border": null,
            "bottom": null,
            "display": null,
            "flex": null,
            "flex_flow": null,
            "grid_area": null,
            "grid_auto_columns": null,
            "grid_auto_flow": null,
            "grid_auto_rows": null,
            "grid_column": null,
            "grid_gap": null,
            "grid_row": null,
            "grid_template_areas": null,
            "grid_template_columns": null,
            "grid_template_rows": null,
            "height": null,
            "justify_content": null,
            "justify_items": null,
            "left": null,
            "margin": null,
            "max_height": null,
            "max_width": null,
            "min_height": null,
            "min_width": null,
            "object_fit": null,
            "object_position": null,
            "order": null,
            "overflow": null,
            "overflow_x": null,
            "overflow_y": null,
            "padding": null,
            "right": null,
            "top": null,
            "visibility": null,
            "width": null
          }
        },
        "c3b086aa2ec645b99ce1bfac3a086235": {
          "model_module": "@jupyter-widgets/controls",
          "model_name": "ProgressStyleModel",
          "model_module_version": "1.5.0",
          "state": {
            "_model_module": "@jupyter-widgets/controls",
            "_model_module_version": "1.5.0",
            "_model_name": "ProgressStyleModel",
            "_view_count": null,
            "_view_module": "@jupyter-widgets/base",
            "_view_module_version": "1.2.0",
            "_view_name": "StyleView",
            "bar_color": null,
            "description_width": ""
          }
        },
        "6f428cb5e2bf4334b18b33cf099448cb": {
          "model_module": "@jupyter-widgets/base",
          "model_name": "LayoutModel",
          "model_module_version": "1.2.0",
          "state": {
            "_model_module": "@jupyter-widgets/base",
            "_model_module_version": "1.2.0",
            "_model_name": "LayoutModel",
            "_view_count": null,
            "_view_module": "@jupyter-widgets/base",
            "_view_module_version": "1.2.0",
            "_view_name": "LayoutView",
            "align_content": null,
            "align_items": null,
            "align_self": null,
            "border": null,
            "bottom": null,
            "display": null,
            "flex": null,
            "flex_flow": null,
            "grid_area": null,
            "grid_auto_columns": null,
            "grid_auto_flow": null,
            "grid_auto_rows": null,
            "grid_column": null,
            "grid_gap": null,
            "grid_row": null,
            "grid_template_areas": null,
            "grid_template_columns": null,
            "grid_template_rows": null,
            "height": null,
            "justify_content": null,
            "justify_items": null,
            "left": null,
            "margin": null,
            "max_height": null,
            "max_width": null,
            "min_height": null,
            "min_width": null,
            "object_fit": null,
            "object_position": null,
            "order": null,
            "overflow": null,
            "overflow_x": null,
            "overflow_y": null,
            "padding": null,
            "right": null,
            "top": null,
            "visibility": null,
            "width": null
          }
        },
        "5092dd6543834acfaeb435f52a30b23a": {
          "model_module": "@jupyter-widgets/controls",
          "model_name": "DescriptionStyleModel",
          "model_module_version": "1.5.0",
          "state": {
            "_model_module": "@jupyter-widgets/controls",
            "_model_module_version": "1.5.0",
            "_model_name": "DescriptionStyleModel",
            "_view_count": null,
            "_view_module": "@jupyter-widgets/base",
            "_view_module_version": "1.2.0",
            "_view_name": "StyleView",
            "description_width": ""
          }
        },
        "3328da947171411d9f00fa8a683dd873": {
          "model_module": "@jupyter-widgets/controls",
          "model_name": "HBoxModel",
          "model_module_version": "1.5.0",
          "state": {
            "_dom_classes": [],
            "_model_module": "@jupyter-widgets/controls",
            "_model_module_version": "1.5.0",
            "_model_name": "HBoxModel",
            "_view_count": null,
            "_view_module": "@jupyter-widgets/controls",
            "_view_module_version": "1.5.0",
            "_view_name": "HBoxView",
            "box_style": "",
            "children": [
              "IPY_MODEL_d4f32b34dbd1449997a877d60d460d2e",
              "IPY_MODEL_9c8f191cf4964a5b96aed4ab6e7f4bd5",
              "IPY_MODEL_f18c49d7669d43ce9bad3d15e1fd1ef1"
            ],
            "layout": "IPY_MODEL_82e6f64b4e014575910920531ede3028"
          }
        },
        "d4f32b34dbd1449997a877d60d460d2e": {
          "model_module": "@jupyter-widgets/controls",
          "model_name": "HTMLModel",
          "model_module_version": "1.5.0",
          "state": {
            "_dom_classes": [],
            "_model_module": "@jupyter-widgets/controls",
            "_model_module_version": "1.5.0",
            "_model_name": "HTMLModel",
            "_view_count": null,
            "_view_module": "@jupyter-widgets/controls",
            "_view_module_version": "1.5.0",
            "_view_name": "HTMLView",
            "description": "",
            "description_tooltip": null,
            "layout": "IPY_MODEL_beb0d67b6883449abad42b713e3b8bbf",
            "placeholder": "​",
            "style": "IPY_MODEL_e72c8bc108634e5a9b48cdeae8d1af6b",
            "value": "sentence_bert_config.json: 100%"
          }
        },
        "9c8f191cf4964a5b96aed4ab6e7f4bd5": {
          "model_module": "@jupyter-widgets/controls",
          "model_name": "FloatProgressModel",
          "model_module_version": "1.5.0",
          "state": {
            "_dom_classes": [],
            "_model_module": "@jupyter-widgets/controls",
            "_model_module_version": "1.5.0",
            "_model_name": "FloatProgressModel",
            "_view_count": null,
            "_view_module": "@jupyter-widgets/controls",
            "_view_module_version": "1.5.0",
            "_view_name": "ProgressView",
            "bar_style": "success",
            "description": "",
            "description_tooltip": null,
            "layout": "IPY_MODEL_ca916fef3dca43848ecae6ce9cc5950b",
            "max": 53,
            "min": 0,
            "orientation": "horizontal",
            "style": "IPY_MODEL_997bca5b421a4b538b444ca5abfeb4cf",
            "value": 53
          }
        },
        "f18c49d7669d43ce9bad3d15e1fd1ef1": {
          "model_module": "@jupyter-widgets/controls",
          "model_name": "HTMLModel",
          "model_module_version": "1.5.0",
          "state": {
            "_dom_classes": [],
            "_model_module": "@jupyter-widgets/controls",
            "_model_module_version": "1.5.0",
            "_model_name": "HTMLModel",
            "_view_count": null,
            "_view_module": "@jupyter-widgets/controls",
            "_view_module_version": "1.5.0",
            "_view_name": "HTMLView",
            "description": "",
            "description_tooltip": null,
            "layout": "IPY_MODEL_614c0d0a553a4dafbf5d4e65b2eed24d",
            "placeholder": "​",
            "style": "IPY_MODEL_bd8896cb22f5499c875f47521e74e676",
            "value": " 53.0/53.0 [00:00&lt;00:00, 1.66kB/s]"
          }
        },
        "82e6f64b4e014575910920531ede3028": {
          "model_module": "@jupyter-widgets/base",
          "model_name": "LayoutModel",
          "model_module_version": "1.2.0",
          "state": {
            "_model_module": "@jupyter-widgets/base",
            "_model_module_version": "1.2.0",
            "_model_name": "LayoutModel",
            "_view_count": null,
            "_view_module": "@jupyter-widgets/base",
            "_view_module_version": "1.2.0",
            "_view_name": "LayoutView",
            "align_content": null,
            "align_items": null,
            "align_self": null,
            "border": null,
            "bottom": null,
            "display": null,
            "flex": null,
            "flex_flow": null,
            "grid_area": null,
            "grid_auto_columns": null,
            "grid_auto_flow": null,
            "grid_auto_rows": null,
            "grid_column": null,
            "grid_gap": null,
            "grid_row": null,
            "grid_template_areas": null,
            "grid_template_columns": null,
            "grid_template_rows": null,
            "height": null,
            "justify_content": null,
            "justify_items": null,
            "left": null,
            "margin": null,
            "max_height": null,
            "max_width": null,
            "min_height": null,
            "min_width": null,
            "object_fit": null,
            "object_position": null,
            "order": null,
            "overflow": null,
            "overflow_x": null,
            "overflow_y": null,
            "padding": null,
            "right": null,
            "top": null,
            "visibility": null,
            "width": null
          }
        },
        "beb0d67b6883449abad42b713e3b8bbf": {
          "model_module": "@jupyter-widgets/base",
          "model_name": "LayoutModel",
          "model_module_version": "1.2.0",
          "state": {
            "_model_module": "@jupyter-widgets/base",
            "_model_module_version": "1.2.0",
            "_model_name": "LayoutModel",
            "_view_count": null,
            "_view_module": "@jupyter-widgets/base",
            "_view_module_version": "1.2.0",
            "_view_name": "LayoutView",
            "align_content": null,
            "align_items": null,
            "align_self": null,
            "border": null,
            "bottom": null,
            "display": null,
            "flex": null,
            "flex_flow": null,
            "grid_area": null,
            "grid_auto_columns": null,
            "grid_auto_flow": null,
            "grid_auto_rows": null,
            "grid_column": null,
            "grid_gap": null,
            "grid_row": null,
            "grid_template_areas": null,
            "grid_template_columns": null,
            "grid_template_rows": null,
            "height": null,
            "justify_content": null,
            "justify_items": null,
            "left": null,
            "margin": null,
            "max_height": null,
            "max_width": null,
            "min_height": null,
            "min_width": null,
            "object_fit": null,
            "object_position": null,
            "order": null,
            "overflow": null,
            "overflow_x": null,
            "overflow_y": null,
            "padding": null,
            "right": null,
            "top": null,
            "visibility": null,
            "width": null
          }
        },
        "e72c8bc108634e5a9b48cdeae8d1af6b": {
          "model_module": "@jupyter-widgets/controls",
          "model_name": "DescriptionStyleModel",
          "model_module_version": "1.5.0",
          "state": {
            "_model_module": "@jupyter-widgets/controls",
            "_model_module_version": "1.5.0",
            "_model_name": "DescriptionStyleModel",
            "_view_count": null,
            "_view_module": "@jupyter-widgets/base",
            "_view_module_version": "1.2.0",
            "_view_name": "StyleView",
            "description_width": ""
          }
        },
        "ca916fef3dca43848ecae6ce9cc5950b": {
          "model_module": "@jupyter-widgets/base",
          "model_name": "LayoutModel",
          "model_module_version": "1.2.0",
          "state": {
            "_model_module": "@jupyter-widgets/base",
            "_model_module_version": "1.2.0",
            "_model_name": "LayoutModel",
            "_view_count": null,
            "_view_module": "@jupyter-widgets/base",
            "_view_module_version": "1.2.0",
            "_view_name": "LayoutView",
            "align_content": null,
            "align_items": null,
            "align_self": null,
            "border": null,
            "bottom": null,
            "display": null,
            "flex": null,
            "flex_flow": null,
            "grid_area": null,
            "grid_auto_columns": null,
            "grid_auto_flow": null,
            "grid_auto_rows": null,
            "grid_column": null,
            "grid_gap": null,
            "grid_row": null,
            "grid_template_areas": null,
            "grid_template_columns": null,
            "grid_template_rows": null,
            "height": null,
            "justify_content": null,
            "justify_items": null,
            "left": null,
            "margin": null,
            "max_height": null,
            "max_width": null,
            "min_height": null,
            "min_width": null,
            "object_fit": null,
            "object_position": null,
            "order": null,
            "overflow": null,
            "overflow_x": null,
            "overflow_y": null,
            "padding": null,
            "right": null,
            "top": null,
            "visibility": null,
            "width": null
          }
        },
        "997bca5b421a4b538b444ca5abfeb4cf": {
          "model_module": "@jupyter-widgets/controls",
          "model_name": "ProgressStyleModel",
          "model_module_version": "1.5.0",
          "state": {
            "_model_module": "@jupyter-widgets/controls",
            "_model_module_version": "1.5.0",
            "_model_name": "ProgressStyleModel",
            "_view_count": null,
            "_view_module": "@jupyter-widgets/base",
            "_view_module_version": "1.2.0",
            "_view_name": "StyleView",
            "bar_color": null,
            "description_width": ""
          }
        },
        "614c0d0a553a4dafbf5d4e65b2eed24d": {
          "model_module": "@jupyter-widgets/base",
          "model_name": "LayoutModel",
          "model_module_version": "1.2.0",
          "state": {
            "_model_module": "@jupyter-widgets/base",
            "_model_module_version": "1.2.0",
            "_model_name": "LayoutModel",
            "_view_count": null,
            "_view_module": "@jupyter-widgets/base",
            "_view_module_version": "1.2.0",
            "_view_name": "LayoutView",
            "align_content": null,
            "align_items": null,
            "align_self": null,
            "border": null,
            "bottom": null,
            "display": null,
            "flex": null,
            "flex_flow": null,
            "grid_area": null,
            "grid_auto_columns": null,
            "grid_auto_flow": null,
            "grid_auto_rows": null,
            "grid_column": null,
            "grid_gap": null,
            "grid_row": null,
            "grid_template_areas": null,
            "grid_template_columns": null,
            "grid_template_rows": null,
            "height": null,
            "justify_content": null,
            "justify_items": null,
            "left": null,
            "margin": null,
            "max_height": null,
            "max_width": null,
            "min_height": null,
            "min_width": null,
            "object_fit": null,
            "object_position": null,
            "order": null,
            "overflow": null,
            "overflow_x": null,
            "overflow_y": null,
            "padding": null,
            "right": null,
            "top": null,
            "visibility": null,
            "width": null
          }
        },
        "bd8896cb22f5499c875f47521e74e676": {
          "model_module": "@jupyter-widgets/controls",
          "model_name": "DescriptionStyleModel",
          "model_module_version": "1.5.0",
          "state": {
            "_model_module": "@jupyter-widgets/controls",
            "_model_module_version": "1.5.0",
            "_model_name": "DescriptionStyleModel",
            "_view_count": null,
            "_view_module": "@jupyter-widgets/base",
            "_view_module_version": "1.2.0",
            "_view_name": "StyleView",
            "description_width": ""
          }
        },
        "2f3cb22cd6fc4a2d986f9688a94e9ac1": {
          "model_module": "@jupyter-widgets/controls",
          "model_name": "HBoxModel",
          "model_module_version": "1.5.0",
          "state": {
            "_dom_classes": [],
            "_model_module": "@jupyter-widgets/controls",
            "_model_module_version": "1.5.0",
            "_model_name": "HBoxModel",
            "_view_count": null,
            "_view_module": "@jupyter-widgets/controls",
            "_view_module_version": "1.5.0",
            "_view_name": "HBoxView",
            "box_style": "",
            "children": [
              "IPY_MODEL_16ef3ac2ce46441386858515c751aeac",
              "IPY_MODEL_a2d4066158f14b74be83e4d33a9eb31b",
              "IPY_MODEL_31141a3cb4a94c16931020c6ca54f0ff"
            ],
            "layout": "IPY_MODEL_3df1221498ad40f3bf512989068b9036"
          }
        },
        "16ef3ac2ce46441386858515c751aeac": {
          "model_module": "@jupyter-widgets/controls",
          "model_name": "HTMLModel",
          "model_module_version": "1.5.0",
          "state": {
            "_dom_classes": [],
            "_model_module": "@jupyter-widgets/controls",
            "_model_module_version": "1.5.0",
            "_model_name": "HTMLModel",
            "_view_count": null,
            "_view_module": "@jupyter-widgets/controls",
            "_view_module_version": "1.5.0",
            "_view_name": "HTMLView",
            "description": "",
            "description_tooltip": null,
            "layout": "IPY_MODEL_adfe92915c8b4a4599b3b07604f975b6",
            "placeholder": "​",
            "style": "IPY_MODEL_14528a3fe5294c0788694358f0fc51ac",
            "value": "config.json: 100%"
          }
        },
        "a2d4066158f14b74be83e4d33a9eb31b": {
          "model_module": "@jupyter-widgets/controls",
          "model_name": "FloatProgressModel",
          "model_module_version": "1.5.0",
          "state": {
            "_dom_classes": [],
            "_model_module": "@jupyter-widgets/controls",
            "_model_module_version": "1.5.0",
            "_model_name": "FloatProgressModel",
            "_view_count": null,
            "_view_module": "@jupyter-widgets/controls",
            "_view_module_version": "1.5.0",
            "_view_name": "ProgressView",
            "bar_style": "success",
            "description": "",
            "description_tooltip": null,
            "layout": "IPY_MODEL_b89719f973cb4a4eabe401bda0649911",
            "max": 612,
            "min": 0,
            "orientation": "horizontal",
            "style": "IPY_MODEL_1ff002a2114941509473f261676bd85c",
            "value": 612
          }
        },
        "31141a3cb4a94c16931020c6ca54f0ff": {
          "model_module": "@jupyter-widgets/controls",
          "model_name": "HTMLModel",
          "model_module_version": "1.5.0",
          "state": {
            "_dom_classes": [],
            "_model_module": "@jupyter-widgets/controls",
            "_model_module_version": "1.5.0",
            "_model_name": "HTMLModel",
            "_view_count": null,
            "_view_module": "@jupyter-widgets/controls",
            "_view_module_version": "1.5.0",
            "_view_name": "HTMLView",
            "description": "",
            "description_tooltip": null,
            "layout": "IPY_MODEL_4194b6cca1cd458b91793238d654e318",
            "placeholder": "​",
            "style": "IPY_MODEL_a7981a04518a4f0f8ea22a3818062990",
            "value": " 612/612 [00:00&lt;00:00, 34.8kB/s]"
          }
        },
        "3df1221498ad40f3bf512989068b9036": {
          "model_module": "@jupyter-widgets/base",
          "model_name": "LayoutModel",
          "model_module_version": "1.2.0",
          "state": {
            "_model_module": "@jupyter-widgets/base",
            "_model_module_version": "1.2.0",
            "_model_name": "LayoutModel",
            "_view_count": null,
            "_view_module": "@jupyter-widgets/base",
            "_view_module_version": "1.2.0",
            "_view_name": "LayoutView",
            "align_content": null,
            "align_items": null,
            "align_self": null,
            "border": null,
            "bottom": null,
            "display": null,
            "flex": null,
            "flex_flow": null,
            "grid_area": null,
            "grid_auto_columns": null,
            "grid_auto_flow": null,
            "grid_auto_rows": null,
            "grid_column": null,
            "grid_gap": null,
            "grid_row": null,
            "grid_template_areas": null,
            "grid_template_columns": null,
            "grid_template_rows": null,
            "height": null,
            "justify_content": null,
            "justify_items": null,
            "left": null,
            "margin": null,
            "max_height": null,
            "max_width": null,
            "min_height": null,
            "min_width": null,
            "object_fit": null,
            "object_position": null,
            "order": null,
            "overflow": null,
            "overflow_x": null,
            "overflow_y": null,
            "padding": null,
            "right": null,
            "top": null,
            "visibility": null,
            "width": null
          }
        },
        "adfe92915c8b4a4599b3b07604f975b6": {
          "model_module": "@jupyter-widgets/base",
          "model_name": "LayoutModel",
          "model_module_version": "1.2.0",
          "state": {
            "_model_module": "@jupyter-widgets/base",
            "_model_module_version": "1.2.0",
            "_model_name": "LayoutModel",
            "_view_count": null,
            "_view_module": "@jupyter-widgets/base",
            "_view_module_version": "1.2.0",
            "_view_name": "LayoutView",
            "align_content": null,
            "align_items": null,
            "align_self": null,
            "border": null,
            "bottom": null,
            "display": null,
            "flex": null,
            "flex_flow": null,
            "grid_area": null,
            "grid_auto_columns": null,
            "grid_auto_flow": null,
            "grid_auto_rows": null,
            "grid_column": null,
            "grid_gap": null,
            "grid_row": null,
            "grid_template_areas": null,
            "grid_template_columns": null,
            "grid_template_rows": null,
            "height": null,
            "justify_content": null,
            "justify_items": null,
            "left": null,
            "margin": null,
            "max_height": null,
            "max_width": null,
            "min_height": null,
            "min_width": null,
            "object_fit": null,
            "object_position": null,
            "order": null,
            "overflow": null,
            "overflow_x": null,
            "overflow_y": null,
            "padding": null,
            "right": null,
            "top": null,
            "visibility": null,
            "width": null
          }
        },
        "14528a3fe5294c0788694358f0fc51ac": {
          "model_module": "@jupyter-widgets/controls",
          "model_name": "DescriptionStyleModel",
          "model_module_version": "1.5.0",
          "state": {
            "_model_module": "@jupyter-widgets/controls",
            "_model_module_version": "1.5.0",
            "_model_name": "DescriptionStyleModel",
            "_view_count": null,
            "_view_module": "@jupyter-widgets/base",
            "_view_module_version": "1.2.0",
            "_view_name": "StyleView",
            "description_width": ""
          }
        },
        "b89719f973cb4a4eabe401bda0649911": {
          "model_module": "@jupyter-widgets/base",
          "model_name": "LayoutModel",
          "model_module_version": "1.2.0",
          "state": {
            "_model_module": "@jupyter-widgets/base",
            "_model_module_version": "1.2.0",
            "_model_name": "LayoutModel",
            "_view_count": null,
            "_view_module": "@jupyter-widgets/base",
            "_view_module_version": "1.2.0",
            "_view_name": "LayoutView",
            "align_content": null,
            "align_items": null,
            "align_self": null,
            "border": null,
            "bottom": null,
            "display": null,
            "flex": null,
            "flex_flow": null,
            "grid_area": null,
            "grid_auto_columns": null,
            "grid_auto_flow": null,
            "grid_auto_rows": null,
            "grid_column": null,
            "grid_gap": null,
            "grid_row": null,
            "grid_template_areas": null,
            "grid_template_columns": null,
            "grid_template_rows": null,
            "height": null,
            "justify_content": null,
            "justify_items": null,
            "left": null,
            "margin": null,
            "max_height": null,
            "max_width": null,
            "min_height": null,
            "min_width": null,
            "object_fit": null,
            "object_position": null,
            "order": null,
            "overflow": null,
            "overflow_x": null,
            "overflow_y": null,
            "padding": null,
            "right": null,
            "top": null,
            "visibility": null,
            "width": null
          }
        },
        "1ff002a2114941509473f261676bd85c": {
          "model_module": "@jupyter-widgets/controls",
          "model_name": "ProgressStyleModel",
          "model_module_version": "1.5.0",
          "state": {
            "_model_module": "@jupyter-widgets/controls",
            "_model_module_version": "1.5.0",
            "_model_name": "ProgressStyleModel",
            "_view_count": null,
            "_view_module": "@jupyter-widgets/base",
            "_view_module_version": "1.2.0",
            "_view_name": "StyleView",
            "bar_color": null,
            "description_width": ""
          }
        },
        "4194b6cca1cd458b91793238d654e318": {
          "model_module": "@jupyter-widgets/base",
          "model_name": "LayoutModel",
          "model_module_version": "1.2.0",
          "state": {
            "_model_module": "@jupyter-widgets/base",
            "_model_module_version": "1.2.0",
            "_model_name": "LayoutModel",
            "_view_count": null,
            "_view_module": "@jupyter-widgets/base",
            "_view_module_version": "1.2.0",
            "_view_name": "LayoutView",
            "align_content": null,
            "align_items": null,
            "align_self": null,
            "border": null,
            "bottom": null,
            "display": null,
            "flex": null,
            "flex_flow": null,
            "grid_area": null,
            "grid_auto_columns": null,
            "grid_auto_flow": null,
            "grid_auto_rows": null,
            "grid_column": null,
            "grid_gap": null,
            "grid_row": null,
            "grid_template_areas": null,
            "grid_template_columns": null,
            "grid_template_rows": null,
            "height": null,
            "justify_content": null,
            "justify_items": null,
            "left": null,
            "margin": null,
            "max_height": null,
            "max_width": null,
            "min_height": null,
            "min_width": null,
            "object_fit": null,
            "object_position": null,
            "order": null,
            "overflow": null,
            "overflow_x": null,
            "overflow_y": null,
            "padding": null,
            "right": null,
            "top": null,
            "visibility": null,
            "width": null
          }
        },
        "a7981a04518a4f0f8ea22a3818062990": {
          "model_module": "@jupyter-widgets/controls",
          "model_name": "DescriptionStyleModel",
          "model_module_version": "1.5.0",
          "state": {
            "_model_module": "@jupyter-widgets/controls",
            "_model_module_version": "1.5.0",
            "_model_name": "DescriptionStyleModel",
            "_view_count": null,
            "_view_module": "@jupyter-widgets/base",
            "_view_module_version": "1.2.0",
            "_view_name": "StyleView",
            "description_width": ""
          }
        },
        "7de16a0a51b5478aa3dd74144473c4c0": {
          "model_module": "@jupyter-widgets/controls",
          "model_name": "HBoxModel",
          "model_module_version": "1.5.0",
          "state": {
            "_dom_classes": [],
            "_model_module": "@jupyter-widgets/controls",
            "_model_module_version": "1.5.0",
            "_model_name": "HBoxModel",
            "_view_count": null,
            "_view_module": "@jupyter-widgets/controls",
            "_view_module_version": "1.5.0",
            "_view_name": "HBoxView",
            "box_style": "",
            "children": [
              "IPY_MODEL_76b341a4690f4c32acd954a1c3a803fc",
              "IPY_MODEL_5fc72dbb4ce94fd68a1978bd373b71ee",
              "IPY_MODEL_603bd18c52dc44f5a21d88bc23493567"
            ],
            "layout": "IPY_MODEL_6202c15c6edf473eae699646f5c33692"
          }
        },
        "76b341a4690f4c32acd954a1c3a803fc": {
          "model_module": "@jupyter-widgets/controls",
          "model_name": "HTMLModel",
          "model_module_version": "1.5.0",
          "state": {
            "_dom_classes": [],
            "_model_module": "@jupyter-widgets/controls",
            "_model_module_version": "1.5.0",
            "_model_name": "HTMLModel",
            "_view_count": null,
            "_view_module": "@jupyter-widgets/controls",
            "_view_module_version": "1.5.0",
            "_view_name": "HTMLView",
            "description": "",
            "description_tooltip": null,
            "layout": "IPY_MODEL_d061e4e0a9ad43f48c69eb5605127f74",
            "placeholder": "​",
            "style": "IPY_MODEL_f2a175861a9441b2abb021a0d63e2965",
            "value": "model.safetensors: 100%"
          }
        },
        "5fc72dbb4ce94fd68a1978bd373b71ee": {
          "model_module": "@jupyter-widgets/controls",
          "model_name": "FloatProgressModel",
          "model_module_version": "1.5.0",
          "state": {
            "_dom_classes": [],
            "_model_module": "@jupyter-widgets/controls",
            "_model_module_version": "1.5.0",
            "_model_name": "FloatProgressModel",
            "_view_count": null,
            "_view_module": "@jupyter-widgets/controls",
            "_view_module_version": "1.5.0",
            "_view_name": "ProgressView",
            "bar_style": "success",
            "description": "",
            "description_tooltip": null,
            "layout": "IPY_MODEL_bf83739ba60347d98f6d802a3ea81b21",
            "max": 90868376,
            "min": 0,
            "orientation": "horizontal",
            "style": "IPY_MODEL_940e6d533944455097d307bf80a5159a",
            "value": 90868376
          }
        },
        "603bd18c52dc44f5a21d88bc23493567": {
          "model_module": "@jupyter-widgets/controls",
          "model_name": "HTMLModel",
          "model_module_version": "1.5.0",
          "state": {
            "_dom_classes": [],
            "_model_module": "@jupyter-widgets/controls",
            "_model_module_version": "1.5.0",
            "_model_name": "HTMLModel",
            "_view_count": null,
            "_view_module": "@jupyter-widgets/controls",
            "_view_module_version": "1.5.0",
            "_view_name": "HTMLView",
            "description": "",
            "description_tooltip": null,
            "layout": "IPY_MODEL_b3ca158168794ac8b178f1077a90e975",
            "placeholder": "​",
            "style": "IPY_MODEL_b2a959101a04491aba5ca60bc33cd134",
            "value": " 90.9M/90.9M [00:00&lt;00:00, 286MB/s]"
          }
        },
        "6202c15c6edf473eae699646f5c33692": {
          "model_module": "@jupyter-widgets/base",
          "model_name": "LayoutModel",
          "model_module_version": "1.2.0",
          "state": {
            "_model_module": "@jupyter-widgets/base",
            "_model_module_version": "1.2.0",
            "_model_name": "LayoutModel",
            "_view_count": null,
            "_view_module": "@jupyter-widgets/base",
            "_view_module_version": "1.2.0",
            "_view_name": "LayoutView",
            "align_content": null,
            "align_items": null,
            "align_self": null,
            "border": null,
            "bottom": null,
            "display": null,
            "flex": null,
            "flex_flow": null,
            "grid_area": null,
            "grid_auto_columns": null,
            "grid_auto_flow": null,
            "grid_auto_rows": null,
            "grid_column": null,
            "grid_gap": null,
            "grid_row": null,
            "grid_template_areas": null,
            "grid_template_columns": null,
            "grid_template_rows": null,
            "height": null,
            "justify_content": null,
            "justify_items": null,
            "left": null,
            "margin": null,
            "max_height": null,
            "max_width": null,
            "min_height": null,
            "min_width": null,
            "object_fit": null,
            "object_position": null,
            "order": null,
            "overflow": null,
            "overflow_x": null,
            "overflow_y": null,
            "padding": null,
            "right": null,
            "top": null,
            "visibility": null,
            "width": null
          }
        },
        "d061e4e0a9ad43f48c69eb5605127f74": {
          "model_module": "@jupyter-widgets/base",
          "model_name": "LayoutModel",
          "model_module_version": "1.2.0",
          "state": {
            "_model_module": "@jupyter-widgets/base",
            "_model_module_version": "1.2.0",
            "_model_name": "LayoutModel",
            "_view_count": null,
            "_view_module": "@jupyter-widgets/base",
            "_view_module_version": "1.2.0",
            "_view_name": "LayoutView",
            "align_content": null,
            "align_items": null,
            "align_self": null,
            "border": null,
            "bottom": null,
            "display": null,
            "flex": null,
            "flex_flow": null,
            "grid_area": null,
            "grid_auto_columns": null,
            "grid_auto_flow": null,
            "grid_auto_rows": null,
            "grid_column": null,
            "grid_gap": null,
            "grid_row": null,
            "grid_template_areas": null,
            "grid_template_columns": null,
            "grid_template_rows": null,
            "height": null,
            "justify_content": null,
            "justify_items": null,
            "left": null,
            "margin": null,
            "max_height": null,
            "max_width": null,
            "min_height": null,
            "min_width": null,
            "object_fit": null,
            "object_position": null,
            "order": null,
            "overflow": null,
            "overflow_x": null,
            "overflow_y": null,
            "padding": null,
            "right": null,
            "top": null,
            "visibility": null,
            "width": null
          }
        },
        "f2a175861a9441b2abb021a0d63e2965": {
          "model_module": "@jupyter-widgets/controls",
          "model_name": "DescriptionStyleModel",
          "model_module_version": "1.5.0",
          "state": {
            "_model_module": "@jupyter-widgets/controls",
            "_model_module_version": "1.5.0",
            "_model_name": "DescriptionStyleModel",
            "_view_count": null,
            "_view_module": "@jupyter-widgets/base",
            "_view_module_version": "1.2.0",
            "_view_name": "StyleView",
            "description_width": ""
          }
        },
        "bf83739ba60347d98f6d802a3ea81b21": {
          "model_module": "@jupyter-widgets/base",
          "model_name": "LayoutModel",
          "model_module_version": "1.2.0",
          "state": {
            "_model_module": "@jupyter-widgets/base",
            "_model_module_version": "1.2.0",
            "_model_name": "LayoutModel",
            "_view_count": null,
            "_view_module": "@jupyter-widgets/base",
            "_view_module_version": "1.2.0",
            "_view_name": "LayoutView",
            "align_content": null,
            "align_items": null,
            "align_self": null,
            "border": null,
            "bottom": null,
            "display": null,
            "flex": null,
            "flex_flow": null,
            "grid_area": null,
            "grid_auto_columns": null,
            "grid_auto_flow": null,
            "grid_auto_rows": null,
            "grid_column": null,
            "grid_gap": null,
            "grid_row": null,
            "grid_template_areas": null,
            "grid_template_columns": null,
            "grid_template_rows": null,
            "height": null,
            "justify_content": null,
            "justify_items": null,
            "left": null,
            "margin": null,
            "max_height": null,
            "max_width": null,
            "min_height": null,
            "min_width": null,
            "object_fit": null,
            "object_position": null,
            "order": null,
            "overflow": null,
            "overflow_x": null,
            "overflow_y": null,
            "padding": null,
            "right": null,
            "top": null,
            "visibility": null,
            "width": null
          }
        },
        "940e6d533944455097d307bf80a5159a": {
          "model_module": "@jupyter-widgets/controls",
          "model_name": "ProgressStyleModel",
          "model_module_version": "1.5.0",
          "state": {
            "_model_module": "@jupyter-widgets/controls",
            "_model_module_version": "1.5.0",
            "_model_name": "ProgressStyleModel",
            "_view_count": null,
            "_view_module": "@jupyter-widgets/base",
            "_view_module_version": "1.2.0",
            "_view_name": "StyleView",
            "bar_color": null,
            "description_width": ""
          }
        },
        "b3ca158168794ac8b178f1077a90e975": {
          "model_module": "@jupyter-widgets/base",
          "model_name": "LayoutModel",
          "model_module_version": "1.2.0",
          "state": {
            "_model_module": "@jupyter-widgets/base",
            "_model_module_version": "1.2.0",
            "_model_name": "LayoutModel",
            "_view_count": null,
            "_view_module": "@jupyter-widgets/base",
            "_view_module_version": "1.2.0",
            "_view_name": "LayoutView",
            "align_content": null,
            "align_items": null,
            "align_self": null,
            "border": null,
            "bottom": null,
            "display": null,
            "flex": null,
            "flex_flow": null,
            "grid_area": null,
            "grid_auto_columns": null,
            "grid_auto_flow": null,
            "grid_auto_rows": null,
            "grid_column": null,
            "grid_gap": null,
            "grid_row": null,
            "grid_template_areas": null,
            "grid_template_columns": null,
            "grid_template_rows": null,
            "height": null,
            "justify_content": null,
            "justify_items": null,
            "left": null,
            "margin": null,
            "max_height": null,
            "max_width": null,
            "min_height": null,
            "min_width": null,
            "object_fit": null,
            "object_position": null,
            "order": null,
            "overflow": null,
            "overflow_x": null,
            "overflow_y": null,
            "padding": null,
            "right": null,
            "top": null,
            "visibility": null,
            "width": null
          }
        },
        "b2a959101a04491aba5ca60bc33cd134": {
          "model_module": "@jupyter-widgets/controls",
          "model_name": "DescriptionStyleModel",
          "model_module_version": "1.5.0",
          "state": {
            "_model_module": "@jupyter-widgets/controls",
            "_model_module_version": "1.5.0",
            "_model_name": "DescriptionStyleModel",
            "_view_count": null,
            "_view_module": "@jupyter-widgets/base",
            "_view_module_version": "1.2.0",
            "_view_name": "StyleView",
            "description_width": ""
          }
        },
        "f2d7e3ea4aa041c18378bec044bae83e": {
          "model_module": "@jupyter-widgets/controls",
          "model_name": "HBoxModel",
          "model_module_version": "1.5.0",
          "state": {
            "_dom_classes": [],
            "_model_module": "@jupyter-widgets/controls",
            "_model_module_version": "1.5.0",
            "_model_name": "HBoxModel",
            "_view_count": null,
            "_view_module": "@jupyter-widgets/controls",
            "_view_module_version": "1.5.0",
            "_view_name": "HBoxView",
            "box_style": "",
            "children": [
              "IPY_MODEL_54439a0648f04337a6f52e0032166951",
              "IPY_MODEL_08fbce1a54694f0ba8fc7586400e31d6",
              "IPY_MODEL_0eb965b27d184ad2b2629ad6502065cc"
            ],
            "layout": "IPY_MODEL_205c0a78d1ec43fa96eb41953d686061"
          }
        },
        "54439a0648f04337a6f52e0032166951": {
          "model_module": "@jupyter-widgets/controls",
          "model_name": "HTMLModel",
          "model_module_version": "1.5.0",
          "state": {
            "_dom_classes": [],
            "_model_module": "@jupyter-widgets/controls",
            "_model_module_version": "1.5.0",
            "_model_name": "HTMLModel",
            "_view_count": null,
            "_view_module": "@jupyter-widgets/controls",
            "_view_module_version": "1.5.0",
            "_view_name": "HTMLView",
            "description": "",
            "description_tooltip": null,
            "layout": "IPY_MODEL_e900b4105fea44d58311984cbedcb24e",
            "placeholder": "​",
            "style": "IPY_MODEL_94d0f3a1d1cc48d8bac8307f503ddc3b",
            "value": "tokenizer_config.json: 100%"
          }
        },
        "08fbce1a54694f0ba8fc7586400e31d6": {
          "model_module": "@jupyter-widgets/controls",
          "model_name": "FloatProgressModel",
          "model_module_version": "1.5.0",
          "state": {
            "_dom_classes": [],
            "_model_module": "@jupyter-widgets/controls",
            "_model_module_version": "1.5.0",
            "_model_name": "FloatProgressModel",
            "_view_count": null,
            "_view_module": "@jupyter-widgets/controls",
            "_view_module_version": "1.5.0",
            "_view_name": "ProgressView",
            "bar_style": "success",
            "description": "",
            "description_tooltip": null,
            "layout": "IPY_MODEL_5b9fbb0221bd4a8e8eff5f0caea7cc75",
            "max": 350,
            "min": 0,
            "orientation": "horizontal",
            "style": "IPY_MODEL_a1d1305b640247cc93869e0de4b0f1e9",
            "value": 350
          }
        },
        "0eb965b27d184ad2b2629ad6502065cc": {
          "model_module": "@jupyter-widgets/controls",
          "model_name": "HTMLModel",
          "model_module_version": "1.5.0",
          "state": {
            "_dom_classes": [],
            "_model_module": "@jupyter-widgets/controls",
            "_model_module_version": "1.5.0",
            "_model_name": "HTMLModel",
            "_view_count": null,
            "_view_module": "@jupyter-widgets/controls",
            "_view_module_version": "1.5.0",
            "_view_name": "HTMLView",
            "description": "",
            "description_tooltip": null,
            "layout": "IPY_MODEL_9752a8e478c444e5915b0f67c8944a05",
            "placeholder": "​",
            "style": "IPY_MODEL_c4cf614f40c84782a64cc300be7d5dce",
            "value": " 350/350 [00:00&lt;00:00, 23.3kB/s]"
          }
        },
        "205c0a78d1ec43fa96eb41953d686061": {
          "model_module": "@jupyter-widgets/base",
          "model_name": "LayoutModel",
          "model_module_version": "1.2.0",
          "state": {
            "_model_module": "@jupyter-widgets/base",
            "_model_module_version": "1.2.0",
            "_model_name": "LayoutModel",
            "_view_count": null,
            "_view_module": "@jupyter-widgets/base",
            "_view_module_version": "1.2.0",
            "_view_name": "LayoutView",
            "align_content": null,
            "align_items": null,
            "align_self": null,
            "border": null,
            "bottom": null,
            "display": null,
            "flex": null,
            "flex_flow": null,
            "grid_area": null,
            "grid_auto_columns": null,
            "grid_auto_flow": null,
            "grid_auto_rows": null,
            "grid_column": null,
            "grid_gap": null,
            "grid_row": null,
            "grid_template_areas": null,
            "grid_template_columns": null,
            "grid_template_rows": null,
            "height": null,
            "justify_content": null,
            "justify_items": null,
            "left": null,
            "margin": null,
            "max_height": null,
            "max_width": null,
            "min_height": null,
            "min_width": null,
            "object_fit": null,
            "object_position": null,
            "order": null,
            "overflow": null,
            "overflow_x": null,
            "overflow_y": null,
            "padding": null,
            "right": null,
            "top": null,
            "visibility": null,
            "width": null
          }
        },
        "e900b4105fea44d58311984cbedcb24e": {
          "model_module": "@jupyter-widgets/base",
          "model_name": "LayoutModel",
          "model_module_version": "1.2.0",
          "state": {
            "_model_module": "@jupyter-widgets/base",
            "_model_module_version": "1.2.0",
            "_model_name": "LayoutModel",
            "_view_count": null,
            "_view_module": "@jupyter-widgets/base",
            "_view_module_version": "1.2.0",
            "_view_name": "LayoutView",
            "align_content": null,
            "align_items": null,
            "align_self": null,
            "border": null,
            "bottom": null,
            "display": null,
            "flex": null,
            "flex_flow": null,
            "grid_area": null,
            "grid_auto_columns": null,
            "grid_auto_flow": null,
            "grid_auto_rows": null,
            "grid_column": null,
            "grid_gap": null,
            "grid_row": null,
            "grid_template_areas": null,
            "grid_template_columns": null,
            "grid_template_rows": null,
            "height": null,
            "justify_content": null,
            "justify_items": null,
            "left": null,
            "margin": null,
            "max_height": null,
            "max_width": null,
            "min_height": null,
            "min_width": null,
            "object_fit": null,
            "object_position": null,
            "order": null,
            "overflow": null,
            "overflow_x": null,
            "overflow_y": null,
            "padding": null,
            "right": null,
            "top": null,
            "visibility": null,
            "width": null
          }
        },
        "94d0f3a1d1cc48d8bac8307f503ddc3b": {
          "model_module": "@jupyter-widgets/controls",
          "model_name": "DescriptionStyleModel",
          "model_module_version": "1.5.0",
          "state": {
            "_model_module": "@jupyter-widgets/controls",
            "_model_module_version": "1.5.0",
            "_model_name": "DescriptionStyleModel",
            "_view_count": null,
            "_view_module": "@jupyter-widgets/base",
            "_view_module_version": "1.2.0",
            "_view_name": "StyleView",
            "description_width": ""
          }
        },
        "5b9fbb0221bd4a8e8eff5f0caea7cc75": {
          "model_module": "@jupyter-widgets/base",
          "model_name": "LayoutModel",
          "model_module_version": "1.2.0",
          "state": {
            "_model_module": "@jupyter-widgets/base",
            "_model_module_version": "1.2.0",
            "_model_name": "LayoutModel",
            "_view_count": null,
            "_view_module": "@jupyter-widgets/base",
            "_view_module_version": "1.2.0",
            "_view_name": "LayoutView",
            "align_content": null,
            "align_items": null,
            "align_self": null,
            "border": null,
            "bottom": null,
            "display": null,
            "flex": null,
            "flex_flow": null,
            "grid_area": null,
            "grid_auto_columns": null,
            "grid_auto_flow": null,
            "grid_auto_rows": null,
            "grid_column": null,
            "grid_gap": null,
            "grid_row": null,
            "grid_template_areas": null,
            "grid_template_columns": null,
            "grid_template_rows": null,
            "height": null,
            "justify_content": null,
            "justify_items": null,
            "left": null,
            "margin": null,
            "max_height": null,
            "max_width": null,
            "min_height": null,
            "min_width": null,
            "object_fit": null,
            "object_position": null,
            "order": null,
            "overflow": null,
            "overflow_x": null,
            "overflow_y": null,
            "padding": null,
            "right": null,
            "top": null,
            "visibility": null,
            "width": null
          }
        },
        "a1d1305b640247cc93869e0de4b0f1e9": {
          "model_module": "@jupyter-widgets/controls",
          "model_name": "ProgressStyleModel",
          "model_module_version": "1.5.0",
          "state": {
            "_model_module": "@jupyter-widgets/controls",
            "_model_module_version": "1.5.0",
            "_model_name": "ProgressStyleModel",
            "_view_count": null,
            "_view_module": "@jupyter-widgets/base",
            "_view_module_version": "1.2.0",
            "_view_name": "StyleView",
            "bar_color": null,
            "description_width": ""
          }
        },
        "9752a8e478c444e5915b0f67c8944a05": {
          "model_module": "@jupyter-widgets/base",
          "model_name": "LayoutModel",
          "model_module_version": "1.2.0",
          "state": {
            "_model_module": "@jupyter-widgets/base",
            "_model_module_version": "1.2.0",
            "_model_name": "LayoutModel",
            "_view_count": null,
            "_view_module": "@jupyter-widgets/base",
            "_view_module_version": "1.2.0",
            "_view_name": "LayoutView",
            "align_content": null,
            "align_items": null,
            "align_self": null,
            "border": null,
            "bottom": null,
            "display": null,
            "flex": null,
            "flex_flow": null,
            "grid_area": null,
            "grid_auto_columns": null,
            "grid_auto_flow": null,
            "grid_auto_rows": null,
            "grid_column": null,
            "grid_gap": null,
            "grid_row": null,
            "grid_template_areas": null,
            "grid_template_columns": null,
            "grid_template_rows": null,
            "height": null,
            "justify_content": null,
            "justify_items": null,
            "left": null,
            "margin": null,
            "max_height": null,
            "max_width": null,
            "min_height": null,
            "min_width": null,
            "object_fit": null,
            "object_position": null,
            "order": null,
            "overflow": null,
            "overflow_x": null,
            "overflow_y": null,
            "padding": null,
            "right": null,
            "top": null,
            "visibility": null,
            "width": null
          }
        },
        "c4cf614f40c84782a64cc300be7d5dce": {
          "model_module": "@jupyter-widgets/controls",
          "model_name": "DescriptionStyleModel",
          "model_module_version": "1.5.0",
          "state": {
            "_model_module": "@jupyter-widgets/controls",
            "_model_module_version": "1.5.0",
            "_model_name": "DescriptionStyleModel",
            "_view_count": null,
            "_view_module": "@jupyter-widgets/base",
            "_view_module_version": "1.2.0",
            "_view_name": "StyleView",
            "description_width": ""
          }
        },
        "d43147e12274454eb0726e31e6bc1bd9": {
          "model_module": "@jupyter-widgets/controls",
          "model_name": "HBoxModel",
          "model_module_version": "1.5.0",
          "state": {
            "_dom_classes": [],
            "_model_module": "@jupyter-widgets/controls",
            "_model_module_version": "1.5.0",
            "_model_name": "HBoxModel",
            "_view_count": null,
            "_view_module": "@jupyter-widgets/controls",
            "_view_module_version": "1.5.0",
            "_view_name": "HBoxView",
            "box_style": "",
            "children": [
              "IPY_MODEL_e6a326b6a8df4daf861bd8c5cbdec07e",
              "IPY_MODEL_f99cd982c22e47c2a410b4a983052c5c",
              "IPY_MODEL_1cc560e2e5664bd7bda4ed973053adc0"
            ],
            "layout": "IPY_MODEL_a5e1bf55b5a04b85b89ad66e9c776c0d"
          }
        },
        "e6a326b6a8df4daf861bd8c5cbdec07e": {
          "model_module": "@jupyter-widgets/controls",
          "model_name": "HTMLModel",
          "model_module_version": "1.5.0",
          "state": {
            "_dom_classes": [],
            "_model_module": "@jupyter-widgets/controls",
            "_model_module_version": "1.5.0",
            "_model_name": "HTMLModel",
            "_view_count": null,
            "_view_module": "@jupyter-widgets/controls",
            "_view_module_version": "1.5.0",
            "_view_name": "HTMLView",
            "description": "",
            "description_tooltip": null,
            "layout": "IPY_MODEL_eb321603bd4648c4a313e6c75b397bbc",
            "placeholder": "​",
            "style": "IPY_MODEL_0c6f4ef7825e413da05b58ae503a79ef",
            "value": "vocab.txt: 100%"
          }
        },
        "f99cd982c22e47c2a410b4a983052c5c": {
          "model_module": "@jupyter-widgets/controls",
          "model_name": "FloatProgressModel",
          "model_module_version": "1.5.0",
          "state": {
            "_dom_classes": [],
            "_model_module": "@jupyter-widgets/controls",
            "_model_module_version": "1.5.0",
            "_model_name": "FloatProgressModel",
            "_view_count": null,
            "_view_module": "@jupyter-widgets/controls",
            "_view_module_version": "1.5.0",
            "_view_name": "ProgressView",
            "bar_style": "success",
            "description": "",
            "description_tooltip": null,
            "layout": "IPY_MODEL_148e2b622dbb42ee8f2609b1f950529f",
            "max": 231508,
            "min": 0,
            "orientation": "horizontal",
            "style": "IPY_MODEL_fd04751d2da3486cbe20d99fa56cb985",
            "value": 231508
          }
        },
        "1cc560e2e5664bd7bda4ed973053adc0": {
          "model_module": "@jupyter-widgets/controls",
          "model_name": "HTMLModel",
          "model_module_version": "1.5.0",
          "state": {
            "_dom_classes": [],
            "_model_module": "@jupyter-widgets/controls",
            "_model_module_version": "1.5.0",
            "_model_name": "HTMLModel",
            "_view_count": null,
            "_view_module": "@jupyter-widgets/controls",
            "_view_module_version": "1.5.0",
            "_view_name": "HTMLView",
            "description": "",
            "description_tooltip": null,
            "layout": "IPY_MODEL_9072c8eed0454e16a50c1a1678c6a7a8",
            "placeholder": "​",
            "style": "IPY_MODEL_0b5d3dd1824944828488d95bda0dfe9a",
            "value": " 232k/232k [00:00&lt;00:00, 584kB/s]"
          }
        },
        "a5e1bf55b5a04b85b89ad66e9c776c0d": {
          "model_module": "@jupyter-widgets/base",
          "model_name": "LayoutModel",
          "model_module_version": "1.2.0",
          "state": {
            "_model_module": "@jupyter-widgets/base",
            "_model_module_version": "1.2.0",
            "_model_name": "LayoutModel",
            "_view_count": null,
            "_view_module": "@jupyter-widgets/base",
            "_view_module_version": "1.2.0",
            "_view_name": "LayoutView",
            "align_content": null,
            "align_items": null,
            "align_self": null,
            "border": null,
            "bottom": null,
            "display": null,
            "flex": null,
            "flex_flow": null,
            "grid_area": null,
            "grid_auto_columns": null,
            "grid_auto_flow": null,
            "grid_auto_rows": null,
            "grid_column": null,
            "grid_gap": null,
            "grid_row": null,
            "grid_template_areas": null,
            "grid_template_columns": null,
            "grid_template_rows": null,
            "height": null,
            "justify_content": null,
            "justify_items": null,
            "left": null,
            "margin": null,
            "max_height": null,
            "max_width": null,
            "min_height": null,
            "min_width": null,
            "object_fit": null,
            "object_position": null,
            "order": null,
            "overflow": null,
            "overflow_x": null,
            "overflow_y": null,
            "padding": null,
            "right": null,
            "top": null,
            "visibility": null,
            "width": null
          }
        },
        "eb321603bd4648c4a313e6c75b397bbc": {
          "model_module": "@jupyter-widgets/base",
          "model_name": "LayoutModel",
          "model_module_version": "1.2.0",
          "state": {
            "_model_module": "@jupyter-widgets/base",
            "_model_module_version": "1.2.0",
            "_model_name": "LayoutModel",
            "_view_count": null,
            "_view_module": "@jupyter-widgets/base",
            "_view_module_version": "1.2.0",
            "_view_name": "LayoutView",
            "align_content": null,
            "align_items": null,
            "align_self": null,
            "border": null,
            "bottom": null,
            "display": null,
            "flex": null,
            "flex_flow": null,
            "grid_area": null,
            "grid_auto_columns": null,
            "grid_auto_flow": null,
            "grid_auto_rows": null,
            "grid_column": null,
            "grid_gap": null,
            "grid_row": null,
            "grid_template_areas": null,
            "grid_template_columns": null,
            "grid_template_rows": null,
            "height": null,
            "justify_content": null,
            "justify_items": null,
            "left": null,
            "margin": null,
            "max_height": null,
            "max_width": null,
            "min_height": null,
            "min_width": null,
            "object_fit": null,
            "object_position": null,
            "order": null,
            "overflow": null,
            "overflow_x": null,
            "overflow_y": null,
            "padding": null,
            "right": null,
            "top": null,
            "visibility": null,
            "width": null
          }
        },
        "0c6f4ef7825e413da05b58ae503a79ef": {
          "model_module": "@jupyter-widgets/controls",
          "model_name": "DescriptionStyleModel",
          "model_module_version": "1.5.0",
          "state": {
            "_model_module": "@jupyter-widgets/controls",
            "_model_module_version": "1.5.0",
            "_model_name": "DescriptionStyleModel",
            "_view_count": null,
            "_view_module": "@jupyter-widgets/base",
            "_view_module_version": "1.2.0",
            "_view_name": "StyleView",
            "description_width": ""
          }
        },
        "148e2b622dbb42ee8f2609b1f950529f": {
          "model_module": "@jupyter-widgets/base",
          "model_name": "LayoutModel",
          "model_module_version": "1.2.0",
          "state": {
            "_model_module": "@jupyter-widgets/base",
            "_model_module_version": "1.2.0",
            "_model_name": "LayoutModel",
            "_view_count": null,
            "_view_module": "@jupyter-widgets/base",
            "_view_module_version": "1.2.0",
            "_view_name": "LayoutView",
            "align_content": null,
            "align_items": null,
            "align_self": null,
            "border": null,
            "bottom": null,
            "display": null,
            "flex": null,
            "flex_flow": null,
            "grid_area": null,
            "grid_auto_columns": null,
            "grid_auto_flow": null,
            "grid_auto_rows": null,
            "grid_column": null,
            "grid_gap": null,
            "grid_row": null,
            "grid_template_areas": null,
            "grid_template_columns": null,
            "grid_template_rows": null,
            "height": null,
            "justify_content": null,
            "justify_items": null,
            "left": null,
            "margin": null,
            "max_height": null,
            "max_width": null,
            "min_height": null,
            "min_width": null,
            "object_fit": null,
            "object_position": null,
            "order": null,
            "overflow": null,
            "overflow_x": null,
            "overflow_y": null,
            "padding": null,
            "right": null,
            "top": null,
            "visibility": null,
            "width": null
          }
        },
        "fd04751d2da3486cbe20d99fa56cb985": {
          "model_module": "@jupyter-widgets/controls",
          "model_name": "ProgressStyleModel",
          "model_module_version": "1.5.0",
          "state": {
            "_model_module": "@jupyter-widgets/controls",
            "_model_module_version": "1.5.0",
            "_model_name": "ProgressStyleModel",
            "_view_count": null,
            "_view_module": "@jupyter-widgets/base",
            "_view_module_version": "1.2.0",
            "_view_name": "StyleView",
            "bar_color": null,
            "description_width": ""
          }
        },
        "9072c8eed0454e16a50c1a1678c6a7a8": {
          "model_module": "@jupyter-widgets/base",
          "model_name": "LayoutModel",
          "model_module_version": "1.2.0",
          "state": {
            "_model_module": "@jupyter-widgets/base",
            "_model_module_version": "1.2.0",
            "_model_name": "LayoutModel",
            "_view_count": null,
            "_view_module": "@jupyter-widgets/base",
            "_view_module_version": "1.2.0",
            "_view_name": "LayoutView",
            "align_content": null,
            "align_items": null,
            "align_self": null,
            "border": null,
            "bottom": null,
            "display": null,
            "flex": null,
            "flex_flow": null,
            "grid_area": null,
            "grid_auto_columns": null,
            "grid_auto_flow": null,
            "grid_auto_rows": null,
            "grid_column": null,
            "grid_gap": null,
            "grid_row": null,
            "grid_template_areas": null,
            "grid_template_columns": null,
            "grid_template_rows": null,
            "height": null,
            "justify_content": null,
            "justify_items": null,
            "left": null,
            "margin": null,
            "max_height": null,
            "max_width": null,
            "min_height": null,
            "min_width": null,
            "object_fit": null,
            "object_position": null,
            "order": null,
            "overflow": null,
            "overflow_x": null,
            "overflow_y": null,
            "padding": null,
            "right": null,
            "top": null,
            "visibility": null,
            "width": null
          }
        },
        "0b5d3dd1824944828488d95bda0dfe9a": {
          "model_module": "@jupyter-widgets/controls",
          "model_name": "DescriptionStyleModel",
          "model_module_version": "1.5.0",
          "state": {
            "_model_module": "@jupyter-widgets/controls",
            "_model_module_version": "1.5.0",
            "_model_name": "DescriptionStyleModel",
            "_view_count": null,
            "_view_module": "@jupyter-widgets/base",
            "_view_module_version": "1.2.0",
            "_view_name": "StyleView",
            "description_width": ""
          }
        },
        "5396215c59e64c62903171e656ba274c": {
          "model_module": "@jupyter-widgets/controls",
          "model_name": "HBoxModel",
          "model_module_version": "1.5.0",
          "state": {
            "_dom_classes": [],
            "_model_module": "@jupyter-widgets/controls",
            "_model_module_version": "1.5.0",
            "_model_name": "HBoxModel",
            "_view_count": null,
            "_view_module": "@jupyter-widgets/controls",
            "_view_module_version": "1.5.0",
            "_view_name": "HBoxView",
            "box_style": "",
            "children": [
              "IPY_MODEL_90cc2c2483cc45b1bb0a5926fe3ba7b7",
              "IPY_MODEL_b496ad64e61e46e8b7cc85c7e5bbe563",
              "IPY_MODEL_762b414422c24fdea5e9db7e79657fa4"
            ],
            "layout": "IPY_MODEL_980ce77986fd4f43b4aae5f182fab946"
          }
        },
        "90cc2c2483cc45b1bb0a5926fe3ba7b7": {
          "model_module": "@jupyter-widgets/controls",
          "model_name": "HTMLModel",
          "model_module_version": "1.5.0",
          "state": {
            "_dom_classes": [],
            "_model_module": "@jupyter-widgets/controls",
            "_model_module_version": "1.5.0",
            "_model_name": "HTMLModel",
            "_view_count": null,
            "_view_module": "@jupyter-widgets/controls",
            "_view_module_version": "1.5.0",
            "_view_name": "HTMLView",
            "description": "",
            "description_tooltip": null,
            "layout": "IPY_MODEL_60244d8b5a71430d82482315b7bfcee1",
            "placeholder": "​",
            "style": "IPY_MODEL_17a2cebe20b846268dbaab94ec90c995",
            "value": "tokenizer.json: 100%"
          }
        },
        "b496ad64e61e46e8b7cc85c7e5bbe563": {
          "model_module": "@jupyter-widgets/controls",
          "model_name": "FloatProgressModel",
          "model_module_version": "1.5.0",
          "state": {
            "_dom_classes": [],
            "_model_module": "@jupyter-widgets/controls",
            "_model_module_version": "1.5.0",
            "_model_name": "FloatProgressModel",
            "_view_count": null,
            "_view_module": "@jupyter-widgets/controls",
            "_view_module_version": "1.5.0",
            "_view_name": "ProgressView",
            "bar_style": "success",
            "description": "",
            "description_tooltip": null,
            "layout": "IPY_MODEL_c684851f808e41ddbf4586ae3304f7f3",
            "max": 466247,
            "min": 0,
            "orientation": "horizontal",
            "style": "IPY_MODEL_aafee48dee2043c6b7e0b984c8d6de6d",
            "value": 466247
          }
        },
        "762b414422c24fdea5e9db7e79657fa4": {
          "model_module": "@jupyter-widgets/controls",
          "model_name": "HTMLModel",
          "model_module_version": "1.5.0",
          "state": {
            "_dom_classes": [],
            "_model_module": "@jupyter-widgets/controls",
            "_model_module_version": "1.5.0",
            "_model_name": "HTMLModel",
            "_view_count": null,
            "_view_module": "@jupyter-widgets/controls",
            "_view_module_version": "1.5.0",
            "_view_name": "HTMLView",
            "description": "",
            "description_tooltip": null,
            "layout": "IPY_MODEL_c2e311edfb2a4639b0c21bd7e5a284f7",
            "placeholder": "​",
            "style": "IPY_MODEL_796f3862c02d4d1db5b60c114a9e90ea",
            "value": " 466k/466k [00:00&lt;00:00, 2.33MB/s]"
          }
        },
        "980ce77986fd4f43b4aae5f182fab946": {
          "model_module": "@jupyter-widgets/base",
          "model_name": "LayoutModel",
          "model_module_version": "1.2.0",
          "state": {
            "_model_module": "@jupyter-widgets/base",
            "_model_module_version": "1.2.0",
            "_model_name": "LayoutModel",
            "_view_count": null,
            "_view_module": "@jupyter-widgets/base",
            "_view_module_version": "1.2.0",
            "_view_name": "LayoutView",
            "align_content": null,
            "align_items": null,
            "align_self": null,
            "border": null,
            "bottom": null,
            "display": null,
            "flex": null,
            "flex_flow": null,
            "grid_area": null,
            "grid_auto_columns": null,
            "grid_auto_flow": null,
            "grid_auto_rows": null,
            "grid_column": null,
            "grid_gap": null,
            "grid_row": null,
            "grid_template_areas": null,
            "grid_template_columns": null,
            "grid_template_rows": null,
            "height": null,
            "justify_content": null,
            "justify_items": null,
            "left": null,
            "margin": null,
            "max_height": null,
            "max_width": null,
            "min_height": null,
            "min_width": null,
            "object_fit": null,
            "object_position": null,
            "order": null,
            "overflow": null,
            "overflow_x": null,
            "overflow_y": null,
            "padding": null,
            "right": null,
            "top": null,
            "visibility": null,
            "width": null
          }
        },
        "60244d8b5a71430d82482315b7bfcee1": {
          "model_module": "@jupyter-widgets/base",
          "model_name": "LayoutModel",
          "model_module_version": "1.2.0",
          "state": {
            "_model_module": "@jupyter-widgets/base",
            "_model_module_version": "1.2.0",
            "_model_name": "LayoutModel",
            "_view_count": null,
            "_view_module": "@jupyter-widgets/base",
            "_view_module_version": "1.2.0",
            "_view_name": "LayoutView",
            "align_content": null,
            "align_items": null,
            "align_self": null,
            "border": null,
            "bottom": null,
            "display": null,
            "flex": null,
            "flex_flow": null,
            "grid_area": null,
            "grid_auto_columns": null,
            "grid_auto_flow": null,
            "grid_auto_rows": null,
            "grid_column": null,
            "grid_gap": null,
            "grid_row": null,
            "grid_template_areas": null,
            "grid_template_columns": null,
            "grid_template_rows": null,
            "height": null,
            "justify_content": null,
            "justify_items": null,
            "left": null,
            "margin": null,
            "max_height": null,
            "max_width": null,
            "min_height": null,
            "min_width": null,
            "object_fit": null,
            "object_position": null,
            "order": null,
            "overflow": null,
            "overflow_x": null,
            "overflow_y": null,
            "padding": null,
            "right": null,
            "top": null,
            "visibility": null,
            "width": null
          }
        },
        "17a2cebe20b846268dbaab94ec90c995": {
          "model_module": "@jupyter-widgets/controls",
          "model_name": "DescriptionStyleModel",
          "model_module_version": "1.5.0",
          "state": {
            "_model_module": "@jupyter-widgets/controls",
            "_model_module_version": "1.5.0",
            "_model_name": "DescriptionStyleModel",
            "_view_count": null,
            "_view_module": "@jupyter-widgets/base",
            "_view_module_version": "1.2.0",
            "_view_name": "StyleView",
            "description_width": ""
          }
        },
        "c684851f808e41ddbf4586ae3304f7f3": {
          "model_module": "@jupyter-widgets/base",
          "model_name": "LayoutModel",
          "model_module_version": "1.2.0",
          "state": {
            "_model_module": "@jupyter-widgets/base",
            "_model_module_version": "1.2.0",
            "_model_name": "LayoutModel",
            "_view_count": null,
            "_view_module": "@jupyter-widgets/base",
            "_view_module_version": "1.2.0",
            "_view_name": "LayoutView",
            "align_content": null,
            "align_items": null,
            "align_self": null,
            "border": null,
            "bottom": null,
            "display": null,
            "flex": null,
            "flex_flow": null,
            "grid_area": null,
            "grid_auto_columns": null,
            "grid_auto_flow": null,
            "grid_auto_rows": null,
            "grid_column": null,
            "grid_gap": null,
            "grid_row": null,
            "grid_template_areas": null,
            "grid_template_columns": null,
            "grid_template_rows": null,
            "height": null,
            "justify_content": null,
            "justify_items": null,
            "left": null,
            "margin": null,
            "max_height": null,
            "max_width": null,
            "min_height": null,
            "min_width": null,
            "object_fit": null,
            "object_position": null,
            "order": null,
            "overflow": null,
            "overflow_x": null,
            "overflow_y": null,
            "padding": null,
            "right": null,
            "top": null,
            "visibility": null,
            "width": null
          }
        },
        "aafee48dee2043c6b7e0b984c8d6de6d": {
          "model_module": "@jupyter-widgets/controls",
          "model_name": "ProgressStyleModel",
          "model_module_version": "1.5.0",
          "state": {
            "_model_module": "@jupyter-widgets/controls",
            "_model_module_version": "1.5.0",
            "_model_name": "ProgressStyleModel",
            "_view_count": null,
            "_view_module": "@jupyter-widgets/base",
            "_view_module_version": "1.2.0",
            "_view_name": "StyleView",
            "bar_color": null,
            "description_width": ""
          }
        },
        "c2e311edfb2a4639b0c21bd7e5a284f7": {
          "model_module": "@jupyter-widgets/base",
          "model_name": "LayoutModel",
          "model_module_version": "1.2.0",
          "state": {
            "_model_module": "@jupyter-widgets/base",
            "_model_module_version": "1.2.0",
            "_model_name": "LayoutModel",
            "_view_count": null,
            "_view_module": "@jupyter-widgets/base",
            "_view_module_version": "1.2.0",
            "_view_name": "LayoutView",
            "align_content": null,
            "align_items": null,
            "align_self": null,
            "border": null,
            "bottom": null,
            "display": null,
            "flex": null,
            "flex_flow": null,
            "grid_area": null,
            "grid_auto_columns": null,
            "grid_auto_flow": null,
            "grid_auto_rows": null,
            "grid_column": null,
            "grid_gap": null,
            "grid_row": null,
            "grid_template_areas": null,
            "grid_template_columns": null,
            "grid_template_rows": null,
            "height": null,
            "justify_content": null,
            "justify_items": null,
            "left": null,
            "margin": null,
            "max_height": null,
            "max_width": null,
            "min_height": null,
            "min_width": null,
            "object_fit": null,
            "object_position": null,
            "order": null,
            "overflow": null,
            "overflow_x": null,
            "overflow_y": null,
            "padding": null,
            "right": null,
            "top": null,
            "visibility": null,
            "width": null
          }
        },
        "796f3862c02d4d1db5b60c114a9e90ea": {
          "model_module": "@jupyter-widgets/controls",
          "model_name": "DescriptionStyleModel",
          "model_module_version": "1.5.0",
          "state": {
            "_model_module": "@jupyter-widgets/controls",
            "_model_module_version": "1.5.0",
            "_model_name": "DescriptionStyleModel",
            "_view_count": null,
            "_view_module": "@jupyter-widgets/base",
            "_view_module_version": "1.2.0",
            "_view_name": "StyleView",
            "description_width": ""
          }
        },
        "96e7f0c9808c4e02a48c5edc26a4e7ef": {
          "model_module": "@jupyter-widgets/controls",
          "model_name": "HBoxModel",
          "model_module_version": "1.5.0",
          "state": {
            "_dom_classes": [],
            "_model_module": "@jupyter-widgets/controls",
            "_model_module_version": "1.5.0",
            "_model_name": "HBoxModel",
            "_view_count": null,
            "_view_module": "@jupyter-widgets/controls",
            "_view_module_version": "1.5.0",
            "_view_name": "HBoxView",
            "box_style": "",
            "children": [
              "IPY_MODEL_5551b5d619c445eebb9b25cd155ae659",
              "IPY_MODEL_860683c9756d4a8280544fcb5899e713",
              "IPY_MODEL_f19d04ea82d4424aa1c4216c647e5bdd"
            ],
            "layout": "IPY_MODEL_5d384f082e4746668169bac938709229"
          }
        },
        "5551b5d619c445eebb9b25cd155ae659": {
          "model_module": "@jupyter-widgets/controls",
          "model_name": "HTMLModel",
          "model_module_version": "1.5.0",
          "state": {
            "_dom_classes": [],
            "_model_module": "@jupyter-widgets/controls",
            "_model_module_version": "1.5.0",
            "_model_name": "HTMLModel",
            "_view_count": null,
            "_view_module": "@jupyter-widgets/controls",
            "_view_module_version": "1.5.0",
            "_view_name": "HTMLView",
            "description": "",
            "description_tooltip": null,
            "layout": "IPY_MODEL_4dc1d10ae0e8465ab2bd94f5def8401a",
            "placeholder": "​",
            "style": "IPY_MODEL_e092049d6ec640e8beb506c0df22d34a",
            "value": "special_tokens_map.json: 100%"
          }
        },
        "860683c9756d4a8280544fcb5899e713": {
          "model_module": "@jupyter-widgets/controls",
          "model_name": "FloatProgressModel",
          "model_module_version": "1.5.0",
          "state": {
            "_dom_classes": [],
            "_model_module": "@jupyter-widgets/controls",
            "_model_module_version": "1.5.0",
            "_model_name": "FloatProgressModel",
            "_view_count": null,
            "_view_module": "@jupyter-widgets/controls",
            "_view_module_version": "1.5.0",
            "_view_name": "ProgressView",
            "bar_style": "success",
            "description": "",
            "description_tooltip": null,
            "layout": "IPY_MODEL_ecfb52453ef0444685b5323e5ec3145d",
            "max": 112,
            "min": 0,
            "orientation": "horizontal",
            "style": "IPY_MODEL_44d484fb7c0a41a2a340ad29fa28475b",
            "value": 112
          }
        },
        "f19d04ea82d4424aa1c4216c647e5bdd": {
          "model_module": "@jupyter-widgets/controls",
          "model_name": "HTMLModel",
          "model_module_version": "1.5.0",
          "state": {
            "_dom_classes": [],
            "_model_module": "@jupyter-widgets/controls",
            "_model_module_version": "1.5.0",
            "_model_name": "HTMLModel",
            "_view_count": null,
            "_view_module": "@jupyter-widgets/controls",
            "_view_module_version": "1.5.0",
            "_view_name": "HTMLView",
            "description": "",
            "description_tooltip": null,
            "layout": "IPY_MODEL_3bb4baa751534c158e736dd6929f8883",
            "placeholder": "​",
            "style": "IPY_MODEL_612878b91bf04697af1a64d52fa2ad45",
            "value": " 112/112 [00:00&lt;00:00, 7.35kB/s]"
          }
        },
        "5d384f082e4746668169bac938709229": {
          "model_module": "@jupyter-widgets/base",
          "model_name": "LayoutModel",
          "model_module_version": "1.2.0",
          "state": {
            "_model_module": "@jupyter-widgets/base",
            "_model_module_version": "1.2.0",
            "_model_name": "LayoutModel",
            "_view_count": null,
            "_view_module": "@jupyter-widgets/base",
            "_view_module_version": "1.2.0",
            "_view_name": "LayoutView",
            "align_content": null,
            "align_items": null,
            "align_self": null,
            "border": null,
            "bottom": null,
            "display": null,
            "flex": null,
            "flex_flow": null,
            "grid_area": null,
            "grid_auto_columns": null,
            "grid_auto_flow": null,
            "grid_auto_rows": null,
            "grid_column": null,
            "grid_gap": null,
            "grid_row": null,
            "grid_template_areas": null,
            "grid_template_columns": null,
            "grid_template_rows": null,
            "height": null,
            "justify_content": null,
            "justify_items": null,
            "left": null,
            "margin": null,
            "max_height": null,
            "max_width": null,
            "min_height": null,
            "min_width": null,
            "object_fit": null,
            "object_position": null,
            "order": null,
            "overflow": null,
            "overflow_x": null,
            "overflow_y": null,
            "padding": null,
            "right": null,
            "top": null,
            "visibility": null,
            "width": null
          }
        },
        "4dc1d10ae0e8465ab2bd94f5def8401a": {
          "model_module": "@jupyter-widgets/base",
          "model_name": "LayoutModel",
          "model_module_version": "1.2.0",
          "state": {
            "_model_module": "@jupyter-widgets/base",
            "_model_module_version": "1.2.0",
            "_model_name": "LayoutModel",
            "_view_count": null,
            "_view_module": "@jupyter-widgets/base",
            "_view_module_version": "1.2.0",
            "_view_name": "LayoutView",
            "align_content": null,
            "align_items": null,
            "align_self": null,
            "border": null,
            "bottom": null,
            "display": null,
            "flex": null,
            "flex_flow": null,
            "grid_area": null,
            "grid_auto_columns": null,
            "grid_auto_flow": null,
            "grid_auto_rows": null,
            "grid_column": null,
            "grid_gap": null,
            "grid_row": null,
            "grid_template_areas": null,
            "grid_template_columns": null,
            "grid_template_rows": null,
            "height": null,
            "justify_content": null,
            "justify_items": null,
            "left": null,
            "margin": null,
            "max_height": null,
            "max_width": null,
            "min_height": null,
            "min_width": null,
            "object_fit": null,
            "object_position": null,
            "order": null,
            "overflow": null,
            "overflow_x": null,
            "overflow_y": null,
            "padding": null,
            "right": null,
            "top": null,
            "visibility": null,
            "width": null
          }
        },
        "e092049d6ec640e8beb506c0df22d34a": {
          "model_module": "@jupyter-widgets/controls",
          "model_name": "DescriptionStyleModel",
          "model_module_version": "1.5.0",
          "state": {
            "_model_module": "@jupyter-widgets/controls",
            "_model_module_version": "1.5.0",
            "_model_name": "DescriptionStyleModel",
            "_view_count": null,
            "_view_module": "@jupyter-widgets/base",
            "_view_module_version": "1.2.0",
            "_view_name": "StyleView",
            "description_width": ""
          }
        },
        "ecfb52453ef0444685b5323e5ec3145d": {
          "model_module": "@jupyter-widgets/base",
          "model_name": "LayoutModel",
          "model_module_version": "1.2.0",
          "state": {
            "_model_module": "@jupyter-widgets/base",
            "_model_module_version": "1.2.0",
            "_model_name": "LayoutModel",
            "_view_count": null,
            "_view_module": "@jupyter-widgets/base",
            "_view_module_version": "1.2.0",
            "_view_name": "LayoutView",
            "align_content": null,
            "align_items": null,
            "align_self": null,
            "border": null,
            "bottom": null,
            "display": null,
            "flex": null,
            "flex_flow": null,
            "grid_area": null,
            "grid_auto_columns": null,
            "grid_auto_flow": null,
            "grid_auto_rows": null,
            "grid_column": null,
            "grid_gap": null,
            "grid_row": null,
            "grid_template_areas": null,
            "grid_template_columns": null,
            "grid_template_rows": null,
            "height": null,
            "justify_content": null,
            "justify_items": null,
            "left": null,
            "margin": null,
            "max_height": null,
            "max_width": null,
            "min_height": null,
            "min_width": null,
            "object_fit": null,
            "object_position": null,
            "order": null,
            "overflow": null,
            "overflow_x": null,
            "overflow_y": null,
            "padding": null,
            "right": null,
            "top": null,
            "visibility": null,
            "width": null
          }
        },
        "44d484fb7c0a41a2a340ad29fa28475b": {
          "model_module": "@jupyter-widgets/controls",
          "model_name": "ProgressStyleModel",
          "model_module_version": "1.5.0",
          "state": {
            "_model_module": "@jupyter-widgets/controls",
            "_model_module_version": "1.5.0",
            "_model_name": "ProgressStyleModel",
            "_view_count": null,
            "_view_module": "@jupyter-widgets/base",
            "_view_module_version": "1.2.0",
            "_view_name": "StyleView",
            "bar_color": null,
            "description_width": ""
          }
        },
        "3bb4baa751534c158e736dd6929f8883": {
          "model_module": "@jupyter-widgets/base",
          "model_name": "LayoutModel",
          "model_module_version": "1.2.0",
          "state": {
            "_model_module": "@jupyter-widgets/base",
            "_model_module_version": "1.2.0",
            "_model_name": "LayoutModel",
            "_view_count": null,
            "_view_module": "@jupyter-widgets/base",
            "_view_module_version": "1.2.0",
            "_view_name": "LayoutView",
            "align_content": null,
            "align_items": null,
            "align_self": null,
            "border": null,
            "bottom": null,
            "display": null,
            "flex": null,
            "flex_flow": null,
            "grid_area": null,
            "grid_auto_columns": null,
            "grid_auto_flow": null,
            "grid_auto_rows": null,
            "grid_column": null,
            "grid_gap": null,
            "grid_row": null,
            "grid_template_areas": null,
            "grid_template_columns": null,
            "grid_template_rows": null,
            "height": null,
            "justify_content": null,
            "justify_items": null,
            "left": null,
            "margin": null,
            "max_height": null,
            "max_width": null,
            "min_height": null,
            "min_width": null,
            "object_fit": null,
            "object_position": null,
            "order": null,
            "overflow": null,
            "overflow_x": null,
            "overflow_y": null,
            "padding": null,
            "right": null,
            "top": null,
            "visibility": null,
            "width": null
          }
        },
        "612878b91bf04697af1a64d52fa2ad45": {
          "model_module": "@jupyter-widgets/controls",
          "model_name": "DescriptionStyleModel",
          "model_module_version": "1.5.0",
          "state": {
            "_model_module": "@jupyter-widgets/controls",
            "_model_module_version": "1.5.0",
            "_model_name": "DescriptionStyleModel",
            "_view_count": null,
            "_view_module": "@jupyter-widgets/base",
            "_view_module_version": "1.2.0",
            "_view_name": "StyleView",
            "description_width": ""
          }
        },
        "8a73c9997800453aafde8c2e8059a0e2": {
          "model_module": "@jupyter-widgets/controls",
          "model_name": "HBoxModel",
          "model_module_version": "1.5.0",
          "state": {
            "_dom_classes": [],
            "_model_module": "@jupyter-widgets/controls",
            "_model_module_version": "1.5.0",
            "_model_name": "HBoxModel",
            "_view_count": null,
            "_view_module": "@jupyter-widgets/controls",
            "_view_module_version": "1.5.0",
            "_view_name": "HBoxView",
            "box_style": "",
            "children": [
              "IPY_MODEL_63b0106859a94a77999c2565fdb59d74",
              "IPY_MODEL_b00bc21189f5480daf06179896ba6670",
              "IPY_MODEL_18bb0bd4ef7d415299eea99e98d57173"
            ],
            "layout": "IPY_MODEL_9de27a356068463184c510ad97e63e71"
          }
        },
        "63b0106859a94a77999c2565fdb59d74": {
          "model_module": "@jupyter-widgets/controls",
          "model_name": "HTMLModel",
          "model_module_version": "1.5.0",
          "state": {
            "_dom_classes": [],
            "_model_module": "@jupyter-widgets/controls",
            "_model_module_version": "1.5.0",
            "_model_name": "HTMLModel",
            "_view_count": null,
            "_view_module": "@jupyter-widgets/controls",
            "_view_module_version": "1.5.0",
            "_view_name": "HTMLView",
            "description": "",
            "description_tooltip": null,
            "layout": "IPY_MODEL_bcf9b60c99f54c5696c6d9d27d7d19a9",
            "placeholder": "​",
            "style": "IPY_MODEL_59bcee86207049bca952f8a7ee47fd7f",
            "value": "1_Pooling/config.json: 100%"
          }
        },
        "b00bc21189f5480daf06179896ba6670": {
          "model_module": "@jupyter-widgets/controls",
          "model_name": "FloatProgressModel",
          "model_module_version": "1.5.0",
          "state": {
            "_dom_classes": [],
            "_model_module": "@jupyter-widgets/controls",
            "_model_module_version": "1.5.0",
            "_model_name": "FloatProgressModel",
            "_view_count": null,
            "_view_module": "@jupyter-widgets/controls",
            "_view_module_version": "1.5.0",
            "_view_name": "ProgressView",
            "bar_style": "success",
            "description": "",
            "description_tooltip": null,
            "layout": "IPY_MODEL_3c638e67e51b410b842328221451ff39",
            "max": 190,
            "min": 0,
            "orientation": "horizontal",
            "style": "IPY_MODEL_35b3c65ea68149d18b7d0e6537ae9c23",
            "value": 190
          }
        },
        "18bb0bd4ef7d415299eea99e98d57173": {
          "model_module": "@jupyter-widgets/controls",
          "model_name": "HTMLModel",
          "model_module_version": "1.5.0",
          "state": {
            "_dom_classes": [],
            "_model_module": "@jupyter-widgets/controls",
            "_model_module_version": "1.5.0",
            "_model_name": "HTMLModel",
            "_view_count": null,
            "_view_module": "@jupyter-widgets/controls",
            "_view_module_version": "1.5.0",
            "_view_name": "HTMLView",
            "description": "",
            "description_tooltip": null,
            "layout": "IPY_MODEL_a238b6bd8bf94faf99bf8d921aa74adc",
            "placeholder": "​",
            "style": "IPY_MODEL_e575b71ea9804db6987c592ac0d4cf94",
            "value": " 190/190 [00:00&lt;00:00, 11.6kB/s]"
          }
        },
        "9de27a356068463184c510ad97e63e71": {
          "model_module": "@jupyter-widgets/base",
          "model_name": "LayoutModel",
          "model_module_version": "1.2.0",
          "state": {
            "_model_module": "@jupyter-widgets/base",
            "_model_module_version": "1.2.0",
            "_model_name": "LayoutModel",
            "_view_count": null,
            "_view_module": "@jupyter-widgets/base",
            "_view_module_version": "1.2.0",
            "_view_name": "LayoutView",
            "align_content": null,
            "align_items": null,
            "align_self": null,
            "border": null,
            "bottom": null,
            "display": null,
            "flex": null,
            "flex_flow": null,
            "grid_area": null,
            "grid_auto_columns": null,
            "grid_auto_flow": null,
            "grid_auto_rows": null,
            "grid_column": null,
            "grid_gap": null,
            "grid_row": null,
            "grid_template_areas": null,
            "grid_template_columns": null,
            "grid_template_rows": null,
            "height": null,
            "justify_content": null,
            "justify_items": null,
            "left": null,
            "margin": null,
            "max_height": null,
            "max_width": null,
            "min_height": null,
            "min_width": null,
            "object_fit": null,
            "object_position": null,
            "order": null,
            "overflow": null,
            "overflow_x": null,
            "overflow_y": null,
            "padding": null,
            "right": null,
            "top": null,
            "visibility": null,
            "width": null
          }
        },
        "bcf9b60c99f54c5696c6d9d27d7d19a9": {
          "model_module": "@jupyter-widgets/base",
          "model_name": "LayoutModel",
          "model_module_version": "1.2.0",
          "state": {
            "_model_module": "@jupyter-widgets/base",
            "_model_module_version": "1.2.0",
            "_model_name": "LayoutModel",
            "_view_count": null,
            "_view_module": "@jupyter-widgets/base",
            "_view_module_version": "1.2.0",
            "_view_name": "LayoutView",
            "align_content": null,
            "align_items": null,
            "align_self": null,
            "border": null,
            "bottom": null,
            "display": null,
            "flex": null,
            "flex_flow": null,
            "grid_area": null,
            "grid_auto_columns": null,
            "grid_auto_flow": null,
            "grid_auto_rows": null,
            "grid_column": null,
            "grid_gap": null,
            "grid_row": null,
            "grid_template_areas": null,
            "grid_template_columns": null,
            "grid_template_rows": null,
            "height": null,
            "justify_content": null,
            "justify_items": null,
            "left": null,
            "margin": null,
            "max_height": null,
            "max_width": null,
            "min_height": null,
            "min_width": null,
            "object_fit": null,
            "object_position": null,
            "order": null,
            "overflow": null,
            "overflow_x": null,
            "overflow_y": null,
            "padding": null,
            "right": null,
            "top": null,
            "visibility": null,
            "width": null
          }
        },
        "59bcee86207049bca952f8a7ee47fd7f": {
          "model_module": "@jupyter-widgets/controls",
          "model_name": "DescriptionStyleModel",
          "model_module_version": "1.5.0",
          "state": {
            "_model_module": "@jupyter-widgets/controls",
            "_model_module_version": "1.5.0",
            "_model_name": "DescriptionStyleModel",
            "_view_count": null,
            "_view_module": "@jupyter-widgets/base",
            "_view_module_version": "1.2.0",
            "_view_name": "StyleView",
            "description_width": ""
          }
        },
        "3c638e67e51b410b842328221451ff39": {
          "model_module": "@jupyter-widgets/base",
          "model_name": "LayoutModel",
          "model_module_version": "1.2.0",
          "state": {
            "_model_module": "@jupyter-widgets/base",
            "_model_module_version": "1.2.0",
            "_model_name": "LayoutModel",
            "_view_count": null,
            "_view_module": "@jupyter-widgets/base",
            "_view_module_version": "1.2.0",
            "_view_name": "LayoutView",
            "align_content": null,
            "align_items": null,
            "align_self": null,
            "border": null,
            "bottom": null,
            "display": null,
            "flex": null,
            "flex_flow": null,
            "grid_area": null,
            "grid_auto_columns": null,
            "grid_auto_flow": null,
            "grid_auto_rows": null,
            "grid_column": null,
            "grid_gap": null,
            "grid_row": null,
            "grid_template_areas": null,
            "grid_template_columns": null,
            "grid_template_rows": null,
            "height": null,
            "justify_content": null,
            "justify_items": null,
            "left": null,
            "margin": null,
            "max_height": null,
            "max_width": null,
            "min_height": null,
            "min_width": null,
            "object_fit": null,
            "object_position": null,
            "order": null,
            "overflow": null,
            "overflow_x": null,
            "overflow_y": null,
            "padding": null,
            "right": null,
            "top": null,
            "visibility": null,
            "width": null
          }
        },
        "35b3c65ea68149d18b7d0e6537ae9c23": {
          "model_module": "@jupyter-widgets/controls",
          "model_name": "ProgressStyleModel",
          "model_module_version": "1.5.0",
          "state": {
            "_model_module": "@jupyter-widgets/controls",
            "_model_module_version": "1.5.0",
            "_model_name": "ProgressStyleModel",
            "_view_count": null,
            "_view_module": "@jupyter-widgets/base",
            "_view_module_version": "1.2.0",
            "_view_name": "StyleView",
            "bar_color": null,
            "description_width": ""
          }
        },
        "a238b6bd8bf94faf99bf8d921aa74adc": {
          "model_module": "@jupyter-widgets/base",
          "model_name": "LayoutModel",
          "model_module_version": "1.2.0",
          "state": {
            "_model_module": "@jupyter-widgets/base",
            "_model_module_version": "1.2.0",
            "_model_name": "LayoutModel",
            "_view_count": null,
            "_view_module": "@jupyter-widgets/base",
            "_view_module_version": "1.2.0",
            "_view_name": "LayoutView",
            "align_content": null,
            "align_items": null,
            "align_self": null,
            "border": null,
            "bottom": null,
            "display": null,
            "flex": null,
            "flex_flow": null,
            "grid_area": null,
            "grid_auto_columns": null,
            "grid_auto_flow": null,
            "grid_auto_rows": null,
            "grid_column": null,
            "grid_gap": null,
            "grid_row": null,
            "grid_template_areas": null,
            "grid_template_columns": null,
            "grid_template_rows": null,
            "height": null,
            "justify_content": null,
            "justify_items": null,
            "left": null,
            "margin": null,
            "max_height": null,
            "max_width": null,
            "min_height": null,
            "min_width": null,
            "object_fit": null,
            "object_position": null,
            "order": null,
            "overflow": null,
            "overflow_x": null,
            "overflow_y": null,
            "padding": null,
            "right": null,
            "top": null,
            "visibility": null,
            "width": null
          }
        },
        "e575b71ea9804db6987c592ac0d4cf94": {
          "model_module": "@jupyter-widgets/controls",
          "model_name": "DescriptionStyleModel",
          "model_module_version": "1.5.0",
          "state": {
            "_model_module": "@jupyter-widgets/controls",
            "_model_module_version": "1.5.0",
            "_model_name": "DescriptionStyleModel",
            "_view_count": null,
            "_view_module": "@jupyter-widgets/base",
            "_view_module_version": "1.2.0",
            "_view_name": "StyleView",
            "description_width": ""
          }
        }
      }
    }
  },
  "nbformat": 4,
  "nbformat_minor": 0
}